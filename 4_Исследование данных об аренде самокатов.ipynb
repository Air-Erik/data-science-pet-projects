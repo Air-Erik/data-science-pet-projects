{
 "cells": [
  {
   "cell_type": "markdown",
   "id": "2c29011e",
   "metadata": {},
   "source": [
    "# Исследование данных об аренде самокатов\n",
    "\n",
    "Цель проекта - проверка некоторых гипотез о работе сервиса аренды самокатов GoFast. Набор данных состоит из 3 таблиц, содержащих данные о клиентах сервиса, поездках с использованием услуг сервиса и ценовой политикой сервиса. Помимо проверки гипотез в ходе проекта предстоит произвести анализ полученных данных и сделать выводы.\n",
    "\n",
    "Исходный данные представляют собой 3 таблицы с данными о пользователях, поездках и подписках. \n",
    "Чтобы совершать поездки по городу, пользователи сервиса GoFast пользуются мобильным приложением. Сервисом можно пользоваться:\n",
    "* без подписки\n",
    "    * абонентская плата отсутствует\n",
    "    * стоимость одной минуты поездки — 8 рублей\n",
    "    * стоимость старта (начала поездки) — 50 рублей\n",
    "* с подпиской Ultra\n",
    "    * абонентская плата — 199 рублей в месяц\n",
    "    * стоимость одной минуты поездки — 6 рублей\n",
    "    * стоимость старта — бесплатно\n",
    "\n",
    "Основные этапы проекта включают в себя загрузку данных, предварительную обработку, исследовательский анализ, объединение данных из разных источников, подсчет выручки и проверку гипотез.\n",
    "\n",
    "На этапе загрузки данных импортируются библиотеки pandas, numpy и scipy. Они необходимы для манипуляции данными. Также на этом этапе загружаются наборы данных `users_go.csv`, `rides_go.csv`, `subscriptions_go.csv`\n",
    "\n",
    "`users_go.csv` содержит следующую информацию:\n",
    "* `user_id` - уникальный идентификатор пользователя\n",
    "* `name`- имя пользователя\n",
    "* `age` - возраст\n",
    "* `city` - город\n",
    "* `subscription_type` - тип подписки (free, ultra)\n",
    "\n",
    "`rides_go.csv`содержит следующую информацию:\n",
    "* `user_id` - уникальный идентификатор пользователя\n",
    "* `distance` - расстояние, которое пользователь проехал в текущей сессии (в метрах)\n",
    "* `duration` - продолжительность сессии (в минутах) — время с того момента, как пользователь нажал кнопку «Начать поездку» до момента, как он нажал кнопку «Завершить поездку»\n",
    "* `date` - дата совершения поездки\n",
    "\n",
    "`subscriptions_go.csv` содержит следующую информацию:\n",
    "* `subscription_type` - тип подписки\n",
    "* `minute_price` - стоимость одной минуты поездки по данной подписке\n",
    "* `start_ride_price` - стоимость начала поездки\n",
    "* `subscription_fee` - стоимость ежемесячного платежа\n",
    "\n",
    "\n",
    "Предобработка данных связана с изменением типа данных в столбцах, поиском дубликатов и пропущенных значений. В ходе предобработки мы должны получить качественные данные с которыми можно работать в дальнейшем.\n",
    "\n",
    "На этапе исследовательского анализа необходимо построить метрики и визуализировать наш набор данных. Сделать выводы о распределение данных и привести описательные характеристики наборов.\n",
    "\n",
    "Так как исходный набор данных разделен на 3 таблицы, необходимо произвести объедение данных. Это нужно для удобства проверки гипотез и дальнейшей работы. Объедение наборов данных будут производиться по столбцам содержащим одинаковую информацию, таким как `user_id`\n",
    "\n",
    "Для бизнеса важны количественные метрики, такие как выручка. Поэтому необходимо посчитать сколько денег приносит каждый пользователь в каждый месяц, с учетом его данных о пользовании сервисом.\n",
    "\n",
    "На этапе проверки гипотез нам предстоит проверить 4 гипотезы, которые волнуют заказчика исследования.\n",
    "* Сравнить уровень временных затрат пользователей с подпиской и без\n",
    "* Подтвердить или опровергнуть гипотезу об оптимальном расстоянии поездки\n",
    "* Сравнить выручку, которую приносят пользователи с подпиской и без\n",
    "* Ответить на вопрос о том как проводить тестирование при внедрении новых процессов, чтобы оценить их эффективность"
   ]
  },
  {
   "cell_type": "markdown",
   "id": "9e8f0fb8",
   "metadata": {},
   "source": [
    "#### Шаг 1. Загрузка данных"
   ]
  },
  {
   "cell_type": "code",
   "execution_count": 1,
   "id": "074feea4",
   "metadata": {},
   "outputs": [],
   "source": [
    "import pandas as pd\n",
    "import numpy as np\n",
    "import matplotlib.pyplot as plt\n",
    "from scipy import stats as st"
   ]
  },
  {
   "cell_type": "code",
   "execution_count": 2,
   "id": "f7020ece",
   "metadata": {},
   "outputs": [],
   "source": [
    "users_data = pd.read_csv('/datasets/users_go.csv')\n",
    "rides_data = pd.read_csv('/datasets/rides_go.csv')\n",
    "sub_data = pd.read_csv('/datasets/subscriptions_go.csv')"
   ]
  },
  {
   "cell_type": "code",
   "execution_count": 3,
   "id": "27f7f5d5",
   "metadata": {},
   "outputs": [
    {
     "data": {
      "text/html": [
       "<div>\n",
       "<style scoped>\n",
       "    .dataframe tbody tr th:only-of-type {\n",
       "        vertical-align: middle;\n",
       "    }\n",
       "\n",
       "    .dataframe tbody tr th {\n",
       "        vertical-align: top;\n",
       "    }\n",
       "\n",
       "    .dataframe thead th {\n",
       "        text-align: right;\n",
       "    }\n",
       "</style>\n",
       "<table border=\"1\" class=\"dataframe\">\n",
       "  <thead>\n",
       "    <tr style=\"text-align: right;\">\n",
       "      <th></th>\n",
       "      <th>user_id</th>\n",
       "      <th>name</th>\n",
       "      <th>age</th>\n",
       "      <th>city</th>\n",
       "      <th>subscription_type</th>\n",
       "    </tr>\n",
       "  </thead>\n",
       "  <tbody>\n",
       "    <tr>\n",
       "      <th>0</th>\n",
       "      <td>1</td>\n",
       "      <td>Кира</td>\n",
       "      <td>22</td>\n",
       "      <td>Тюмень</td>\n",
       "      <td>ultra</td>\n",
       "    </tr>\n",
       "    <tr>\n",
       "      <th>1</th>\n",
       "      <td>2</td>\n",
       "      <td>Станислав</td>\n",
       "      <td>31</td>\n",
       "      <td>Омск</td>\n",
       "      <td>ultra</td>\n",
       "    </tr>\n",
       "    <tr>\n",
       "      <th>2</th>\n",
       "      <td>3</td>\n",
       "      <td>Алексей</td>\n",
       "      <td>20</td>\n",
       "      <td>Москва</td>\n",
       "      <td>ultra</td>\n",
       "    </tr>\n",
       "    <tr>\n",
       "      <th>3</th>\n",
       "      <td>4</td>\n",
       "      <td>Константин</td>\n",
       "      <td>26</td>\n",
       "      <td>Ростов-на-Дону</td>\n",
       "      <td>ultra</td>\n",
       "    </tr>\n",
       "    <tr>\n",
       "      <th>4</th>\n",
       "      <td>5</td>\n",
       "      <td>Адель</td>\n",
       "      <td>28</td>\n",
       "      <td>Омск</td>\n",
       "      <td>ultra</td>\n",
       "    </tr>\n",
       "  </tbody>\n",
       "</table>\n",
       "</div>"
      ],
      "text/plain": [
       "   user_id        name  age            city subscription_type\n",
       "0        1        Кира   22          Тюмень             ultra\n",
       "1        2   Станислав   31            Омск             ultra\n",
       "2        3     Алексей   20          Москва             ultra\n",
       "3        4  Константин   26  Ростов-на-Дону             ultra\n",
       "4        5       Адель   28            Омск             ultra"
      ]
     },
     "metadata": {},
     "output_type": "display_data"
    },
    {
     "data": {
      "text/html": [
       "<div>\n",
       "<style scoped>\n",
       "    .dataframe tbody tr th:only-of-type {\n",
       "        vertical-align: middle;\n",
       "    }\n",
       "\n",
       "    .dataframe tbody tr th {\n",
       "        vertical-align: top;\n",
       "    }\n",
       "\n",
       "    .dataframe thead th {\n",
       "        text-align: right;\n",
       "    }\n",
       "</style>\n",
       "<table border=\"1\" class=\"dataframe\">\n",
       "  <thead>\n",
       "    <tr style=\"text-align: right;\">\n",
       "      <th></th>\n",
       "      <th>user_id</th>\n",
       "      <th>distance</th>\n",
       "      <th>duration</th>\n",
       "      <th>date</th>\n",
       "    </tr>\n",
       "  </thead>\n",
       "  <tbody>\n",
       "    <tr>\n",
       "      <th>0</th>\n",
       "      <td>1</td>\n",
       "      <td>4409.919140</td>\n",
       "      <td>25.599769</td>\n",
       "      <td>2021-01-01</td>\n",
       "    </tr>\n",
       "    <tr>\n",
       "      <th>1</th>\n",
       "      <td>1</td>\n",
       "      <td>2617.592153</td>\n",
       "      <td>15.816871</td>\n",
       "      <td>2021-01-18</td>\n",
       "    </tr>\n",
       "    <tr>\n",
       "      <th>2</th>\n",
       "      <td>1</td>\n",
       "      <td>754.159807</td>\n",
       "      <td>6.232113</td>\n",
       "      <td>2021-04-20</td>\n",
       "    </tr>\n",
       "    <tr>\n",
       "      <th>3</th>\n",
       "      <td>1</td>\n",
       "      <td>2694.783254</td>\n",
       "      <td>18.511000</td>\n",
       "      <td>2021-08-11</td>\n",
       "    </tr>\n",
       "    <tr>\n",
       "      <th>4</th>\n",
       "      <td>1</td>\n",
       "      <td>4028.687306</td>\n",
       "      <td>26.265803</td>\n",
       "      <td>2021-08-28</td>\n",
       "    </tr>\n",
       "  </tbody>\n",
       "</table>\n",
       "</div>"
      ],
      "text/plain": [
       "   user_id     distance   duration        date\n",
       "0        1  4409.919140  25.599769  2021-01-01\n",
       "1        1  2617.592153  15.816871  2021-01-18\n",
       "2        1   754.159807   6.232113  2021-04-20\n",
       "3        1  2694.783254  18.511000  2021-08-11\n",
       "4        1  4028.687306  26.265803  2021-08-28"
      ]
     },
     "metadata": {},
     "output_type": "display_data"
    },
    {
     "data": {
      "text/html": [
       "<div>\n",
       "<style scoped>\n",
       "    .dataframe tbody tr th:only-of-type {\n",
       "        vertical-align: middle;\n",
       "    }\n",
       "\n",
       "    .dataframe tbody tr th {\n",
       "        vertical-align: top;\n",
       "    }\n",
       "\n",
       "    .dataframe thead th {\n",
       "        text-align: right;\n",
       "    }\n",
       "</style>\n",
       "<table border=\"1\" class=\"dataframe\">\n",
       "  <thead>\n",
       "    <tr style=\"text-align: right;\">\n",
       "      <th></th>\n",
       "      <th>subscription_type</th>\n",
       "      <th>minute_price</th>\n",
       "      <th>start_ride_price</th>\n",
       "      <th>subscription_fee</th>\n",
       "    </tr>\n",
       "  </thead>\n",
       "  <tbody>\n",
       "    <tr>\n",
       "      <th>0</th>\n",
       "      <td>free</td>\n",
       "      <td>8</td>\n",
       "      <td>50</td>\n",
       "      <td>0</td>\n",
       "    </tr>\n",
       "    <tr>\n",
       "      <th>1</th>\n",
       "      <td>ultra</td>\n",
       "      <td>6</td>\n",
       "      <td>0</td>\n",
       "      <td>199</td>\n",
       "    </tr>\n",
       "  </tbody>\n",
       "</table>\n",
       "</div>"
      ],
      "text/plain": [
       "  subscription_type  minute_price  start_ride_price  subscription_fee\n",
       "0              free             8                50                 0\n",
       "1             ultra             6                 0               199"
      ]
     },
     "execution_count": 3,
     "metadata": {},
     "output_type": "execute_result"
    }
   ],
   "source": [
    "display(users_data.head())\n",
    "display(rides_data.head())\n",
    "sub_data"
   ]
  },
  {
   "cell_type": "markdown",
   "id": "0153875e",
   "metadata": {},
   "source": [
    "Данные загружены корректно"
   ]
  },
  {
   "cell_type": "code",
   "execution_count": 4,
   "id": "f9e0b0ec",
   "metadata": {},
   "outputs": [
    {
     "name": "stdout",
     "output_type": "stream",
     "text": [
      "<class 'pandas.core.frame.DataFrame'>\n",
      "RangeIndex: 1565 entries, 0 to 1564\n",
      "Data columns (total 5 columns):\n",
      " #   Column             Non-Null Count  Dtype \n",
      "---  ------             --------------  ----- \n",
      " 0   user_id            1565 non-null   int64 \n",
      " 1   name               1565 non-null   object\n",
      " 2   age                1565 non-null   int64 \n",
      " 3   city               1565 non-null   object\n",
      " 4   subscription_type  1565 non-null   object\n",
      "dtypes: int64(2), object(3)\n",
      "memory usage: 61.3+ KB\n"
     ]
    },
    {
     "data": {
      "text/plain": [
       "None"
      ]
     },
     "metadata": {},
     "output_type": "display_data"
    },
    {
     "name": "stdout",
     "output_type": "stream",
     "text": [
      "<class 'pandas.core.frame.DataFrame'>\n",
      "RangeIndex: 18068 entries, 0 to 18067\n",
      "Data columns (total 4 columns):\n",
      " #   Column    Non-Null Count  Dtype  \n",
      "---  ------    --------------  -----  \n",
      " 0   user_id   18068 non-null  int64  \n",
      " 1   distance  18068 non-null  float64\n",
      " 2   duration  18068 non-null  float64\n",
      " 3   date      18068 non-null  object \n",
      "dtypes: float64(2), int64(1), object(1)\n",
      "memory usage: 564.8+ KB\n"
     ]
    },
    {
     "data": {
      "text/plain": [
       "None"
      ]
     },
     "metadata": {},
     "output_type": "display_data"
    },
    {
     "name": "stdout",
     "output_type": "stream",
     "text": [
      "<class 'pandas.core.frame.DataFrame'>\n",
      "RangeIndex: 2 entries, 0 to 1\n",
      "Data columns (total 4 columns):\n",
      " #   Column             Non-Null Count  Dtype \n",
      "---  ------             --------------  ----- \n",
      " 0   subscription_type  2 non-null      object\n",
      " 1   minute_price       2 non-null      int64 \n",
      " 2   start_ride_price   2 non-null      int64 \n",
      " 3   subscription_fee   2 non-null      int64 \n",
      "dtypes: int64(3), object(1)\n",
      "memory usage: 192.0+ bytes\n"
     ]
    }
   ],
   "source": [
    "display(users_data.info())\n",
    "display(rides_data.info())\n",
    "sub_data.info()"
   ]
  },
  {
   "cell_type": "markdown",
   "id": "a3438c03",
   "metadata": {},
   "source": [
    "Исходя из информации выше можно сделать выводы об отсутствии в данных пропусков. А также о наличии столбца с типом данных object, в котором записана дата. Необходимо изменить тип данных в этом столбце. В остальных столбцах тип данных менять не требуется"
   ]
  },
  {
   "cell_type": "markdown",
   "id": "c88d064c",
   "metadata": {},
   "source": [
    "#### Шаг 2. Предобработка данных"
   ]
  },
  {
   "cell_type": "markdown",
   "id": "bf02b9ea",
   "metadata": {},
   "source": [
    "##### Изменение типов данных"
   ]
  },
  {
   "cell_type": "markdown",
   "id": "a42f7701",
   "metadata": {},
   "source": [
    "Приведем формат столбца с датами к типу данных `datetime`"
   ]
  },
  {
   "cell_type": "code",
   "execution_count": 5,
   "id": "05843439",
   "metadata": {},
   "outputs": [
    {
     "name": "stdout",
     "output_type": "stream",
     "text": [
      "<class 'pandas.core.frame.DataFrame'>\n",
      "RangeIndex: 18068 entries, 0 to 18067\n",
      "Data columns (total 4 columns):\n",
      " #   Column    Non-Null Count  Dtype         \n",
      "---  ------    --------------  -----         \n",
      " 0   user_id   18068 non-null  int64         \n",
      " 1   distance  18068 non-null  float64       \n",
      " 2   duration  18068 non-null  float64       \n",
      " 3   date      18068 non-null  datetime64[ns]\n",
      "dtypes: datetime64[ns](1), float64(2), int64(1)\n",
      "memory usage: 564.8 KB\n"
     ]
    }
   ],
   "source": [
    "rides_data['date'] = pd.to_datetime(rides_data['date'], format='%Y-%m-%d')\n",
    "rides_data.info()"
   ]
  },
  {
   "cell_type": "markdown",
   "id": "7eb7d7ab",
   "metadata": {},
   "source": [
    "##### Создание нового столбца"
   ]
  },
  {
   "cell_type": "markdown",
   "id": "2e4bfb28",
   "metadata": {},
   "source": [
    "Создадим новый столбец с номером месяца"
   ]
  },
  {
   "cell_type": "code",
   "execution_count": 6,
   "id": "623b406c",
   "metadata": {},
   "outputs": [],
   "source": [
    "rides_data['month'] = rides_data['date'].dt.month"
   ]
  },
  {
   "cell_type": "code",
   "execution_count": 7,
   "id": "a2987b0d",
   "metadata": {},
   "outputs": [
    {
     "data": {
      "text/plain": [
       "Timestamp('2021-01-01 00:00:00')"
      ]
     },
     "metadata": {},
     "output_type": "display_data"
    },
    {
     "data": {
      "text/plain": [
       "Timestamp('2021-12-30 00:00:00')"
      ]
     },
     "execution_count": 7,
     "metadata": {},
     "output_type": "execute_result"
    }
   ],
   "source": [
    "display(rides_data['date'].min())\n",
    "rides_data['date'].max()"
   ]
  },
  {
   "cell_type": "markdown",
   "id": "84d24d8d",
   "metadata": {},
   "source": [
    "В наборе данных представлены данные о поездках за период с 1 января 2021 года по 30 декабря 2021 года"
   ]
  },
  {
   "cell_type": "markdown",
   "id": "1e6f78a7",
   "metadata": {},
   "source": [
    "##### Поиск дубликатов"
   ]
  },
  {
   "cell_type": "code",
   "execution_count": 8,
   "id": "5713cf5e",
   "metadata": {},
   "outputs": [
    {
     "data": {
      "text/plain": [
       "0"
      ]
     },
     "metadata": {},
     "output_type": "display_data"
    },
    {
     "data": {
      "text/plain": [
       "31"
      ]
     },
     "execution_count": 8,
     "metadata": {},
     "output_type": "execute_result"
    }
   ],
   "source": [
    "display(rides_data.duplicated().sum())\n",
    "users_data.duplicated().sum()"
   ]
  },
  {
   "cell_type": "markdown",
   "id": "1044bdab",
   "metadata": {},
   "source": [
    "Исходя из данных выше можно сделать вывод что в таблице rides_data нет дубликатов. Все значения уникальны. В таблице users_data есть некоторое количество повторяющихся id. Есть предположение что это могут быть дубликаты."
   ]
  },
  {
   "cell_type": "code",
   "execution_count": 9,
   "id": "a9bba7f4",
   "metadata": {
    "scrolled": false
   },
   "outputs": [
    {
     "data": {
      "text/html": [
       "<div>\n",
       "<style scoped>\n",
       "    .dataframe tbody tr th:only-of-type {\n",
       "        vertical-align: middle;\n",
       "    }\n",
       "\n",
       "    .dataframe tbody tr th {\n",
       "        vertical-align: top;\n",
       "    }\n",
       "\n",
       "    .dataframe thead th {\n",
       "        text-align: right;\n",
       "    }\n",
       "</style>\n",
       "<table border=\"1\" class=\"dataframe\">\n",
       "  <thead>\n",
       "    <tr style=\"text-align: right;\">\n",
       "      <th></th>\n",
       "      <th>user_id</th>\n",
       "      <th>name</th>\n",
       "      <th>age</th>\n",
       "      <th>city</th>\n",
       "      <th>subscription_type</th>\n",
       "    </tr>\n",
       "  </thead>\n",
       "  <tbody>\n",
       "    <tr>\n",
       "      <th>1534</th>\n",
       "      <td>293</td>\n",
       "      <td>Агата</td>\n",
       "      <td>26</td>\n",
       "      <td>Краснодар</td>\n",
       "      <td>ultra</td>\n",
       "    </tr>\n",
       "    <tr>\n",
       "      <th>1535</th>\n",
       "      <td>16</td>\n",
       "      <td>Амалия</td>\n",
       "      <td>27</td>\n",
       "      <td>Краснодар</td>\n",
       "      <td>ultra</td>\n",
       "    </tr>\n",
       "    <tr>\n",
       "      <th>1536</th>\n",
       "      <td>909</td>\n",
       "      <td>Константин</td>\n",
       "      <td>20</td>\n",
       "      <td>Екатеринбург</td>\n",
       "      <td>free</td>\n",
       "    </tr>\n",
       "    <tr>\n",
       "      <th>1537</th>\n",
       "      <td>403</td>\n",
       "      <td>Полина</td>\n",
       "      <td>19</td>\n",
       "      <td>Сочи</td>\n",
       "      <td>ultra</td>\n",
       "    </tr>\n",
       "    <tr>\n",
       "      <th>1538</th>\n",
       "      <td>908</td>\n",
       "      <td>Рустам</td>\n",
       "      <td>30</td>\n",
       "      <td>Тюмень</td>\n",
       "      <td>free</td>\n",
       "    </tr>\n",
       "    <tr>\n",
       "      <th>1539</th>\n",
       "      <td>43</td>\n",
       "      <td>Стефания</td>\n",
       "      <td>22</td>\n",
       "      <td>Омск</td>\n",
       "      <td>ultra</td>\n",
       "    </tr>\n",
       "    <tr>\n",
       "      <th>1540</th>\n",
       "      <td>127</td>\n",
       "      <td>Павел</td>\n",
       "      <td>25</td>\n",
       "      <td>Пятигорск</td>\n",
       "      <td>ultra</td>\n",
       "    </tr>\n",
       "    <tr>\n",
       "      <th>1541</th>\n",
       "      <td>659</td>\n",
       "      <td>Злата</td>\n",
       "      <td>27</td>\n",
       "      <td>Ростов-на-Дону</td>\n",
       "      <td>ultra</td>\n",
       "    </tr>\n",
       "    <tr>\n",
       "      <th>1542</th>\n",
       "      <td>204</td>\n",
       "      <td>Руслан</td>\n",
       "      <td>30</td>\n",
       "      <td>Пятигорск</td>\n",
       "      <td>ultra</td>\n",
       "    </tr>\n",
       "    <tr>\n",
       "      <th>1543</th>\n",
       "      <td>153</td>\n",
       "      <td>Герман</td>\n",
       "      <td>23</td>\n",
       "      <td>Москва</td>\n",
       "      <td>ultra</td>\n",
       "    </tr>\n",
       "    <tr>\n",
       "      <th>1544</th>\n",
       "      <td>1245</td>\n",
       "      <td>Регина</td>\n",
       "      <td>27</td>\n",
       "      <td>Пятигорск</td>\n",
       "      <td>free</td>\n",
       "    </tr>\n",
       "    <tr>\n",
       "      <th>1545</th>\n",
       "      <td>807</td>\n",
       "      <td>Александр</td>\n",
       "      <td>28</td>\n",
       "      <td>Екатеринбург</td>\n",
       "      <td>free</td>\n",
       "    </tr>\n",
       "    <tr>\n",
       "      <th>1546</th>\n",
       "      <td>924</td>\n",
       "      <td>Мария</td>\n",
       "      <td>23</td>\n",
       "      <td>Пятигорск</td>\n",
       "      <td>free</td>\n",
       "    </tr>\n",
       "    <tr>\n",
       "      <th>1547</th>\n",
       "      <td>635</td>\n",
       "      <td>Герман</td>\n",
       "      <td>21</td>\n",
       "      <td>Москва</td>\n",
       "      <td>ultra</td>\n",
       "    </tr>\n",
       "    <tr>\n",
       "      <th>1548</th>\n",
       "      <td>136</td>\n",
       "      <td>Марсель</td>\n",
       "      <td>25</td>\n",
       "      <td>Тюмень</td>\n",
       "      <td>ultra</td>\n",
       "    </tr>\n",
       "    <tr>\n",
       "      <th>1549</th>\n",
       "      <td>108</td>\n",
       "      <td>Влада</td>\n",
       "      <td>29</td>\n",
       "      <td>Тюмень</td>\n",
       "      <td>ultra</td>\n",
       "    </tr>\n",
       "    <tr>\n",
       "      <th>1550</th>\n",
       "      <td>737</td>\n",
       "      <td>Мелания</td>\n",
       "      <td>27</td>\n",
       "      <td>Ростов-на-Дону</td>\n",
       "      <td>free</td>\n",
       "    </tr>\n",
       "    <tr>\n",
       "      <th>1551</th>\n",
       "      <td>666</td>\n",
       "      <td>Зарина</td>\n",
       "      <td>29</td>\n",
       "      <td>Москва</td>\n",
       "      <td>ultra</td>\n",
       "    </tr>\n",
       "    <tr>\n",
       "      <th>1552</th>\n",
       "      <td>297</td>\n",
       "      <td>Егор</td>\n",
       "      <td>33</td>\n",
       "      <td>Пятигорск</td>\n",
       "      <td>ultra</td>\n",
       "    </tr>\n",
       "    <tr>\n",
       "      <th>1553</th>\n",
       "      <td>121</td>\n",
       "      <td>Алина</td>\n",
       "      <td>25</td>\n",
       "      <td>Пятигорск</td>\n",
       "      <td>ultra</td>\n",
       "    </tr>\n",
       "    <tr>\n",
       "      <th>1554</th>\n",
       "      <td>1198</td>\n",
       "      <td>Демид</td>\n",
       "      <td>29</td>\n",
       "      <td>Ростов-на-Дону</td>\n",
       "      <td>free</td>\n",
       "    </tr>\n",
       "    <tr>\n",
       "      <th>1555</th>\n",
       "      <td>72</td>\n",
       "      <td>Никита</td>\n",
       "      <td>25</td>\n",
       "      <td>Москва</td>\n",
       "      <td>ultra</td>\n",
       "    </tr>\n",
       "    <tr>\n",
       "      <th>1556</th>\n",
       "      <td>422</td>\n",
       "      <td>Кирилл</td>\n",
       "      <td>27</td>\n",
       "      <td>Сочи</td>\n",
       "      <td>ultra</td>\n",
       "    </tr>\n",
       "    <tr>\n",
       "      <th>1557</th>\n",
       "      <td>611</td>\n",
       "      <td>Владимир</td>\n",
       "      <td>28</td>\n",
       "      <td>Омск</td>\n",
       "      <td>ultra</td>\n",
       "    </tr>\n",
       "    <tr>\n",
       "      <th>1558</th>\n",
       "      <td>1237</td>\n",
       "      <td>Евгения</td>\n",
       "      <td>23</td>\n",
       "      <td>Тюмень</td>\n",
       "      <td>free</td>\n",
       "    </tr>\n",
       "    <tr>\n",
       "      <th>1559</th>\n",
       "      <td>209</td>\n",
       "      <td>Андрей</td>\n",
       "      <td>23</td>\n",
       "      <td>Омск</td>\n",
       "      <td>ultra</td>\n",
       "    </tr>\n",
       "    <tr>\n",
       "      <th>1560</th>\n",
       "      <td>829</td>\n",
       "      <td>Федор</td>\n",
       "      <td>29</td>\n",
       "      <td>Пятигорск</td>\n",
       "      <td>free</td>\n",
       "    </tr>\n",
       "    <tr>\n",
       "      <th>1561</th>\n",
       "      <td>809</td>\n",
       "      <td>Юрий</td>\n",
       "      <td>26</td>\n",
       "      <td>Сочи</td>\n",
       "      <td>free</td>\n",
       "    </tr>\n",
       "    <tr>\n",
       "      <th>1562</th>\n",
       "      <td>307</td>\n",
       "      <td>Ясмина</td>\n",
       "      <td>19</td>\n",
       "      <td>Краснодар</td>\n",
       "      <td>ultra</td>\n",
       "    </tr>\n",
       "    <tr>\n",
       "      <th>1563</th>\n",
       "      <td>47</td>\n",
       "      <td>Юрий</td>\n",
       "      <td>28</td>\n",
       "      <td>Тюмень</td>\n",
       "      <td>ultra</td>\n",
       "    </tr>\n",
       "    <tr>\n",
       "      <th>1564</th>\n",
       "      <td>1045</td>\n",
       "      <td>Артемий</td>\n",
       "      <td>28</td>\n",
       "      <td>Ростов-на-Дону</td>\n",
       "      <td>free</td>\n",
       "    </tr>\n",
       "  </tbody>\n",
       "</table>\n",
       "</div>"
      ],
      "text/plain": [
       "      user_id        name  age            city subscription_type\n",
       "1534      293       Агата   26       Краснодар             ultra\n",
       "1535       16      Амалия   27       Краснодар             ultra\n",
       "1536      909  Константин   20    Екатеринбург              free\n",
       "1537      403      Полина   19            Сочи             ultra\n",
       "1538      908      Рустам   30          Тюмень              free\n",
       "1539       43    Стефания   22            Омск             ultra\n",
       "1540      127       Павел   25       Пятигорск             ultra\n",
       "1541      659       Злата   27  Ростов-на-Дону             ultra\n",
       "1542      204      Руслан   30       Пятигорск             ultra\n",
       "1543      153      Герман   23          Москва             ultra\n",
       "1544     1245      Регина   27       Пятигорск              free\n",
       "1545      807   Александр   28    Екатеринбург              free\n",
       "1546      924       Мария   23       Пятигорск              free\n",
       "1547      635      Герман   21          Москва             ultra\n",
       "1548      136     Марсель   25          Тюмень             ultra\n",
       "1549      108       Влада   29          Тюмень             ultra\n",
       "1550      737     Мелания   27  Ростов-на-Дону              free\n",
       "1551      666      Зарина   29          Москва             ultra\n",
       "1552      297        Егор   33       Пятигорск             ultra\n",
       "1553      121       Алина   25       Пятигорск             ultra\n",
       "1554     1198       Демид   29  Ростов-на-Дону              free\n",
       "1555       72      Никита   25          Москва             ultra\n",
       "1556      422      Кирилл   27            Сочи             ultra\n",
       "1557      611    Владимир   28            Омск             ultra\n",
       "1558     1237     Евгения   23          Тюмень              free\n",
       "1559      209      Андрей   23            Омск             ultra\n",
       "1560      829       Федор   29       Пятигорск              free\n",
       "1561      809        Юрий   26            Сочи              free\n",
       "1562      307      Ясмина   19       Краснодар             ultra\n",
       "1563       47        Юрий   28          Тюмень             ultra\n",
       "1564     1045     Артемий   28  Ростов-на-Дону              free"
      ]
     },
     "execution_count": 9,
     "metadata": {},
     "output_type": "execute_result"
    }
   ],
   "source": [
    "users_data.loc[users_data.duplicated()]"
   ]
  },
  {
   "cell_type": "code",
   "execution_count": 10,
   "id": "81ae2939",
   "metadata": {},
   "outputs": [
    {
     "name": "stdout",
     "output_type": "stream",
     "text": [
      "<class 'pandas.core.frame.DataFrame'>\n",
      "Int64Index: 1534 entries, 0 to 1533\n",
      "Data columns (total 5 columns):\n",
      " #   Column             Non-Null Count  Dtype \n",
      "---  ------             --------------  ----- \n",
      " 0   user_id            1534 non-null   int64 \n",
      " 1   name               1534 non-null   object\n",
      " 2   age                1534 non-null   int64 \n",
      " 3   city               1534 non-null   object\n",
      " 4   subscription_type  1534 non-null   object\n",
      "dtypes: int64(2), object(3)\n",
      "memory usage: 71.9+ KB\n"
     ]
    }
   ],
   "source": [
    "users_data.drop_duplicates(inplace=True)\n",
    "users_data.info()"
   ]
  },
  {
   "cell_type": "markdown",
   "id": "649660e5",
   "metadata": {},
   "source": [
    "Дубликаты удалены"
   ]
  },
  {
   "cell_type": "markdown",
   "id": "0d423da8",
   "metadata": {},
   "source": [
    "##### Поиск пропущенных значений"
   ]
  },
  {
   "cell_type": "code",
   "execution_count": 11,
   "id": "fa4d9d2e",
   "metadata": {},
   "outputs": [
    {
     "data": {
      "text/plain": [
       "user_id              0\n",
       "name                 0\n",
       "age                  0\n",
       "city                 0\n",
       "subscription_type    0\n",
       "dtype: int64"
      ]
     },
     "metadata": {},
     "output_type": "display_data"
    },
    {
     "data": {
      "text/plain": [
       "user_id     0\n",
       "distance    0\n",
       "duration    0\n",
       "date        0\n",
       "month       0\n",
       "dtype: int64"
      ]
     },
     "metadata": {},
     "output_type": "display_data"
    },
    {
     "data": {
      "text/plain": [
       "subscription_type    0\n",
       "minute_price         0\n",
       "start_ride_price     0\n",
       "subscription_fee     0\n",
       "dtype: int64"
      ]
     },
     "execution_count": 11,
     "metadata": {},
     "output_type": "execute_result"
    }
   ],
   "source": [
    "display(users_data.isna().sum())\n",
    "display(rides_data.isna().sum())\n",
    "sub_data.isna().sum()"
   ]
  },
  {
   "cell_type": "markdown",
   "id": "53125754",
   "metadata": {},
   "source": [
    "##### Итоги предобработки данных\n",
    "\n",
    "* Изменен тип данных в столбце с датами\n",
    "* Добавлен новы столбец с номером месяца\n",
    "* Обнаружены и исключены дубликаты\n",
    "* Пропущенных значений не найдено"
   ]
  },
  {
   "cell_type": "markdown",
   "id": "7dbd69da",
   "metadata": {},
   "source": [
    "#### Шаг 3. Исследовательский анализ данных"
   ]
  },
  {
   "cell_type": "markdown",
   "id": "34f2f280",
   "metadata": {},
   "source": [
    "##### Частота встречаемости городов"
   ]
  },
  {
   "cell_type": "code",
   "execution_count": 12,
   "id": "b46d55c6",
   "metadata": {},
   "outputs": [
    {
     "data": {
      "text/plain": [
       "Пятигорск         219\n",
       "Екатеринбург      204\n",
       "Ростов-на-Дону    198\n",
       "Краснодар         193\n",
       "Сочи              189\n",
       "Омск              183\n",
       "Тюмень            180\n",
       "Москва            168\n",
       "Name: city, dtype: int64"
      ]
     },
     "execution_count": 12,
     "metadata": {},
     "output_type": "execute_result"
    },
    {
     "data": {
      "image/png": "[encoded data removed]",
      "text/plain": [
       "<Figure size 432x288 with 1 Axes>"
      ]
     },
     "metadata": {
      "needs_background": "light"
     },
     "output_type": "display_data"
    }
   ],
   "source": [
    "fig, ax = plt.subplots()\n",
    "\n",
    "data = users_data['city'].value_counts()\n",
    "x_arr = data.values\n",
    "y_arr = data.index\n",
    "\n",
    "ax.barh(y_arr, x_arr)\n",
    "plt.xlabel(\"Колличество поездок\")\n",
    "plt.ylabel(\"Города\")\n",
    "plt.title('Частота встречаемости городов')\n",
    "ax.invert_yaxis()\n",
    "\n",
    "users_data['city'].value_counts()"
   ]
  },
  {
   "cell_type": "markdown",
   "id": "97165067",
   "metadata": {},
   "source": [
    "Наиболее встречающийся город в наборе данных это Пятигорск. Меньше всего данных по Москве"
   ]
  },
  {
   "cell_type": "markdown",
   "id": "f0468ec7",
   "metadata": {},
   "source": [
    "##### Соотношение пользователей с подпиской и без подписки"
   ]
  },
  {
   "cell_type": "code",
   "execution_count": 13,
   "id": "890c258a",
   "metadata": {},
   "outputs": [
    {
     "data": {
      "text/plain": [
       "free     835\n",
       "ultra    699\n",
       "Name: subscription_type, dtype: int64"
      ]
     },
     "execution_count": 13,
     "metadata": {},
     "output_type": "execute_result"
    },
    {
     "data": {
      "image/png": "[encoded data removed]",
      "text/plain": [
       "<Figure size 432x288 with 1 Axes>"
      ]
     },
     "metadata": {},
     "output_type": "display_data"
    }
   ],
   "source": [
    "data = users_data['subscription_type'].value_counts()\n",
    "sizes = data.values\n",
    "labels = data.index\n",
    "\n",
    "fig, ax = plt.subplots()\n",
    "ax.pie(sizes, labels=labels, autopct='%1.1f%%')\n",
    "plt.title('Соотношение пользователей с подпиской и без подписки')\n",
    "\n",
    "users_data['subscription_type'].value_counts()"
   ]
  },
  {
   "cell_type": "markdown",
   "id": "4e16d61c",
   "metadata": {},
   "source": [
    "45.6% пользователей имеет подписку ultra"
   ]
  },
  {
   "cell_type": "markdown",
   "id": "2fbb826a",
   "metadata": {},
   "source": [
    "##### Возраст пользователей"
   ]
  },
  {
   "cell_type": "code",
   "execution_count": 14,
   "id": "ddf8b345",
   "metadata": {},
   "outputs": [
    {
     "data": {
      "text/plain": [
       "Text(0.5, 1.0, 'Возраст пользователей')"
      ]
     },
     "execution_count": 14,
     "metadata": {},
     "output_type": "execute_result"
    },
    {
     "data": {
      "image/png": "[encoded data removed]",
      "text/plain": [
       "<Figure size 432x288 with 1 Axes>"
      ]
     },
     "metadata": {
      "needs_background": "light"
     },
     "output_type": "display_data"
    }
   ],
   "source": [
    "data = users_data['age'].value_counts(sort=False)\n",
    "age = data.index\n",
    "value = data.values\n",
    "\n",
    "fig, ax = plt.subplots()\n",
    "\n",
    "ax.bar(age, value)\n",
    "plt.xlabel('Возраст')\n",
    "plt.ylabel('Количество людей')\n",
    "plt.title('Возраст пользователей')"
   ]
  },
  {
   "cell_type": "code",
   "execution_count": 15,
   "id": "4b7796f3",
   "metadata": {
    "scrolled": false
   },
   "outputs": [
    {
     "data": {
      "text/plain": [
       "count    1534.000000\n",
       "mean       24.903520\n",
       "std         4.572367\n",
       "min        12.000000\n",
       "25%        22.000000\n",
       "50%        25.000000\n",
       "75%        28.000000\n",
       "max        43.000000\n",
       "Name: age, dtype: float64"
      ]
     },
     "execution_count": 15,
     "metadata": {},
     "output_type": "execute_result"
    },
    {
     "data": {
      "image/png": "[encoded data removed]",
      "text/plain": [
       "<Figure size 432x288 with 1 Axes>"
      ]
     },
     "metadata": {
      "needs_background": "light"
     },
     "output_type": "display_data"
    }
   ],
   "source": [
    "users_data.boxplot(column='age')\n",
    "\n",
    "plt.xlabel('Возраст')\n",
    "plt.ylabel('Количество людей')\n",
    "plt.title('Возраст пользователей')\n",
    "\n",
    "users_data['age'].describe()"
   ]
  },
  {
   "cell_type": "markdown",
   "id": "7f20c30b",
   "metadata": {},
   "source": [
    "Распределние возрастов имеет вид нормального распределния с математическим ожиданием равным 25 годам. Половина всех пользователей имеет возраст от 22 до 28 лет."
   ]
  },
  {
   "cell_type": "markdown",
   "id": "b7b74b7b",
   "metadata": {},
   "source": [
    "##### Расстояние, которое пользователь преодолел за одну поездку"
   ]
  },
  {
   "cell_type": "code",
   "execution_count": 16,
   "id": "a1704c91",
   "metadata": {},
   "outputs": [
    {
     "data": {
      "text/plain": [
       "count    18068.000000\n",
       "mean      3070.659976\n",
       "std       1116.831209\n",
       "min          0.855683\n",
       "25%       2543.226360\n",
       "50%       3133.609994\n",
       "75%       3776.222735\n",
       "max       7211.007745\n",
       "Name: distance, dtype: float64"
      ]
     },
     "execution_count": 16,
     "metadata": {},
     "output_type": "execute_result"
    },
    {
     "data": {
      "image/png": "[encoded data removed]",
      "text/plain": [
       "<Figure size 432x288 with 1 Axes>"
      ]
     },
     "metadata": {
      "needs_background": "light"
     },
     "output_type": "display_data"
    }
   ],
   "source": [
    "rides_data['distance'].hist(bins=100)\n",
    "\n",
    "plt.xlabel('Расстояние')\n",
    "plt.ylabel('Количество поездок')\n",
    "plt.title('Расстояние, которое пользователь преодолел за одну поездку')\n",
    "\n",
    "rides_data['distance'].describe()"
   ]
  },
  {
   "cell_type": "code",
   "execution_count": 17,
   "id": "68810d75",
   "metadata": {},
   "outputs": [
    {
     "data": {
      "text/plain": [
       "count    1796.000000\n",
       "mean      703.889720\n",
       "std       368.353542\n",
       "min         0.855683\n",
       "25%       414.315810\n",
       "50%       687.536713\n",
       "75%       985.430276\n",
       "max      1499.565830\n",
       "Name: distance, dtype: float64"
      ]
     },
     "execution_count": 17,
     "metadata": {},
     "output_type": "execute_result"
    },
    {
     "data": {
      "image/png": "[encoded data removed]",
      "text/plain": [
       "<Figure size 432x288 with 1 Axes>"
      ]
     },
     "metadata": {
      "needs_background": "light"
     },
     "output_type": "display_data"
    }
   ],
   "source": [
    "rides_data['distance'].hist(bins=40, range=(0, 1500))\n",
    "\n",
    "plt.xlabel('Расстояние')\n",
    "plt.ylabel('Количество поездок')\n",
    "plt.title('Расстояние, которое пользователь преодолел за одну поездку до 1500м')\n",
    "\n",
    "rides_data.loc[rides_data['distance'] < 1500, 'distance'].describe()"
   ]
  },
  {
   "cell_type": "markdown",
   "id": "4f3ef0fc",
   "metadata": {},
   "source": [
    "Данные о расстоянии поездки имеет сложный вид. Два нормальных распределения наложенные друг на друга. Первое распределение от 0 до 1500 м. С локальным пиком в районе 680 м. Второй главный пик находится в районе 3100 м.\n",
    "\n",
    "Из этого можно сделать вывод, что есть две категории поездок по расстоянию. На короткие и длинные расстояния\n",
    "\n",
    "Могу предположить что это связано со сценариями использования самокатов. Как городского транспорта \"последнего километра\" и как транспорт на более дальнее расстояния. Возможно как прогулочный или экскурсионный. Данные гипотезы и предположения требуют отдельного исследования и не буду рассматриваться в рамках данной работы"
   ]
  },
  {
   "cell_type": "markdown",
   "id": "3e512faf",
   "metadata": {},
   "source": [
    "##### Продолжительность поездок"
   ]
  },
  {
   "cell_type": "code",
   "execution_count": 18,
   "id": "8611573c",
   "metadata": {},
   "outputs": [
    {
     "data": {
      "text/plain": [
       "count    18068.000000\n",
       "mean        17.805011\n",
       "std          6.091051\n",
       "min          0.500000\n",
       "25%         13.597563\n",
       "50%         17.678395\n",
       "75%         21.724800\n",
       "max         40.823963\n",
       "Name: duration, dtype: float64"
      ]
     },
     "execution_count": 18,
     "metadata": {},
     "output_type": "execute_result"
    },
    {
     "data": {
      "image/png": "[encoded data removed]",
      "text/plain": [
       "<Figure size 432x288 with 1 Axes>"
      ]
     },
     "metadata": {
      "needs_background": "light"
     },
     "output_type": "display_data"
    }
   ],
   "source": [
    "rides_data['duration'].hist(bins=100)\n",
    "\n",
    "plt.xlabel('Время поездки')\n",
    "plt.ylabel('Количество поездок')\n",
    "plt.title('Продолжительность поездок')\n",
    "\n",
    "rides_data['duration'].describe()"
   ]
  },
  {
   "cell_type": "code",
   "execution_count": 19,
   "id": "fb05fd7e",
   "metadata": {},
   "outputs": [
    {
     "data": {
      "text/plain": [
       "Text(0.5, 1.0, 'Продолжительность поездок')"
      ]
     },
     "execution_count": 19,
     "metadata": {},
     "output_type": "execute_result"
    },
    {
     "data": {
      "image/png": "[encoded data removed]",
      "text/plain": [
       "<Figure size 432x288 with 1 Axes>"
      ]
     },
     "metadata": {
      "needs_background": "light"
     },
     "output_type": "display_data"
    }
   ],
   "source": [
    "rides_data.boxplot(column='duration')\n",
    "\n",
    "plt.xlabel('Время поездки')\n",
    "plt.ylabel('Количество поездок')\n",
    "plt.title('Продолжительность поездок')"
   ]
  },
  {
   "cell_type": "code",
   "execution_count": 20,
   "id": "c7eb72c5",
   "metadata": {},
   "outputs": [
    {
     "data": {
      "text/plain": [
       "Text(0.5, 1.0, 'Продолжительность поездок до 5 минут')"
      ]
     },
     "execution_count": 20,
     "metadata": {},
     "output_type": "execute_result"
    },
    {
     "data": {
      "image/png": "[encoded data removed]",
      "text/plain": [
       "<Figure size 432x288 with 1 Axes>"
      ]
     },
     "metadata": {
      "needs_background": "light"
     },
     "output_type": "display_data"
    }
   ],
   "source": [
    "rides_data.loc[rides_data['duration'] < 5, 'duration'].hist(bins=10)\n",
    "rides_data.loc[rides_data['duration'] < 1, 'duration'].count()\n",
    "\n",
    "plt.xlabel('Время поездки')\n",
    "plt.ylabel('Количество поездок')\n",
    "plt.title('Продолжительность поездок до 5 минут')"
   ]
  },
  {
   "cell_type": "markdown",
   "id": "9c82b229",
   "metadata": {},
   "source": [
    "Длительность поездки имеет нормальное распределние. Имеет место локальный пик для длительности менее 1 минуты. Предпологаю это связано с арендами которые взяты по ошибке"
   ]
  },
  {
   "cell_type": "code",
   "execution_count": 21,
   "id": "44c2d327",
   "metadata": {},
   "outputs": [
    {
     "data": {
      "text/plain": [
       "Text(0.5, 1.0, 'Продолжительность поездок')"
      ]
     },
     "execution_count": 21,
     "metadata": {},
     "output_type": "execute_result"
    },
    {
     "data": {
      "image/png": "[encoded data removed]",
      "text/plain": [
       "<Figure size 432x288 with 1 Axes>"
      ]
     },
     "metadata": {
      "needs_background": "light"
     },
     "output_type": "display_data"
    }
   ],
   "source": [
    "rides_data.query('duration < 1')['distance'].hist(bins=50)\n",
    "rides_data.query('duration < 1')\n",
    "\n",
    "plt.xlabel('Время поездки')\n",
    "plt.ylabel('Количество поездок')\n",
    "plt.title('Продолжительность поездок')"
   ]
  },
  {
   "cell_type": "markdown",
   "id": "e129e2c5",
   "metadata": {},
   "source": [
    "Предположение оказалось некорректным. Имеет место ошибка в учете времени для данных поездок. Так как за время меньше 1 минуты нельзя проехать расстояние более 4000м. Эти данные необходимо исключить"
   ]
  },
  {
   "cell_type": "code",
   "execution_count": 22,
   "id": "4fa019c3",
   "metadata": {},
   "outputs": [
    {
     "data": {
      "text/html": [
       "<div>\n",
       "<style scoped>\n",
       "    .dataframe tbody tr th:only-of-type {\n",
       "        vertical-align: middle;\n",
       "    }\n",
       "\n",
       "    .dataframe tbody tr th {\n",
       "        vertical-align: top;\n",
       "    }\n",
       "\n",
       "    .dataframe thead th {\n",
       "        text-align: right;\n",
       "    }\n",
       "</style>\n",
       "<table border=\"1\" class=\"dataframe\">\n",
       "  <thead>\n",
       "    <tr style=\"text-align: right;\">\n",
       "      <th></th>\n",
       "      <th>user_id</th>\n",
       "      <th>distance</th>\n",
       "      <th>duration</th>\n",
       "      <th>date</th>\n",
       "      <th>month</th>\n",
       "    </tr>\n",
       "  </thead>\n",
       "  <tbody>\n",
       "    <tr>\n",
       "      <th>0</th>\n",
       "      <td>1</td>\n",
       "      <td>4409.919140</td>\n",
       "      <td>25.599769</td>\n",
       "      <td>2021-01-01</td>\n",
       "      <td>1</td>\n",
       "    </tr>\n",
       "    <tr>\n",
       "      <th>1</th>\n",
       "      <td>1</td>\n",
       "      <td>2617.592153</td>\n",
       "      <td>15.816871</td>\n",
       "      <td>2021-01-18</td>\n",
       "      <td>1</td>\n",
       "    </tr>\n",
       "    <tr>\n",
       "      <th>2</th>\n",
       "      <td>1</td>\n",
       "      <td>754.159807</td>\n",
       "      <td>6.232113</td>\n",
       "      <td>2021-04-20</td>\n",
       "      <td>4</td>\n",
       "    </tr>\n",
       "    <tr>\n",
       "      <th>3</th>\n",
       "      <td>1</td>\n",
       "      <td>2694.783254</td>\n",
       "      <td>18.511000</td>\n",
       "      <td>2021-08-11</td>\n",
       "      <td>8</td>\n",
       "    </tr>\n",
       "    <tr>\n",
       "      <th>4</th>\n",
       "      <td>1</td>\n",
       "      <td>4028.687306</td>\n",
       "      <td>26.265803</td>\n",
       "      <td>2021-08-28</td>\n",
       "      <td>8</td>\n",
       "    </tr>\n",
       "    <tr>\n",
       "      <th>...</th>\n",
       "      <td>...</td>\n",
       "      <td>...</td>\n",
       "      <td>...</td>\n",
       "      <td>...</td>\n",
       "      <td>...</td>\n",
       "    </tr>\n",
       "    <tr>\n",
       "      <th>18063</th>\n",
       "      <td>1534</td>\n",
       "      <td>3781.098080</td>\n",
       "      <td>19.822962</td>\n",
       "      <td>2021-11-04</td>\n",
       "      <td>11</td>\n",
       "    </tr>\n",
       "    <tr>\n",
       "      <th>18064</th>\n",
       "      <td>1534</td>\n",
       "      <td>2840.423057</td>\n",
       "      <td>21.409799</td>\n",
       "      <td>2021-11-16</td>\n",
       "      <td>11</td>\n",
       "    </tr>\n",
       "    <tr>\n",
       "      <th>18065</th>\n",
       "      <td>1534</td>\n",
       "      <td>3826.185507</td>\n",
       "      <td>18.435051</td>\n",
       "      <td>2021-11-18</td>\n",
       "      <td>11</td>\n",
       "    </tr>\n",
       "    <tr>\n",
       "      <th>18066</th>\n",
       "      <td>1534</td>\n",
       "      <td>2902.308661</td>\n",
       "      <td>16.674362</td>\n",
       "      <td>2021-11-27</td>\n",
       "      <td>11</td>\n",
       "    </tr>\n",
       "    <tr>\n",
       "      <th>18067</th>\n",
       "      <td>1534</td>\n",
       "      <td>2371.711192</td>\n",
       "      <td>15.893917</td>\n",
       "      <td>2021-12-29</td>\n",
       "      <td>12</td>\n",
       "    </tr>\n",
       "  </tbody>\n",
       "</table>\n",
       "<p>17973 rows × 5 columns</p>\n",
       "</div>"
      ],
      "text/plain": [
       "       user_id     distance   duration       date  month\n",
       "0            1  4409.919140  25.599769 2021-01-01      1\n",
       "1            1  2617.592153  15.816871 2021-01-18      1\n",
       "2            1   754.159807   6.232113 2021-04-20      4\n",
       "3            1  2694.783254  18.511000 2021-08-11      8\n",
       "4            1  4028.687306  26.265803 2021-08-28      8\n",
       "...        ...          ...        ...        ...    ...\n",
       "18063     1534  3781.098080  19.822962 2021-11-04     11\n",
       "18064     1534  2840.423057  21.409799 2021-11-16     11\n",
       "18065     1534  3826.185507  18.435051 2021-11-18     11\n",
       "18066     1534  2902.308661  16.674362 2021-11-27     11\n",
       "18067     1534  2371.711192  15.893917 2021-12-29     12\n",
       "\n",
       "[17973 rows x 5 columns]"
      ]
     },
     "execution_count": 22,
     "metadata": {},
     "output_type": "execute_result"
    }
   ],
   "source": [
    "rides_data = rides_data.query('duration > 1')\n",
    "rides_data"
   ]
  },
  {
   "cell_type": "markdown",
   "id": "2a454dd6",
   "metadata": {},
   "source": [
    "##### Итоги исследовательского анализа данных"
   ]
  },
  {
   "cell_type": "markdown",
   "id": "0fca683e",
   "metadata": {},
   "source": [
    "Данные по поездкам и пользователям были исследованы и описаны. Построены графики распределения значений. Описаны виды распределений. Были выявлены характерные значения. Описаны аномалии в данных и даны гипотезы их возникновения."
   ]
  },
  {
   "cell_type": "markdown",
   "id": "604455c4",
   "metadata": {},
   "source": [
    "#### Шаг 4. Объединение данных"
   ]
  },
  {
   "cell_type": "markdown",
   "id": "f3caf06e",
   "metadata": {},
   "source": [
    "##### Объединение датафреймов"
   ]
  },
  {
   "cell_type": "code",
   "execution_count": 23,
   "id": "b5a5e0b0",
   "metadata": {},
   "outputs": [
    {
     "data": {
      "text/html": [
       "<div>\n",
       "<style scoped>\n",
       "    .dataframe tbody tr th:only-of-type {\n",
       "        vertical-align: middle;\n",
       "    }\n",
       "\n",
       "    .dataframe tbody tr th {\n",
       "        vertical-align: top;\n",
       "    }\n",
       "\n",
       "    .dataframe thead th {\n",
       "        text-align: right;\n",
       "    }\n",
       "</style>\n",
       "<table border=\"1\" class=\"dataframe\">\n",
       "  <thead>\n",
       "    <tr style=\"text-align: right;\">\n",
       "      <th></th>\n",
       "      <th>user_id</th>\n",
       "      <th>distance</th>\n",
       "      <th>duration</th>\n",
       "      <th>date</th>\n",
       "      <th>month</th>\n",
       "      <th>name</th>\n",
       "      <th>age</th>\n",
       "      <th>city</th>\n",
       "      <th>subscription_type</th>\n",
       "      <th>minute_price</th>\n",
       "      <th>start_ride_price</th>\n",
       "      <th>subscription_fee</th>\n",
       "    </tr>\n",
       "  </thead>\n",
       "  <tbody>\n",
       "    <tr>\n",
       "      <th>0</th>\n",
       "      <td>1</td>\n",
       "      <td>4409.919140</td>\n",
       "      <td>25.599769</td>\n",
       "      <td>2021-01-01</td>\n",
       "      <td>1</td>\n",
       "      <td>Кира</td>\n",
       "      <td>22</td>\n",
       "      <td>Тюмень</td>\n",
       "      <td>ultra</td>\n",
       "      <td>6</td>\n",
       "      <td>0</td>\n",
       "      <td>199</td>\n",
       "    </tr>\n",
       "    <tr>\n",
       "      <th>1</th>\n",
       "      <td>1</td>\n",
       "      <td>2617.592153</td>\n",
       "      <td>15.816871</td>\n",
       "      <td>2021-01-18</td>\n",
       "      <td>1</td>\n",
       "      <td>Кира</td>\n",
       "      <td>22</td>\n",
       "      <td>Тюмень</td>\n",
       "      <td>ultra</td>\n",
       "      <td>6</td>\n",
       "      <td>0</td>\n",
       "      <td>199</td>\n",
       "    </tr>\n",
       "    <tr>\n",
       "      <th>2</th>\n",
       "      <td>1</td>\n",
       "      <td>754.159807</td>\n",
       "      <td>6.232113</td>\n",
       "      <td>2021-04-20</td>\n",
       "      <td>4</td>\n",
       "      <td>Кира</td>\n",
       "      <td>22</td>\n",
       "      <td>Тюмень</td>\n",
       "      <td>ultra</td>\n",
       "      <td>6</td>\n",
       "      <td>0</td>\n",
       "      <td>199</td>\n",
       "    </tr>\n",
       "    <tr>\n",
       "      <th>3</th>\n",
       "      <td>1</td>\n",
       "      <td>2694.783254</td>\n",
       "      <td>18.511000</td>\n",
       "      <td>2021-08-11</td>\n",
       "      <td>8</td>\n",
       "      <td>Кира</td>\n",
       "      <td>22</td>\n",
       "      <td>Тюмень</td>\n",
       "      <td>ultra</td>\n",
       "      <td>6</td>\n",
       "      <td>0</td>\n",
       "      <td>199</td>\n",
       "    </tr>\n",
       "    <tr>\n",
       "      <th>4</th>\n",
       "      <td>1</td>\n",
       "      <td>4028.687306</td>\n",
       "      <td>26.265803</td>\n",
       "      <td>2021-08-28</td>\n",
       "      <td>8</td>\n",
       "      <td>Кира</td>\n",
       "      <td>22</td>\n",
       "      <td>Тюмень</td>\n",
       "      <td>ultra</td>\n",
       "      <td>6</td>\n",
       "      <td>0</td>\n",
       "      <td>199</td>\n",
       "    </tr>\n",
       "    <tr>\n",
       "      <th>...</th>\n",
       "      <td>...</td>\n",
       "      <td>...</td>\n",
       "      <td>...</td>\n",
       "      <td>...</td>\n",
       "      <td>...</td>\n",
       "      <td>...</td>\n",
       "      <td>...</td>\n",
       "      <td>...</td>\n",
       "      <td>...</td>\n",
       "      <td>...</td>\n",
       "      <td>...</td>\n",
       "      <td>...</td>\n",
       "    </tr>\n",
       "    <tr>\n",
       "      <th>17968</th>\n",
       "      <td>1534</td>\n",
       "      <td>3781.098080</td>\n",
       "      <td>19.822962</td>\n",
       "      <td>2021-11-04</td>\n",
       "      <td>11</td>\n",
       "      <td>Альберт</td>\n",
       "      <td>25</td>\n",
       "      <td>Краснодар</td>\n",
       "      <td>free</td>\n",
       "      <td>8</td>\n",
       "      <td>50</td>\n",
       "      <td>0</td>\n",
       "    </tr>\n",
       "    <tr>\n",
       "      <th>17969</th>\n",
       "      <td>1534</td>\n",
       "      <td>2840.423057</td>\n",
       "      <td>21.409799</td>\n",
       "      <td>2021-11-16</td>\n",
       "      <td>11</td>\n",
       "      <td>Альберт</td>\n",
       "      <td>25</td>\n",
       "      <td>Краснодар</td>\n",
       "      <td>free</td>\n",
       "      <td>8</td>\n",
       "      <td>50</td>\n",
       "      <td>0</td>\n",
       "    </tr>\n",
       "    <tr>\n",
       "      <th>17970</th>\n",
       "      <td>1534</td>\n",
       "      <td>3826.185507</td>\n",
       "      <td>18.435051</td>\n",
       "      <td>2021-11-18</td>\n",
       "      <td>11</td>\n",
       "      <td>Альберт</td>\n",
       "      <td>25</td>\n",
       "      <td>Краснодар</td>\n",
       "      <td>free</td>\n",
       "      <td>8</td>\n",
       "      <td>50</td>\n",
       "      <td>0</td>\n",
       "    </tr>\n",
       "    <tr>\n",
       "      <th>17971</th>\n",
       "      <td>1534</td>\n",
       "      <td>2902.308661</td>\n",
       "      <td>16.674362</td>\n",
       "      <td>2021-11-27</td>\n",
       "      <td>11</td>\n",
       "      <td>Альберт</td>\n",
       "      <td>25</td>\n",
       "      <td>Краснодар</td>\n",
       "      <td>free</td>\n",
       "      <td>8</td>\n",
       "      <td>50</td>\n",
       "      <td>0</td>\n",
       "    </tr>\n",
       "    <tr>\n",
       "      <th>17972</th>\n",
       "      <td>1534</td>\n",
       "      <td>2371.711192</td>\n",
       "      <td>15.893917</td>\n",
       "      <td>2021-12-29</td>\n",
       "      <td>12</td>\n",
       "      <td>Альберт</td>\n",
       "      <td>25</td>\n",
       "      <td>Краснодар</td>\n",
       "      <td>free</td>\n",
       "      <td>8</td>\n",
       "      <td>50</td>\n",
       "      <td>0</td>\n",
       "    </tr>\n",
       "  </tbody>\n",
       "</table>\n",
       "<p>17973 rows × 12 columns</p>\n",
       "</div>"
      ],
      "text/plain": [
       "       user_id     distance   duration       date  month     name  age  \\\n",
       "0            1  4409.919140  25.599769 2021-01-01      1     Кира   22   \n",
       "1            1  2617.592153  15.816871 2021-01-18      1     Кира   22   \n",
       "2            1   754.159807   6.232113 2021-04-20      4     Кира   22   \n",
       "3            1  2694.783254  18.511000 2021-08-11      8     Кира   22   \n",
       "4            1  4028.687306  26.265803 2021-08-28      8     Кира   22   \n",
       "...        ...          ...        ...        ...    ...      ...  ...   \n",
       "17968     1534  3781.098080  19.822962 2021-11-04     11  Альберт   25   \n",
       "17969     1534  2840.423057  21.409799 2021-11-16     11  Альберт   25   \n",
       "17970     1534  3826.185507  18.435051 2021-11-18     11  Альберт   25   \n",
       "17971     1534  2902.308661  16.674362 2021-11-27     11  Альберт   25   \n",
       "17972     1534  2371.711192  15.893917 2021-12-29     12  Альберт   25   \n",
       "\n",
       "            city subscription_type  minute_price  start_ride_price  \\\n",
       "0         Тюмень             ultra             6                 0   \n",
       "1         Тюмень             ultra             6                 0   \n",
       "2         Тюмень             ultra             6                 0   \n",
       "3         Тюмень             ultra             6                 0   \n",
       "4         Тюмень             ultra             6                 0   \n",
       "...          ...               ...           ...               ...   \n",
       "17968  Краснодар              free             8                50   \n",
       "17969  Краснодар              free             8                50   \n",
       "17970  Краснодар              free             8                50   \n",
       "17971  Краснодар              free             8                50   \n",
       "17972  Краснодар              free             8                50   \n",
       "\n",
       "       subscription_fee  \n",
       "0                   199  \n",
       "1                   199  \n",
       "2                   199  \n",
       "3                   199  \n",
       "4                   199  \n",
       "...                 ...  \n",
       "17968                 0  \n",
       "17969                 0  \n",
       "17970                 0  \n",
       "17971                 0  \n",
       "17972                 0  \n",
       "\n",
       "[17973 rows x 12 columns]"
      ]
     },
     "execution_count": 23,
     "metadata": {},
     "output_type": "execute_result"
    }
   ],
   "source": [
    "all_data = rides_data.merge(users_data, on='user_id')\n",
    "all_data = all_data.merge(sub_data, on='subscription_type')\n",
    "all_data"
   ]
  },
  {
   "cell_type": "code",
   "execution_count": 24,
   "id": "e0cdc6ff",
   "metadata": {},
   "outputs": [
    {
     "name": "stdout",
     "output_type": "stream",
     "text": [
      "Всего строк в объединённой таблице:  17973\n",
      "Строк в таблице поездок:  17973\n",
      "Строк в таблице пользователей:  1534\n"
     ]
    }
   ],
   "source": [
    "print('Всего строк в объединённой таблице: ', all_data['user_id'].count())\n",
    "print('Строк в таблице поездок: ', rides_data['user_id'].count())\n",
    "print('Строк в таблице пользователей: ', users_data['user_id'].count())"
   ]
  },
  {
   "cell_type": "markdown",
   "id": "2143eed5",
   "metadata": {},
   "source": [
    "Количество строк в финальной таблице равно количеству строк в таблице поездок. При объединении ничего не потеряно и не добавлено лишнего."
   ]
  },
  {
   "cell_type": "markdown",
   "id": "bf228583",
   "metadata": {},
   "source": [
    "##### Создание отдельных датафремов с подпиской и без"
   ]
  },
  {
   "cell_type": "code",
   "execution_count": 25,
   "id": "b2fff818",
   "metadata": {},
   "outputs": [
    {
     "data": {
      "text/html": [
       "<div>\n",
       "<style scoped>\n",
       "    .dataframe tbody tr th:only-of-type {\n",
       "        vertical-align: middle;\n",
       "    }\n",
       "\n",
       "    .dataframe tbody tr th {\n",
       "        vertical-align: top;\n",
       "    }\n",
       "\n",
       "    .dataframe thead th {\n",
       "        text-align: right;\n",
       "    }\n",
       "</style>\n",
       "<table border=\"1\" class=\"dataframe\">\n",
       "  <thead>\n",
       "    <tr style=\"text-align: right;\">\n",
       "      <th></th>\n",
       "      <th>user_id</th>\n",
       "      <th>distance</th>\n",
       "      <th>duration</th>\n",
       "      <th>date</th>\n",
       "      <th>month</th>\n",
       "      <th>name</th>\n",
       "      <th>age</th>\n",
       "      <th>city</th>\n",
       "      <th>subscription_type</th>\n",
       "      <th>minute_price</th>\n",
       "      <th>start_ride_price</th>\n",
       "      <th>subscription_fee</th>\n",
       "    </tr>\n",
       "  </thead>\n",
       "  <tbody>\n",
       "    <tr>\n",
       "      <th>0</th>\n",
       "      <td>1</td>\n",
       "      <td>4409.919140</td>\n",
       "      <td>25.599769</td>\n",
       "      <td>2021-01-01</td>\n",
       "      <td>1</td>\n",
       "      <td>Кира</td>\n",
       "      <td>22</td>\n",
       "      <td>Тюмень</td>\n",
       "      <td>ultra</td>\n",
       "      <td>6</td>\n",
       "      <td>0</td>\n",
       "      <td>199</td>\n",
       "    </tr>\n",
       "    <tr>\n",
       "      <th>1</th>\n",
       "      <td>1</td>\n",
       "      <td>2617.592153</td>\n",
       "      <td>15.816871</td>\n",
       "      <td>2021-01-18</td>\n",
       "      <td>1</td>\n",
       "      <td>Кира</td>\n",
       "      <td>22</td>\n",
       "      <td>Тюмень</td>\n",
       "      <td>ultra</td>\n",
       "      <td>6</td>\n",
       "      <td>0</td>\n",
       "      <td>199</td>\n",
       "    </tr>\n",
       "    <tr>\n",
       "      <th>2</th>\n",
       "      <td>1</td>\n",
       "      <td>754.159807</td>\n",
       "      <td>6.232113</td>\n",
       "      <td>2021-04-20</td>\n",
       "      <td>4</td>\n",
       "      <td>Кира</td>\n",
       "      <td>22</td>\n",
       "      <td>Тюмень</td>\n",
       "      <td>ultra</td>\n",
       "      <td>6</td>\n",
       "      <td>0</td>\n",
       "      <td>199</td>\n",
       "    </tr>\n",
       "    <tr>\n",
       "      <th>3</th>\n",
       "      <td>1</td>\n",
       "      <td>2694.783254</td>\n",
       "      <td>18.511000</td>\n",
       "      <td>2021-08-11</td>\n",
       "      <td>8</td>\n",
       "      <td>Кира</td>\n",
       "      <td>22</td>\n",
       "      <td>Тюмень</td>\n",
       "      <td>ultra</td>\n",
       "      <td>6</td>\n",
       "      <td>0</td>\n",
       "      <td>199</td>\n",
       "    </tr>\n",
       "    <tr>\n",
       "      <th>4</th>\n",
       "      <td>1</td>\n",
       "      <td>4028.687306</td>\n",
       "      <td>26.265803</td>\n",
       "      <td>2021-08-28</td>\n",
       "      <td>8</td>\n",
       "      <td>Кира</td>\n",
       "      <td>22</td>\n",
       "      <td>Тюмень</td>\n",
       "      <td>ultra</td>\n",
       "      <td>6</td>\n",
       "      <td>0</td>\n",
       "      <td>199</td>\n",
       "    </tr>\n",
       "    <tr>\n",
       "      <th>...</th>\n",
       "      <td>...</td>\n",
       "      <td>...</td>\n",
       "      <td>...</td>\n",
       "      <td>...</td>\n",
       "      <td>...</td>\n",
       "      <td>...</td>\n",
       "      <td>...</td>\n",
       "      <td>...</td>\n",
       "      <td>...</td>\n",
       "      <td>...</td>\n",
       "      <td>...</td>\n",
       "      <td>...</td>\n",
       "    </tr>\n",
       "    <tr>\n",
       "      <th>6495</th>\n",
       "      <td>699</td>\n",
       "      <td>3973.046497</td>\n",
       "      <td>24.671163</td>\n",
       "      <td>2021-08-29</td>\n",
       "      <td>8</td>\n",
       "      <td>Оксана</td>\n",
       "      <td>22</td>\n",
       "      <td>Москва</td>\n",
       "      <td>ultra</td>\n",
       "      <td>6</td>\n",
       "      <td>0</td>\n",
       "      <td>199</td>\n",
       "    </tr>\n",
       "    <tr>\n",
       "      <th>6496</th>\n",
       "      <td>699</td>\n",
       "      <td>3288.702563</td>\n",
       "      <td>15.892886</td>\n",
       "      <td>2021-09-12</td>\n",
       "      <td>9</td>\n",
       "      <td>Оксана</td>\n",
       "      <td>22</td>\n",
       "      <td>Москва</td>\n",
       "      <td>ultra</td>\n",
       "      <td>6</td>\n",
       "      <td>0</td>\n",
       "      <td>199</td>\n",
       "    </tr>\n",
       "    <tr>\n",
       "      <th>6497</th>\n",
       "      <td>699</td>\n",
       "      <td>3076.159348</td>\n",
       "      <td>14.389525</td>\n",
       "      <td>2021-09-26</td>\n",
       "      <td>9</td>\n",
       "      <td>Оксана</td>\n",
       "      <td>22</td>\n",
       "      <td>Москва</td>\n",
       "      <td>ultra</td>\n",
       "      <td>6</td>\n",
       "      <td>0</td>\n",
       "      <td>199</td>\n",
       "    </tr>\n",
       "    <tr>\n",
       "      <th>6498</th>\n",
       "      <td>699</td>\n",
       "      <td>4707.845501</td>\n",
       "      <td>15.839579</td>\n",
       "      <td>2021-10-17</td>\n",
       "      <td>10</td>\n",
       "      <td>Оксана</td>\n",
       "      <td>22</td>\n",
       "      <td>Москва</td>\n",
       "      <td>ultra</td>\n",
       "      <td>6</td>\n",
       "      <td>0</td>\n",
       "      <td>199</td>\n",
       "    </tr>\n",
       "    <tr>\n",
       "      <th>6499</th>\n",
       "      <td>699</td>\n",
       "      <td>3202.890770</td>\n",
       "      <td>25.217345</td>\n",
       "      <td>2021-12-03</td>\n",
       "      <td>12</td>\n",
       "      <td>Оксана</td>\n",
       "      <td>22</td>\n",
       "      <td>Москва</td>\n",
       "      <td>ultra</td>\n",
       "      <td>6</td>\n",
       "      <td>0</td>\n",
       "      <td>199</td>\n",
       "    </tr>\n",
       "  </tbody>\n",
       "</table>\n",
       "<p>6500 rows × 12 columns</p>\n",
       "</div>"
      ],
      "text/plain": [
       "      user_id     distance   duration       date  month    name  age    city  \\\n",
       "0           1  4409.919140  25.599769 2021-01-01      1    Кира   22  Тюмень   \n",
       "1           1  2617.592153  15.816871 2021-01-18      1    Кира   22  Тюмень   \n",
       "2           1   754.159807   6.232113 2021-04-20      4    Кира   22  Тюмень   \n",
       "3           1  2694.783254  18.511000 2021-08-11      8    Кира   22  Тюмень   \n",
       "4           1  4028.687306  26.265803 2021-08-28      8    Кира   22  Тюмень   \n",
       "...       ...          ...        ...        ...    ...     ...  ...     ...   \n",
       "6495      699  3973.046497  24.671163 2021-08-29      8  Оксана   22  Москва   \n",
       "6496      699  3288.702563  15.892886 2021-09-12      9  Оксана   22  Москва   \n",
       "6497      699  3076.159348  14.389525 2021-09-26      9  Оксана   22  Москва   \n",
       "6498      699  4707.845501  15.839579 2021-10-17     10  Оксана   22  Москва   \n",
       "6499      699  3202.890770  25.217345 2021-12-03     12  Оксана   22  Москва   \n",
       "\n",
       "     subscription_type  minute_price  start_ride_price  subscription_fee  \n",
       "0                ultra             6                 0               199  \n",
       "1                ultra             6                 0               199  \n",
       "2                ultra             6                 0               199  \n",
       "3                ultra             6                 0               199  \n",
       "4                ultra             6                 0               199  \n",
       "...                ...           ...               ...               ...  \n",
       "6495             ultra             6                 0               199  \n",
       "6496             ultra             6                 0               199  \n",
       "6497             ultra             6                 0               199  \n",
       "6498             ultra             6                 0               199  \n",
       "6499             ultra             6                 0               199  \n",
       "\n",
       "[6500 rows x 12 columns]"
      ]
     },
     "execution_count": 25,
     "metadata": {},
     "output_type": "execute_result"
    }
   ],
   "source": [
    "all_data_ultra = all_data.query('subscription_type == \"ultra\"')\n",
    "all_data_ultra"
   ]
  },
  {
   "cell_type": "code",
   "execution_count": 26,
   "id": "f2d038bf",
   "metadata": {},
   "outputs": [
    {
     "data": {
      "text/html": [
       "<div>\n",
       "<style scoped>\n",
       "    .dataframe tbody tr th:only-of-type {\n",
       "        vertical-align: middle;\n",
       "    }\n",
       "\n",
       "    .dataframe tbody tr th {\n",
       "        vertical-align: top;\n",
       "    }\n",
       "\n",
       "    .dataframe thead th {\n",
       "        text-align: right;\n",
       "    }\n",
       "</style>\n",
       "<table border=\"1\" class=\"dataframe\">\n",
       "  <thead>\n",
       "    <tr style=\"text-align: right;\">\n",
       "      <th></th>\n",
       "      <th>user_id</th>\n",
       "      <th>distance</th>\n",
       "      <th>duration</th>\n",
       "      <th>date</th>\n",
       "      <th>month</th>\n",
       "      <th>name</th>\n",
       "      <th>age</th>\n",
       "      <th>city</th>\n",
       "      <th>subscription_type</th>\n",
       "      <th>minute_price</th>\n",
       "      <th>start_ride_price</th>\n",
       "      <th>subscription_fee</th>\n",
       "    </tr>\n",
       "  </thead>\n",
       "  <tbody>\n",
       "    <tr>\n",
       "      <th>6500</th>\n",
       "      <td>700</td>\n",
       "      <td>2515.690719</td>\n",
       "      <td>14.944286</td>\n",
       "      <td>2021-01-02</td>\n",
       "      <td>1</td>\n",
       "      <td>Айдар</td>\n",
       "      <td>22</td>\n",
       "      <td>Омск</td>\n",
       "      <td>free</td>\n",
       "      <td>8</td>\n",
       "      <td>50</td>\n",
       "      <td>0</td>\n",
       "    </tr>\n",
       "    <tr>\n",
       "      <th>6501</th>\n",
       "      <td>700</td>\n",
       "      <td>846.932642</td>\n",
       "      <td>16.234663</td>\n",
       "      <td>2021-02-01</td>\n",
       "      <td>2</td>\n",
       "      <td>Айдар</td>\n",
       "      <td>22</td>\n",
       "      <td>Омск</td>\n",
       "      <td>free</td>\n",
       "      <td>8</td>\n",
       "      <td>50</td>\n",
       "      <td>0</td>\n",
       "    </tr>\n",
       "    <tr>\n",
       "      <th>6502</th>\n",
       "      <td>700</td>\n",
       "      <td>4004.434142</td>\n",
       "      <td>20.016628</td>\n",
       "      <td>2021-02-04</td>\n",
       "      <td>2</td>\n",
       "      <td>Айдар</td>\n",
       "      <td>22</td>\n",
       "      <td>Омск</td>\n",
       "      <td>free</td>\n",
       "      <td>8</td>\n",
       "      <td>50</td>\n",
       "      <td>0</td>\n",
       "    </tr>\n",
       "    <tr>\n",
       "      <th>6503</th>\n",
       "      <td>700</td>\n",
       "      <td>1205.911290</td>\n",
       "      <td>9.782872</td>\n",
       "      <td>2021-02-10</td>\n",
       "      <td>2</td>\n",
       "      <td>Айдар</td>\n",
       "      <td>22</td>\n",
       "      <td>Омск</td>\n",
       "      <td>free</td>\n",
       "      <td>8</td>\n",
       "      <td>50</td>\n",
       "      <td>0</td>\n",
       "    </tr>\n",
       "    <tr>\n",
       "      <th>6504</th>\n",
       "      <td>700</td>\n",
       "      <td>3047.379435</td>\n",
       "      <td>17.427673</td>\n",
       "      <td>2021-02-14</td>\n",
       "      <td>2</td>\n",
       "      <td>Айдар</td>\n",
       "      <td>22</td>\n",
       "      <td>Омск</td>\n",
       "      <td>free</td>\n",
       "      <td>8</td>\n",
       "      <td>50</td>\n",
       "      <td>0</td>\n",
       "    </tr>\n",
       "    <tr>\n",
       "      <th>...</th>\n",
       "      <td>...</td>\n",
       "      <td>...</td>\n",
       "      <td>...</td>\n",
       "      <td>...</td>\n",
       "      <td>...</td>\n",
       "      <td>...</td>\n",
       "      <td>...</td>\n",
       "      <td>...</td>\n",
       "      <td>...</td>\n",
       "      <td>...</td>\n",
       "      <td>...</td>\n",
       "      <td>...</td>\n",
       "    </tr>\n",
       "    <tr>\n",
       "      <th>17968</th>\n",
       "      <td>1534</td>\n",
       "      <td>3781.098080</td>\n",
       "      <td>19.822962</td>\n",
       "      <td>2021-11-04</td>\n",
       "      <td>11</td>\n",
       "      <td>Альберт</td>\n",
       "      <td>25</td>\n",
       "      <td>Краснодар</td>\n",
       "      <td>free</td>\n",
       "      <td>8</td>\n",
       "      <td>50</td>\n",
       "      <td>0</td>\n",
       "    </tr>\n",
       "    <tr>\n",
       "      <th>17969</th>\n",
       "      <td>1534</td>\n",
       "      <td>2840.423057</td>\n",
       "      <td>21.409799</td>\n",
       "      <td>2021-11-16</td>\n",
       "      <td>11</td>\n",
       "      <td>Альберт</td>\n",
       "      <td>25</td>\n",
       "      <td>Краснодар</td>\n",
       "      <td>free</td>\n",
       "      <td>8</td>\n",
       "      <td>50</td>\n",
       "      <td>0</td>\n",
       "    </tr>\n",
       "    <tr>\n",
       "      <th>17970</th>\n",
       "      <td>1534</td>\n",
       "      <td>3826.185507</td>\n",
       "      <td>18.435051</td>\n",
       "      <td>2021-11-18</td>\n",
       "      <td>11</td>\n",
       "      <td>Альберт</td>\n",
       "      <td>25</td>\n",
       "      <td>Краснодар</td>\n",
       "      <td>free</td>\n",
       "      <td>8</td>\n",
       "      <td>50</td>\n",
       "      <td>0</td>\n",
       "    </tr>\n",
       "    <tr>\n",
       "      <th>17971</th>\n",
       "      <td>1534</td>\n",
       "      <td>2902.308661</td>\n",
       "      <td>16.674362</td>\n",
       "      <td>2021-11-27</td>\n",
       "      <td>11</td>\n",
       "      <td>Альберт</td>\n",
       "      <td>25</td>\n",
       "      <td>Краснодар</td>\n",
       "      <td>free</td>\n",
       "      <td>8</td>\n",
       "      <td>50</td>\n",
       "      <td>0</td>\n",
       "    </tr>\n",
       "    <tr>\n",
       "      <th>17972</th>\n",
       "      <td>1534</td>\n",
       "      <td>2371.711192</td>\n",
       "      <td>15.893917</td>\n",
       "      <td>2021-12-29</td>\n",
       "      <td>12</td>\n",
       "      <td>Альберт</td>\n",
       "      <td>25</td>\n",
       "      <td>Краснодар</td>\n",
       "      <td>free</td>\n",
       "      <td>8</td>\n",
       "      <td>50</td>\n",
       "      <td>0</td>\n",
       "    </tr>\n",
       "  </tbody>\n",
       "</table>\n",
       "<p>11473 rows × 12 columns</p>\n",
       "</div>"
      ],
      "text/plain": [
       "       user_id     distance   duration       date  month     name  age  \\\n",
       "6500       700  2515.690719  14.944286 2021-01-02      1    Айдар   22   \n",
       "6501       700   846.932642  16.234663 2021-02-01      2    Айдар   22   \n",
       "6502       700  4004.434142  20.016628 2021-02-04      2    Айдар   22   \n",
       "6503       700  1205.911290   9.782872 2021-02-10      2    Айдар   22   \n",
       "6504       700  3047.379435  17.427673 2021-02-14      2    Айдар   22   \n",
       "...        ...          ...        ...        ...    ...      ...  ...   \n",
       "17968     1534  3781.098080  19.822962 2021-11-04     11  Альберт   25   \n",
       "17969     1534  2840.423057  21.409799 2021-11-16     11  Альберт   25   \n",
       "17970     1534  3826.185507  18.435051 2021-11-18     11  Альберт   25   \n",
       "17971     1534  2902.308661  16.674362 2021-11-27     11  Альберт   25   \n",
       "17972     1534  2371.711192  15.893917 2021-12-29     12  Альберт   25   \n",
       "\n",
       "            city subscription_type  minute_price  start_ride_price  \\\n",
       "6500        Омск              free             8                50   \n",
       "6501        Омск              free             8                50   \n",
       "6502        Омск              free             8                50   \n",
       "6503        Омск              free             8                50   \n",
       "6504        Омск              free             8                50   \n",
       "...          ...               ...           ...               ...   \n",
       "17968  Краснодар              free             8                50   \n",
       "17969  Краснодар              free             8                50   \n",
       "17970  Краснодар              free             8                50   \n",
       "17971  Краснодар              free             8                50   \n",
       "17972  Краснодар              free             8                50   \n",
       "\n",
       "       subscription_fee  \n",
       "6500                  0  \n",
       "6501                  0  \n",
       "6502                  0  \n",
       "6503                  0  \n",
       "6504                  0  \n",
       "...                 ...  \n",
       "17968                 0  \n",
       "17969                 0  \n",
       "17970                 0  \n",
       "17971                 0  \n",
       "17972                 0  \n",
       "\n",
       "[11473 rows x 12 columns]"
      ]
     },
     "execution_count": 26,
     "metadata": {},
     "output_type": "execute_result"
    }
   ],
   "source": [
    "all_data_free = all_data.query('subscription_type == \"free\"')\n",
    "all_data_free"
   ]
  },
  {
   "cell_type": "markdown",
   "id": "546c36f9",
   "metadata": {},
   "source": [
    "##### Информация о пользователях с подпиской и без"
   ]
  },
  {
   "cell_type": "markdown",
   "id": "1c6ebb4b",
   "metadata": {},
   "source": [
    "Из данных выше видно, что пользователи с подпиской совершают меньше поездок чем пользователи без подписки. Визуализируем информацию о расстоянии и времени поездок этих двух групп."
   ]
  },
  {
   "cell_type": "markdown",
   "id": "df58122d",
   "metadata": {},
   "source": [
    "###### С подпиской"
   ]
  },
  {
   "cell_type": "code",
   "execution_count": 27,
   "id": "c06646c7",
   "metadata": {
    "scrolled": false
   },
   "outputs": [
    {
     "data": {
      "text/plain": [
       "count    6500.000000\n",
       "mean     3115.445388\n",
       "std       836.895330\n",
       "min       244.210438\n",
       "25%      2785.444017\n",
       "50%      3148.637229\n",
       "75%      3560.574425\n",
       "max      5699.769662\n",
       "Name: distance, dtype: float64"
      ]
     },
     "execution_count": 27,
     "metadata": {},
     "output_type": "execute_result"
    },
    {
     "data": {
      "image/png": "[encoded data removed]",
      "text/plain": [
       "<Figure size 432x288 with 1 Axes>"
      ]
     },
     "metadata": {
      "needs_background": "light"
     },
     "output_type": "display_data"
    }
   ],
   "source": [
    "all_data_ultra['distance'].hist(bins=100, legend=True)\n",
    "all_data_ultra['distance'].describe()\n",
    "\n",
    "plt.xlabel('Расстояние')\n",
    "plt.ylabel('Количество поездок')\n",
    "plt.title('Расстояние, которое пользователь с подпиской преодолел за одну поездку')\n",
    "\n",
    "all_data_ultra['distance'].describe()"
   ]
  },
  {
   "cell_type": "code",
   "execution_count": 28,
   "id": "5f22004c",
   "metadata": {},
   "outputs": [
    {
     "data": {
      "text/plain": [
       "count    6500.000000\n",
       "mean       18.541985\n",
       "std         5.572048\n",
       "min         3.760353\n",
       "25%        14.524654\n",
       "50%        18.178153\n",
       "75%        21.884129\n",
       "max        40.823963\n",
       "Name: duration, dtype: float64"
      ]
     },
     "execution_count": 28,
     "metadata": {},
     "output_type": "execute_result"
    },
    {
     "data": {
      "image/png": "[encoded data removed]",
      "text/plain": [
       "<Figure size 432x288 with 1 Axes>"
      ]
     },
     "metadata": {
      "needs_background": "light"
     },
     "output_type": "display_data"
    }
   ],
   "source": [
    "all_data_ultra['duration'].hist(bins=40, legend=True)\n",
    "\n",
    "plt.xlabel('Время')\n",
    "plt.ylabel('Количество поездок')\n",
    "plt.title('Время, которое пользователь с подпиской провел в одной поездке')\n",
    "\n",
    "all_data_ultra['duration'].describe()"
   ]
  },
  {
   "cell_type": "markdown",
   "id": "46fd6b41",
   "metadata": {},
   "source": [
    "Распределение расстояния поездок для пользователей с подпиской отличается от распределения построенного для всех пользователей. К двум локальным пикам добавился третий. Первый пик сместился в район 1000м. Второй остался в районе 3100м. Новый пик образовался в районе 4000м.\n",
    "\n",
    "Время поездки сохранило свое первоначальное распределение. Пик незначительно сместился. У пользователей с подпиской практически нет поездок длинной меньше минуты."
   ]
  },
  {
   "cell_type": "markdown",
   "id": "d202ce90",
   "metadata": {},
   "source": [
    "###### Без подписки"
   ]
  },
  {
   "cell_type": "code",
   "execution_count": 29,
   "id": "d15c3b05",
   "metadata": {},
   "outputs": [
    {
     "data": {
      "text/plain": [
       "count    11473.000000\n",
       "mean      3028.374239\n",
       "std       1235.541051\n",
       "min          0.855683\n",
       "25%       2360.878149\n",
       "50%       3102.083025\n",
       "75%       3883.979311\n",
       "max       7066.003772\n",
       "Name: distance, dtype: float64"
      ]
     },
     "execution_count": 29,
     "metadata": {},
     "output_type": "execute_result"
    },
    {
     "data": {
      "image/png": "[encoded data removed]",
      "text/plain": [
       "<Figure size 432x288 with 1 Axes>"
      ]
     },
     "metadata": {
      "needs_background": "light"
     },
     "output_type": "display_data"
    }
   ],
   "source": [
    "all_data_free['distance'].hist(bins=100, legend=True)\n",
    "\n",
    "plt.xlabel('Расстояние')\n",
    "plt.ylabel('Количество поездок')\n",
    "plt.title('Расстояние, которое пользователь без подписки преодолел за одну поездку')\n",
    "\n",
    "all_data_free['distance'].describe()"
   ]
  },
  {
   "cell_type": "code",
   "execution_count": 30,
   "id": "e483ec8e",
   "metadata": {},
   "outputs": [
    {
     "data": {
      "text/plain": [
       "count    11473.000000\n",
       "mean        17.530771\n",
       "std          6.162609\n",
       "min          2.035632\n",
       "25%         13.085688\n",
       "50%         17.383807\n",
       "75%         21.638038\n",
       "max         34.948498\n",
       "Name: duration, dtype: float64"
      ]
     },
     "execution_count": 30,
     "metadata": {},
     "output_type": "execute_result"
    },
    {
     "data": {
      "image/png": "[encoded data removed]",
      "text/plain": [
       "<Figure size 432x288 with 1 Axes>"
      ]
     },
     "metadata": {
      "needs_background": "light"
     },
     "output_type": "display_data"
    }
   ],
   "source": [
    "all_data_free['duration'].hist(bins=35, legend=True)\n",
    "\n",
    "plt.xlabel('Время')\n",
    "plt.ylabel('Количество поездок')\n",
    "plt.title('Время, которое пользователь без подписки провел в одной поездке')\n",
    "\n",
    "all_data_free['duration'].describe()"
   ]
  },
  {
   "cell_type": "markdown",
   "id": "bb5f243a",
   "metadata": {},
   "source": [
    "Распределение расстояния поездок для пользователей без подписки не отличается от распределения построенного для всех пользователей. Имеет два пика. Первый пик сместился в район 500м. Второй пик остался в районе 3100м. Присутствует  хвост со значениями до 7200м.\n",
    "\n",
    "Время поездки сохранило свое первоначальное распределение. Пик незначительно сместился\n",
    "\n",
    "От наличия подписки незначительно меняется продолжительность поездки, однако распределение расстояние поездок существенно изменяется. Это может говорить о различном поведении этих групп пользователей. Можно предположить что это связано с ценой минуты аренды. Для пользователей с подпиской она ниже, следовательно и первый пик имеет большее значение чем у пользователей без подписки. На второй пик цена минуты аренды уже не оказывает такого существенного влияния."
   ]
  },
  {
   "cell_type": "markdown",
   "id": "e0912046",
   "metadata": {},
   "source": [
    "#### Шаг 5. Подсчёт выручки"
   ]
  },
  {
   "cell_type": "markdown",
   "id": "57423ecb",
   "metadata": {},
   "source": [
    "##### Агрегированные данные по пользователям и месяцам"
   ]
  },
  {
   "cell_type": "markdown",
   "id": "5cb7bd7c",
   "metadata": {},
   "source": [
    "Агрегируем данные с использованием сводных таблиц. Для каждого пользователя рассчитаем суммарное расстояние и суммарную длительность поездки в каждом месяце. Также подсчитаем количество поездок в этом месяце. Сделаем это для пользователей с подпиской и без подписки по отдельности."
   ]
  },
  {
   "cell_type": "code",
   "execution_count": 31,
   "id": "8741ea34",
   "metadata": {},
   "outputs": [
    {
     "data": {
      "text/html": [
       "<div>\n",
       "<style scoped>\n",
       "    .dataframe tbody tr th:only-of-type {\n",
       "        vertical-align: middle;\n",
       "    }\n",
       "\n",
       "    .dataframe tbody tr th {\n",
       "        vertical-align: top;\n",
       "    }\n",
       "\n",
       "    .dataframe thead th {\n",
       "        text-align: right;\n",
       "    }\n",
       "</style>\n",
       "<table border=\"1\" class=\"dataframe\">\n",
       "  <thead>\n",
       "    <tr style=\"text-align: right;\">\n",
       "      <th></th>\n",
       "      <th></th>\n",
       "      <th>count</th>\n",
       "      <th>distance_sum</th>\n",
       "      <th>duration_sum</th>\n",
       "      <th>subscription_type</th>\n",
       "    </tr>\n",
       "    <tr>\n",
       "      <th>user_id</th>\n",
       "      <th>month</th>\n",
       "      <th></th>\n",
       "      <th></th>\n",
       "      <th></th>\n",
       "      <th></th>\n",
       "    </tr>\n",
       "  </thead>\n",
       "  <tbody>\n",
       "    <tr>\n",
       "      <th rowspan=\"5\" valign=\"top\">1</th>\n",
       "      <th>1</th>\n",
       "      <td>2</td>\n",
       "      <td>7027.511294</td>\n",
       "      <td>42.0</td>\n",
       "      <td>ultra</td>\n",
       "    </tr>\n",
       "    <tr>\n",
       "      <th>4</th>\n",
       "      <td>1</td>\n",
       "      <td>754.159807</td>\n",
       "      <td>7.0</td>\n",
       "      <td>ultra</td>\n",
       "    </tr>\n",
       "    <tr>\n",
       "      <th>8</th>\n",
       "      <td>2</td>\n",
       "      <td>6723.470560</td>\n",
       "      <td>46.0</td>\n",
       "      <td>ultra</td>\n",
       "    </tr>\n",
       "    <tr>\n",
       "      <th>10</th>\n",
       "      <td>2</td>\n",
       "      <td>5809.911100</td>\n",
       "      <td>32.0</td>\n",
       "      <td>ultra</td>\n",
       "    </tr>\n",
       "    <tr>\n",
       "      <th>11</th>\n",
       "      <td>3</td>\n",
       "      <td>7003.499363</td>\n",
       "      <td>56.0</td>\n",
       "      <td>ultra</td>\n",
       "    </tr>\n",
       "    <tr>\n",
       "      <th>...</th>\n",
       "      <th>...</th>\n",
       "      <td>...</td>\n",
       "      <td>...</td>\n",
       "      <td>...</td>\n",
       "      <td>...</td>\n",
       "    </tr>\n",
       "    <tr>\n",
       "      <th rowspan=\"5\" valign=\"top\">1534</th>\n",
       "      <th>6</th>\n",
       "      <td>2</td>\n",
       "      <td>3409.468534</td>\n",
       "      <td>26.0</td>\n",
       "      <td>free</td>\n",
       "    </tr>\n",
       "    <tr>\n",
       "      <th>8</th>\n",
       "      <td>2</td>\n",
       "      <td>7622.453034</td>\n",
       "      <td>48.0</td>\n",
       "      <td>free</td>\n",
       "    </tr>\n",
       "    <tr>\n",
       "      <th>9</th>\n",
       "      <td>1</td>\n",
       "      <td>4928.173852</td>\n",
       "      <td>23.0</td>\n",
       "      <td>free</td>\n",
       "    </tr>\n",
       "    <tr>\n",
       "      <th>11</th>\n",
       "      <td>4</td>\n",
       "      <td>13350.015305</td>\n",
       "      <td>78.0</td>\n",
       "      <td>free</td>\n",
       "    </tr>\n",
       "    <tr>\n",
       "      <th>12</th>\n",
       "      <td>1</td>\n",
       "      <td>2371.711192</td>\n",
       "      <td>16.0</td>\n",
       "      <td>free</td>\n",
       "    </tr>\n",
       "  </tbody>\n",
       "</table>\n",
       "<p>11300 rows × 4 columns</p>\n",
       "</div>"
      ],
      "text/plain": [
       "               count  distance_sum  duration_sum subscription_type\n",
       "user_id month                                                     \n",
       "1       1          2   7027.511294          42.0             ultra\n",
       "        4          1    754.159807           7.0             ultra\n",
       "        8          2   6723.470560          46.0             ultra\n",
       "        10         2   5809.911100          32.0             ultra\n",
       "        11         3   7003.499363          56.0             ultra\n",
       "...              ...           ...           ...               ...\n",
       "1534    6          2   3409.468534          26.0              free\n",
       "        8          2   7622.453034          48.0              free\n",
       "        9          1   4928.173852          23.0              free\n",
       "        11         4  13350.015305          78.0              free\n",
       "        12         1   2371.711192          16.0              free\n",
       "\n",
       "[11300 rows x 4 columns]"
      ]
     },
     "execution_count": 31,
     "metadata": {},
     "output_type": "execute_result"
    }
   ],
   "source": [
    "all_data['duration'] = np.ceil(all_data['duration'])\n",
    "aggr_all_data = all_data.pivot_table(values=['duration', 'distance', 'subscription_type'],\n",
    "                                                 index=['user_id', 'month'],\n",
    "                                                 aggfunc={'duration': 'sum',\n",
    "                                                          'distance': ['sum', 'count'],\n",
    "                                                          'subscription_type': 'first'})\n",
    "\n",
    "aggr_all_data.columns = ['count', 'distance_sum', 'duration_sum', 'subscription_type']\n",
    "aggr_all_data"
   ]
  },
  {
   "cell_type": "code",
   "execution_count": 32,
   "id": "8bd88b92",
   "metadata": {
    "scrolled": false
   },
   "outputs": [
    {
     "data": {
      "text/html": [
       "<div>\n",
       "<style scoped>\n",
       "    .dataframe tbody tr th:only-of-type {\n",
       "        vertical-align: middle;\n",
       "    }\n",
       "\n",
       "    .dataframe tbody tr th {\n",
       "        vertical-align: top;\n",
       "    }\n",
       "\n",
       "    .dataframe thead th {\n",
       "        text-align: right;\n",
       "    }\n",
       "</style>\n",
       "<table border=\"1\" class=\"dataframe\">\n",
       "  <thead>\n",
       "    <tr style=\"text-align: right;\">\n",
       "      <th></th>\n",
       "      <th>count</th>\n",
       "      <th>distance_sum</th>\n",
       "      <th>duration_sum</th>\n",
       "      <th>subscription_type</th>\n",
       "      <th>minute_price</th>\n",
       "      <th>start_ride_price</th>\n",
       "      <th>subscription_fee</th>\n",
       "    </tr>\n",
       "  </thead>\n",
       "  <tbody>\n",
       "    <tr>\n",
       "      <th>0</th>\n",
       "      <td>2</td>\n",
       "      <td>7027.511294</td>\n",
       "      <td>42.0</td>\n",
       "      <td>ultra</td>\n",
       "      <td>6</td>\n",
       "      <td>0</td>\n",
       "      <td>199</td>\n",
       "    </tr>\n",
       "    <tr>\n",
       "      <th>1</th>\n",
       "      <td>1</td>\n",
       "      <td>754.159807</td>\n",
       "      <td>7.0</td>\n",
       "      <td>ultra</td>\n",
       "      <td>6</td>\n",
       "      <td>0</td>\n",
       "      <td>199</td>\n",
       "    </tr>\n",
       "    <tr>\n",
       "      <th>2</th>\n",
       "      <td>2</td>\n",
       "      <td>6723.470560</td>\n",
       "      <td>46.0</td>\n",
       "      <td>ultra</td>\n",
       "      <td>6</td>\n",
       "      <td>0</td>\n",
       "      <td>199</td>\n",
       "    </tr>\n",
       "    <tr>\n",
       "      <th>3</th>\n",
       "      <td>2</td>\n",
       "      <td>5809.911100</td>\n",
       "      <td>32.0</td>\n",
       "      <td>ultra</td>\n",
       "      <td>6</td>\n",
       "      <td>0</td>\n",
       "      <td>199</td>\n",
       "    </tr>\n",
       "    <tr>\n",
       "      <th>4</th>\n",
       "      <td>3</td>\n",
       "      <td>7003.499363</td>\n",
       "      <td>56.0</td>\n",
       "      <td>ultra</td>\n",
       "      <td>6</td>\n",
       "      <td>0</td>\n",
       "      <td>199</td>\n",
       "    </tr>\n",
       "    <tr>\n",
       "      <th>...</th>\n",
       "      <td>...</td>\n",
       "      <td>...</td>\n",
       "      <td>...</td>\n",
       "      <td>...</td>\n",
       "      <td>...</td>\n",
       "      <td>...</td>\n",
       "      <td>...</td>\n",
       "    </tr>\n",
       "    <tr>\n",
       "      <th>11295</th>\n",
       "      <td>2</td>\n",
       "      <td>3409.468534</td>\n",
       "      <td>26.0</td>\n",
       "      <td>free</td>\n",
       "      <td>8</td>\n",
       "      <td>50</td>\n",
       "      <td>0</td>\n",
       "    </tr>\n",
       "    <tr>\n",
       "      <th>11296</th>\n",
       "      <td>2</td>\n",
       "      <td>7622.453034</td>\n",
       "      <td>48.0</td>\n",
       "      <td>free</td>\n",
       "      <td>8</td>\n",
       "      <td>50</td>\n",
       "      <td>0</td>\n",
       "    </tr>\n",
       "    <tr>\n",
       "      <th>11297</th>\n",
       "      <td>1</td>\n",
       "      <td>4928.173852</td>\n",
       "      <td>23.0</td>\n",
       "      <td>free</td>\n",
       "      <td>8</td>\n",
       "      <td>50</td>\n",
       "      <td>0</td>\n",
       "    </tr>\n",
       "    <tr>\n",
       "      <th>11298</th>\n",
       "      <td>4</td>\n",
       "      <td>13350.015305</td>\n",
       "      <td>78.0</td>\n",
       "      <td>free</td>\n",
       "      <td>8</td>\n",
       "      <td>50</td>\n",
       "      <td>0</td>\n",
       "    </tr>\n",
       "    <tr>\n",
       "      <th>11299</th>\n",
       "      <td>1</td>\n",
       "      <td>2371.711192</td>\n",
       "      <td>16.0</td>\n",
       "      <td>free</td>\n",
       "      <td>8</td>\n",
       "      <td>50</td>\n",
       "      <td>0</td>\n",
       "    </tr>\n",
       "  </tbody>\n",
       "</table>\n",
       "<p>11300 rows × 7 columns</p>\n",
       "</div>"
      ],
      "text/plain": [
       "       count  distance_sum  duration_sum subscription_type  minute_price  \\\n",
       "0          2   7027.511294          42.0             ultra             6   \n",
       "1          1    754.159807           7.0             ultra             6   \n",
       "2          2   6723.470560          46.0             ultra             6   \n",
       "3          2   5809.911100          32.0             ultra             6   \n",
       "4          3   7003.499363          56.0             ultra             6   \n",
       "...      ...           ...           ...               ...           ...   \n",
       "11295      2   3409.468534          26.0              free             8   \n",
       "11296      2   7622.453034          48.0              free             8   \n",
       "11297      1   4928.173852          23.0              free             8   \n",
       "11298      4  13350.015305          78.0              free             8   \n",
       "11299      1   2371.711192          16.0              free             8   \n",
       "\n",
       "       start_ride_price  subscription_fee  \n",
       "0                     0               199  \n",
       "1                     0               199  \n",
       "2                     0               199  \n",
       "3                     0               199  \n",
       "4                     0               199  \n",
       "...                 ...               ...  \n",
       "11295                50                 0  \n",
       "11296                50                 0  \n",
       "11297                50                 0  \n",
       "11298                50                 0  \n",
       "11299                50                 0  \n",
       "\n",
       "[11300 rows x 7 columns]"
      ]
     },
     "execution_count": 32,
     "metadata": {},
     "output_type": "execute_result"
    }
   ],
   "source": [
    "aggr_all_data = aggr_all_data.merge(sub_data, on='subscription_type')\n",
    "aggr_all_data"
   ]
  },
  {
   "cell_type": "markdown",
   "id": "2a939915",
   "metadata": {},
   "source": [
    "Добавил в сводную таблицу данные о поездках. Этот способ мне показался проще"
   ]
  },
  {
   "cell_type": "markdown",
   "id": "2d454422",
   "metadata": {},
   "source": [
    "#####  Подсчет выручки"
   ]
  },
  {
   "cell_type": "markdown",
   "id": "b4def6a2",
   "metadata": {},
   "source": [
    "Рассчитаем сколько каждый пользователь принес выручки в каждом месяце\n",
    "\n",
    "Для этого умножим стоимость поездки на их количество, добавим произведение стоимости одной минуты на стоимость поездки и добавим стоимость подписки. Данные о стоимостях приведены ниже\n",
    "\n",
    "\n",
    "* без подписки\n",
    "    * абонентская плата отсутствует\n",
    "    * стоимость одной минуты поездки — 8 рублей\n",
    "    * стоимость старта (начала поездки) — 50 рублей\n",
    "* с подпиской Ultra\n",
    "    * абонентская плата — 199 рублей в месяц\n",
    "    * стоимость одной минуты поездки — 6 рублей\n",
    "    * стоимость старта — бесплатно"
   ]
  },
  {
   "cell_type": "code",
   "execution_count": 33,
   "id": "0ae2fa53",
   "metadata": {},
   "outputs": [
    {
     "data": {
      "text/html": [
       "<div>\n",
       "<style scoped>\n",
       "    .dataframe tbody tr th:only-of-type {\n",
       "        vertical-align: middle;\n",
       "    }\n",
       "\n",
       "    .dataframe tbody tr th {\n",
       "        vertical-align: top;\n",
       "    }\n",
       "\n",
       "    .dataframe thead th {\n",
       "        text-align: right;\n",
       "    }\n",
       "</style>\n",
       "<table border=\"1\" class=\"dataframe\">\n",
       "  <thead>\n",
       "    <tr style=\"text-align: right;\">\n",
       "      <th></th>\n",
       "      <th>count</th>\n",
       "      <th>distance_sum</th>\n",
       "      <th>duration_sum</th>\n",
       "      <th>subscription_type</th>\n",
       "      <th>minute_price</th>\n",
       "      <th>start_ride_price</th>\n",
       "      <th>subscription_fee</th>\n",
       "      <th>income</th>\n",
       "    </tr>\n",
       "  </thead>\n",
       "  <tbody>\n",
       "    <tr>\n",
       "      <th>0</th>\n",
       "      <td>2</td>\n",
       "      <td>7027.511294</td>\n",
       "      <td>42.0</td>\n",
       "      <td>ultra</td>\n",
       "      <td>6</td>\n",
       "      <td>0</td>\n",
       "      <td>199</td>\n",
       "      <td>451.0</td>\n",
       "    </tr>\n",
       "    <tr>\n",
       "      <th>1</th>\n",
       "      <td>1</td>\n",
       "      <td>754.159807</td>\n",
       "      <td>7.0</td>\n",
       "      <td>ultra</td>\n",
       "      <td>6</td>\n",
       "      <td>0</td>\n",
       "      <td>199</td>\n",
       "      <td>241.0</td>\n",
       "    </tr>\n",
       "    <tr>\n",
       "      <th>2</th>\n",
       "      <td>2</td>\n",
       "      <td>6723.470560</td>\n",
       "      <td>46.0</td>\n",
       "      <td>ultra</td>\n",
       "      <td>6</td>\n",
       "      <td>0</td>\n",
       "      <td>199</td>\n",
       "      <td>475.0</td>\n",
       "    </tr>\n",
       "    <tr>\n",
       "      <th>3</th>\n",
       "      <td>2</td>\n",
       "      <td>5809.911100</td>\n",
       "      <td>32.0</td>\n",
       "      <td>ultra</td>\n",
       "      <td>6</td>\n",
       "      <td>0</td>\n",
       "      <td>199</td>\n",
       "      <td>391.0</td>\n",
       "    </tr>\n",
       "    <tr>\n",
       "      <th>4</th>\n",
       "      <td>3</td>\n",
       "      <td>7003.499363</td>\n",
       "      <td>56.0</td>\n",
       "      <td>ultra</td>\n",
       "      <td>6</td>\n",
       "      <td>0</td>\n",
       "      <td>199</td>\n",
       "      <td>535.0</td>\n",
       "    </tr>\n",
       "    <tr>\n",
       "      <th>...</th>\n",
       "      <td>...</td>\n",
       "      <td>...</td>\n",
       "      <td>...</td>\n",
       "      <td>...</td>\n",
       "      <td>...</td>\n",
       "      <td>...</td>\n",
       "      <td>...</td>\n",
       "      <td>...</td>\n",
       "    </tr>\n",
       "    <tr>\n",
       "      <th>11295</th>\n",
       "      <td>2</td>\n",
       "      <td>3409.468534</td>\n",
       "      <td>26.0</td>\n",
       "      <td>free</td>\n",
       "      <td>8</td>\n",
       "      <td>50</td>\n",
       "      <td>0</td>\n",
       "      <td>308.0</td>\n",
       "    </tr>\n",
       "    <tr>\n",
       "      <th>11296</th>\n",
       "      <td>2</td>\n",
       "      <td>7622.453034</td>\n",
       "      <td>48.0</td>\n",
       "      <td>free</td>\n",
       "      <td>8</td>\n",
       "      <td>50</td>\n",
       "      <td>0</td>\n",
       "      <td>484.0</td>\n",
       "    </tr>\n",
       "    <tr>\n",
       "      <th>11297</th>\n",
       "      <td>1</td>\n",
       "      <td>4928.173852</td>\n",
       "      <td>23.0</td>\n",
       "      <td>free</td>\n",
       "      <td>8</td>\n",
       "      <td>50</td>\n",
       "      <td>0</td>\n",
       "      <td>234.0</td>\n",
       "    </tr>\n",
       "    <tr>\n",
       "      <th>11298</th>\n",
       "      <td>4</td>\n",
       "      <td>13350.015305</td>\n",
       "      <td>78.0</td>\n",
       "      <td>free</td>\n",
       "      <td>8</td>\n",
       "      <td>50</td>\n",
       "      <td>0</td>\n",
       "      <td>824.0</td>\n",
       "    </tr>\n",
       "    <tr>\n",
       "      <th>11299</th>\n",
       "      <td>1</td>\n",
       "      <td>2371.711192</td>\n",
       "      <td>16.0</td>\n",
       "      <td>free</td>\n",
       "      <td>8</td>\n",
       "      <td>50</td>\n",
       "      <td>0</td>\n",
       "      <td>178.0</td>\n",
       "    </tr>\n",
       "  </tbody>\n",
       "</table>\n",
       "<p>11300 rows × 8 columns</p>\n",
       "</div>"
      ],
      "text/plain": [
       "       count  distance_sum  duration_sum subscription_type  minute_price  \\\n",
       "0          2   7027.511294          42.0             ultra             6   \n",
       "1          1    754.159807           7.0             ultra             6   \n",
       "2          2   6723.470560          46.0             ultra             6   \n",
       "3          2   5809.911100          32.0             ultra             6   \n",
       "4          3   7003.499363          56.0             ultra             6   \n",
       "...      ...           ...           ...               ...           ...   \n",
       "11295      2   3409.468534          26.0              free             8   \n",
       "11296      2   7622.453034          48.0              free             8   \n",
       "11297      1   4928.173852          23.0              free             8   \n",
       "11298      4  13350.015305          78.0              free             8   \n",
       "11299      1   2371.711192          16.0              free             8   \n",
       "\n",
       "       start_ride_price  subscription_fee  income  \n",
       "0                     0               199   451.0  \n",
       "1                     0               199   241.0  \n",
       "2                     0               199   475.0  \n",
       "3                     0               199   391.0  \n",
       "4                     0               199   535.0  \n",
       "...                 ...               ...     ...  \n",
       "11295                50                 0   308.0  \n",
       "11296                50                 0   484.0  \n",
       "11297                50                 0   234.0  \n",
       "11298                50                 0   824.0  \n",
       "11299                50                 0   178.0  \n",
       "\n",
       "[11300 rows x 8 columns]"
      ]
     },
     "execution_count": 33,
     "metadata": {},
     "output_type": "execute_result"
    }
   ],
   "source": [
    "aggr_all_data['income'] = aggr_all_data['duration_sum'] * aggr_all_data['minute_price'] + aggr_all_data['subscription_fee'] + aggr_all_data['count'] * aggr_all_data['start_ride_price']\n",
    "aggr_all_data"
   ]
  },
  {
   "cell_type": "code",
   "execution_count": 34,
   "id": "e3ee8187",
   "metadata": {},
   "outputs": [
    {
     "data": {
      "text/html": [
       "<div>\n",
       "<style scoped>\n",
       "    .dataframe tbody tr th:only-of-type {\n",
       "        vertical-align: middle;\n",
       "    }\n",
       "\n",
       "    .dataframe tbody tr th {\n",
       "        vertical-align: top;\n",
       "    }\n",
       "\n",
       "    .dataframe thead th {\n",
       "        text-align: right;\n",
       "    }\n",
       "</style>\n",
       "<table border=\"1\" class=\"dataframe\">\n",
       "  <thead>\n",
       "    <tr style=\"text-align: right;\">\n",
       "      <th></th>\n",
       "      <th>count</th>\n",
       "      <th>distance_sum</th>\n",
       "      <th>duration_sum</th>\n",
       "      <th>subscription_type</th>\n",
       "      <th>minute_price</th>\n",
       "      <th>start_ride_price</th>\n",
       "      <th>subscription_fee</th>\n",
       "      <th>income</th>\n",
       "    </tr>\n",
       "  </thead>\n",
       "  <tbody>\n",
       "    <tr>\n",
       "      <th>0</th>\n",
       "      <td>2</td>\n",
       "      <td>7027.511294</td>\n",
       "      <td>42.0</td>\n",
       "      <td>ultra</td>\n",
       "      <td>6</td>\n",
       "      <td>0</td>\n",
       "      <td>199</td>\n",
       "      <td>451.0</td>\n",
       "    </tr>\n",
       "    <tr>\n",
       "      <th>1</th>\n",
       "      <td>1</td>\n",
       "      <td>754.159807</td>\n",
       "      <td>7.0</td>\n",
       "      <td>ultra</td>\n",
       "      <td>6</td>\n",
       "      <td>0</td>\n",
       "      <td>199</td>\n",
       "      <td>241.0</td>\n",
       "    </tr>\n",
       "    <tr>\n",
       "      <th>2</th>\n",
       "      <td>2</td>\n",
       "      <td>6723.470560</td>\n",
       "      <td>46.0</td>\n",
       "      <td>ultra</td>\n",
       "      <td>6</td>\n",
       "      <td>0</td>\n",
       "      <td>199</td>\n",
       "      <td>475.0</td>\n",
       "    </tr>\n",
       "    <tr>\n",
       "      <th>3</th>\n",
       "      <td>2</td>\n",
       "      <td>5809.911100</td>\n",
       "      <td>32.0</td>\n",
       "      <td>ultra</td>\n",
       "      <td>6</td>\n",
       "      <td>0</td>\n",
       "      <td>199</td>\n",
       "      <td>391.0</td>\n",
       "    </tr>\n",
       "    <tr>\n",
       "      <th>4</th>\n",
       "      <td>3</td>\n",
       "      <td>7003.499363</td>\n",
       "      <td>56.0</td>\n",
       "      <td>ultra</td>\n",
       "      <td>6</td>\n",
       "      <td>0</td>\n",
       "      <td>199</td>\n",
       "      <td>535.0</td>\n",
       "    </tr>\n",
       "    <tr>\n",
       "      <th>...</th>\n",
       "      <td>...</td>\n",
       "      <td>...</td>\n",
       "      <td>...</td>\n",
       "      <td>...</td>\n",
       "      <td>...</td>\n",
       "      <td>...</td>\n",
       "      <td>...</td>\n",
       "      <td>...</td>\n",
       "    </tr>\n",
       "    <tr>\n",
       "      <th>4528</th>\n",
       "      <td>1</td>\n",
       "      <td>4072.797406</td>\n",
       "      <td>17.0</td>\n",
       "      <td>ultra</td>\n",
       "      <td>6</td>\n",
       "      <td>0</td>\n",
       "      <td>199</td>\n",
       "      <td>301.0</td>\n",
       "    </tr>\n",
       "    <tr>\n",
       "      <th>4529</th>\n",
       "      <td>2</td>\n",
       "      <td>7018.324143</td>\n",
       "      <td>45.0</td>\n",
       "      <td>ultra</td>\n",
       "      <td>6</td>\n",
       "      <td>0</td>\n",
       "      <td>199</td>\n",
       "      <td>469.0</td>\n",
       "    </tr>\n",
       "    <tr>\n",
       "      <th>4530</th>\n",
       "      <td>2</td>\n",
       "      <td>6364.861911</td>\n",
       "      <td>31.0</td>\n",
       "      <td>ultra</td>\n",
       "      <td>6</td>\n",
       "      <td>0</td>\n",
       "      <td>199</td>\n",
       "      <td>385.0</td>\n",
       "    </tr>\n",
       "    <tr>\n",
       "      <th>4531</th>\n",
       "      <td>1</td>\n",
       "      <td>4707.845501</td>\n",
       "      <td>16.0</td>\n",
       "      <td>ultra</td>\n",
       "      <td>6</td>\n",
       "      <td>0</td>\n",
       "      <td>199</td>\n",
       "      <td>295.0</td>\n",
       "    </tr>\n",
       "    <tr>\n",
       "      <th>4532</th>\n",
       "      <td>1</td>\n",
       "      <td>3202.890770</td>\n",
       "      <td>26.0</td>\n",
       "      <td>ultra</td>\n",
       "      <td>6</td>\n",
       "      <td>0</td>\n",
       "      <td>199</td>\n",
       "      <td>355.0</td>\n",
       "    </tr>\n",
       "  </tbody>\n",
       "</table>\n",
       "<p>4533 rows × 8 columns</p>\n",
       "</div>"
      ],
      "text/plain": [
       "      count  distance_sum  duration_sum subscription_type  minute_price  \\\n",
       "0         2   7027.511294          42.0             ultra             6   \n",
       "1         1    754.159807           7.0             ultra             6   \n",
       "2         2   6723.470560          46.0             ultra             6   \n",
       "3         2   5809.911100          32.0             ultra             6   \n",
       "4         3   7003.499363          56.0             ultra             6   \n",
       "...     ...           ...           ...               ...           ...   \n",
       "4528      1   4072.797406          17.0             ultra             6   \n",
       "4529      2   7018.324143          45.0             ultra             6   \n",
       "4530      2   6364.861911          31.0             ultra             6   \n",
       "4531      1   4707.845501          16.0             ultra             6   \n",
       "4532      1   3202.890770          26.0             ultra             6   \n",
       "\n",
       "      start_ride_price  subscription_fee  income  \n",
       "0                    0               199   451.0  \n",
       "1                    0               199   241.0  \n",
       "2                    0               199   475.0  \n",
       "3                    0               199   391.0  \n",
       "4                    0               199   535.0  \n",
       "...                ...               ...     ...  \n",
       "4528                 0               199   301.0  \n",
       "4529                 0               199   469.0  \n",
       "4530                 0               199   385.0  \n",
       "4531                 0               199   295.0  \n",
       "4532                 0               199   355.0  \n",
       "\n",
       "[4533 rows x 8 columns]"
      ]
     },
     "metadata": {},
     "output_type": "display_data"
    },
    {
     "data": {
      "text/html": [
       "<div>\n",
       "<style scoped>\n",
       "    .dataframe tbody tr th:only-of-type {\n",
       "        vertical-align: middle;\n",
       "    }\n",
       "\n",
       "    .dataframe tbody tr th {\n",
       "        vertical-align: top;\n",
       "    }\n",
       "\n",
       "    .dataframe thead th {\n",
       "        text-align: right;\n",
       "    }\n",
       "</style>\n",
       "<table border=\"1\" class=\"dataframe\">\n",
       "  <thead>\n",
       "    <tr style=\"text-align: right;\">\n",
       "      <th></th>\n",
       "      <th>count</th>\n",
       "      <th>distance_sum</th>\n",
       "      <th>duration_sum</th>\n",
       "      <th>subscription_type</th>\n",
       "      <th>minute_price</th>\n",
       "      <th>start_ride_price</th>\n",
       "      <th>subscription_fee</th>\n",
       "      <th>income</th>\n",
       "    </tr>\n",
       "  </thead>\n",
       "  <tbody>\n",
       "    <tr>\n",
       "      <th>4533</th>\n",
       "      <td>1</td>\n",
       "      <td>2515.690719</td>\n",
       "      <td>15.0</td>\n",
       "      <td>free</td>\n",
       "      <td>8</td>\n",
       "      <td>50</td>\n",
       "      <td>0</td>\n",
       "      <td>170.0</td>\n",
       "    </tr>\n",
       "    <tr>\n",
       "      <th>4534</th>\n",
       "      <td>5</td>\n",
       "      <td>13446.659764</td>\n",
       "      <td>89.0</td>\n",
       "      <td>free</td>\n",
       "      <td>8</td>\n",
       "      <td>50</td>\n",
       "      <td>0</td>\n",
       "      <td>962.0</td>\n",
       "    </tr>\n",
       "    <tr>\n",
       "      <th>4535</th>\n",
       "      <td>1</td>\n",
       "      <td>3798.334905</td>\n",
       "      <td>19.0</td>\n",
       "      <td>free</td>\n",
       "      <td>8</td>\n",
       "      <td>50</td>\n",
       "      <td>0</td>\n",
       "      <td>202.0</td>\n",
       "    </tr>\n",
       "    <tr>\n",
       "      <th>4536</th>\n",
       "      <td>1</td>\n",
       "      <td>2984.551206</td>\n",
       "      <td>16.0</td>\n",
       "      <td>free</td>\n",
       "      <td>8</td>\n",
       "      <td>50</td>\n",
       "      <td>0</td>\n",
       "      <td>178.0</td>\n",
       "    </tr>\n",
       "    <tr>\n",
       "      <th>4537</th>\n",
       "      <td>2</td>\n",
       "      <td>5927.650988</td>\n",
       "      <td>29.0</td>\n",
       "      <td>free</td>\n",
       "      <td>8</td>\n",
       "      <td>50</td>\n",
       "      <td>0</td>\n",
       "      <td>332.0</td>\n",
       "    </tr>\n",
       "    <tr>\n",
       "      <th>...</th>\n",
       "      <td>...</td>\n",
       "      <td>...</td>\n",
       "      <td>...</td>\n",
       "      <td>...</td>\n",
       "      <td>...</td>\n",
       "      <td>...</td>\n",
       "      <td>...</td>\n",
       "      <td>...</td>\n",
       "    </tr>\n",
       "    <tr>\n",
       "      <th>11295</th>\n",
       "      <td>2</td>\n",
       "      <td>3409.468534</td>\n",
       "      <td>26.0</td>\n",
       "      <td>free</td>\n",
       "      <td>8</td>\n",
       "      <td>50</td>\n",
       "      <td>0</td>\n",
       "      <td>308.0</td>\n",
       "    </tr>\n",
       "    <tr>\n",
       "      <th>11296</th>\n",
       "      <td>2</td>\n",
       "      <td>7622.453034</td>\n",
       "      <td>48.0</td>\n",
       "      <td>free</td>\n",
       "      <td>8</td>\n",
       "      <td>50</td>\n",
       "      <td>0</td>\n",
       "      <td>484.0</td>\n",
       "    </tr>\n",
       "    <tr>\n",
       "      <th>11297</th>\n",
       "      <td>1</td>\n",
       "      <td>4928.173852</td>\n",
       "      <td>23.0</td>\n",
       "      <td>free</td>\n",
       "      <td>8</td>\n",
       "      <td>50</td>\n",
       "      <td>0</td>\n",
       "      <td>234.0</td>\n",
       "    </tr>\n",
       "    <tr>\n",
       "      <th>11298</th>\n",
       "      <td>4</td>\n",
       "      <td>13350.015305</td>\n",
       "      <td>78.0</td>\n",
       "      <td>free</td>\n",
       "      <td>8</td>\n",
       "      <td>50</td>\n",
       "      <td>0</td>\n",
       "      <td>824.0</td>\n",
       "    </tr>\n",
       "    <tr>\n",
       "      <th>11299</th>\n",
       "      <td>1</td>\n",
       "      <td>2371.711192</td>\n",
       "      <td>16.0</td>\n",
       "      <td>free</td>\n",
       "      <td>8</td>\n",
       "      <td>50</td>\n",
       "      <td>0</td>\n",
       "      <td>178.0</td>\n",
       "    </tr>\n",
       "  </tbody>\n",
       "</table>\n",
       "<p>6767 rows × 8 columns</p>\n",
       "</div>"
      ],
      "text/plain": [
       "       count  distance_sum  duration_sum subscription_type  minute_price  \\\n",
       "4533       1   2515.690719          15.0              free             8   \n",
       "4534       5  13446.659764          89.0              free             8   \n",
       "4535       1   3798.334905          19.0              free             8   \n",
       "4536       1   2984.551206          16.0              free             8   \n",
       "4537       2   5927.650988          29.0              free             8   \n",
       "...      ...           ...           ...               ...           ...   \n",
       "11295      2   3409.468534          26.0              free             8   \n",
       "11296      2   7622.453034          48.0              free             8   \n",
       "11297      1   4928.173852          23.0              free             8   \n",
       "11298      4  13350.015305          78.0              free             8   \n",
       "11299      1   2371.711192          16.0              free             8   \n",
       "\n",
       "       start_ride_price  subscription_fee  income  \n",
       "4533                 50                 0   170.0  \n",
       "4534                 50                 0   962.0  \n",
       "4535                 50                 0   202.0  \n",
       "4536                 50                 0   178.0  \n",
       "4537                 50                 0   332.0  \n",
       "...                 ...               ...     ...  \n",
       "11295                50                 0   308.0  \n",
       "11296                50                 0   484.0  \n",
       "11297                50                 0   234.0  \n",
       "11298                50                 0   824.0  \n",
       "11299                50                 0   178.0  \n",
       "\n",
       "[6767 rows x 8 columns]"
      ]
     },
     "execution_count": 34,
     "metadata": {},
     "output_type": "execute_result"
    }
   ],
   "source": [
    "aggr_ultra_data = aggr_all_data.query('subscription_type == \"ultra\"')\n",
    "aggr_free_data = aggr_all_data.query('subscription_type == \"free\"')\n",
    "\n",
    "display(aggr_ultra_data)\n",
    "aggr_free_data"
   ]
  },
  {
   "cell_type": "markdown",
   "id": "97fce376",
   "metadata": {},
   "source": [
    "Разделил данные на поездки с подпиской и без"
   ]
  },
  {
   "cell_type": "markdown",
   "id": "369a2185",
   "metadata": {},
   "source": [
    "#### Шаг 6. Проверка гипотез"
   ]
  },
  {
   "cell_type": "markdown",
   "id": "d09d5cd8",
   "metadata": {},
   "source": [
    "#####  Гипотеза 1. Тратят ли пользователи с подпиской больше времени на поездки"
   ]
  },
  {
   "cell_type": "markdown",
   "id": "c40061e4",
   "metadata": {},
   "source": [
    "Формулировка гипотезы: Пользователи с подпиской тратят больше времени в месяц на пользование сервисом. Уровень статистической значимости примем 0.05\n",
    "\n",
    "Нулевая гипотеза: Между средними значениями времени использования сервиса пользователей с подпиской и без, нет разницы. Они равны\n",
    "\n",
    "Альтернативная гипотеза: Среднее значение первой генеральной совокупности (время использования пользователями с подпиской) больше среднего значения второй генеральной совокупности (время использования пользователями без подписки)"
   ]
  },
  {
   "cell_type": "code",
   "execution_count": 35,
   "id": "cfe80744",
   "metadata": {},
   "outputs": [
    {
     "name": "stdout",
     "output_type": "stream",
     "text": [
      "p-значение: 4.704468074453899e-28\n",
      "Отвергаем нулевую гипотезу\n",
      "Среднее время поездки для пользователей с подпиской:  18.54\n",
      "Среднее время поездки для пользователей без подписки:  17.53\n"
     ]
    }
   ],
   "source": [
    "alpha = 0.05\n",
    "\n",
    "results = st.ttest_ind(all_data_ultra['duration'], all_data_free['duration'], alternative='greater')\n",
    "print('p-значение:', results.pvalue)\n",
    "\n",
    "if results.pvalue < alpha:\n",
    "    print('Отвергаем нулевую гипотезу')\n",
    "else:\n",
    "    print('Не получилось отвергнуть нулевую гипотезу')\n",
    "\n",
    "print('Среднее время поездки для пользователей с подпиской: ', round(all_data_ultra['duration'].mean(), 2))\n",
    "print('Среднее время поездки для пользователей без подписки: ', round(all_data_free['duration'].mean(), 2))"
   ]
  },
  {
   "cell_type": "markdown",
   "id": "f3ff4076",
   "metadata": {},
   "source": [
    "Отвергаем нулевую гипотезу. Пользователи с подпиской вероятно проводят больше времени в поездках, чем пользователи без подписки. Это подтверждается истиными среднеми значениями из исходных данных."
   ]
  },
  {
   "cell_type": "markdown",
   "id": "2037035f",
   "metadata": {},
   "source": [
    "#####  Гипотеза 2. Оптимальное расстояние поездки"
   ]
  },
  {
   "cell_type": "markdown",
   "id": "3c70d316",
   "metadata": {},
   "source": [
    "Формулировка гипотезы: Расстояние одной поездки в 3130 метров — оптимальное с точки зрения износа самоката. Можно ли сказать, что среднее расстояние, которое проезжают пользователи с подпиской за одну поездку, не превышает 3130 метров? Уровень статистической значимости примем 0.05\n",
    "\n",
    "Нулевая гипотеза: Среднее значение расстояния поездок пользователей с подписокой равно 3130 метров.\n",
    "\n",
    "Альтернативная гипотеза: Среднее значение расстояния поездок пользователей с подписокой больше 3130 метров."
   ]
  },
  {
   "cell_type": "code",
   "execution_count": 36,
   "id": "200cb853",
   "metadata": {
    "scrolled": true
   },
   "outputs": [
    {
     "name": "stdout",
     "output_type": "stream",
     "text": [
      "p-значение: 0.9195368847849785\n",
      "Не получилось отвергнуть нулевую гипотезу\n"
     ]
    },
    {
     "data": {
      "text/plain": [
       "3115.45"
      ]
     },
     "execution_count": 36,
     "metadata": {},
     "output_type": "execute_result"
    }
   ],
   "source": [
    "interested_value = 3130\n",
    "alpha = 0.05\n",
    "\n",
    "results = st.ttest_1samp(all_data_ultra['distance'], interested_value, alternative='greater')\n",
    "\n",
    "print('p-значение:', results.pvalue)\n",
    "\n",
    "if results.pvalue < alpha:\n",
    "    print('Отвергаем нулевую гипотезу')\n",
    "else:\n",
    "    print('Не получилось отвергнуть нулевую гипотезу')\n",
    "\n",
    "round(all_data_ultra['distance'].mean(), 2)"
   ]
  },
  {
   "cell_type": "markdown",
   "id": "ca699e9a",
   "metadata": {},
   "source": [
    "Не получилось отвергнуть нулевую гипотезу. Однако это не значит что она истина. Пользователи с подпиской вероятно в среднем проезжают 3130 м. Это подтверждает истиное среднее значение дальности поездок для пользователей с подпиской "
   ]
  },
  {
   "cell_type": "markdown",
   "id": "4d861c0e",
   "metadata": {},
   "source": [
    "#####  Гипотеза 3. Сравнение выручки"
   ]
  },
  {
   "cell_type": "markdown",
   "id": "5814f76c",
   "metadata": {},
   "source": [
    "Формулировка гипотезы: Помесячная выручка от пользователей с подпиской по месяцам выше, чем выручка от пользователей без подписки. Уровень статистической значимости примем 0.05\n",
    "\n",
    "Нулевая гипотеза: Среднее значение помесячной выручки от пользователей с подпиской по месяцам равна выручке от пользователей без подписки\n",
    "\n",
    "Альтернативная гипотеза: Среднее значение помесячной выручки от пользователей с подпиской по месяцам больше выручки от пользователей без подписки"
   ]
  },
  {
   "cell_type": "code",
   "execution_count": 37,
   "id": "df515c6d",
   "metadata": {},
   "outputs": [
    {
     "name": "stdout",
     "output_type": "stream",
     "text": [
      "p-значение: 2.0314113674863288e-30\n",
      "Отвергаем нулевую гипотезу\n",
      "Средняя выручка для пользователей с подпиской:  363\n",
      "Средняя выручка для пользователей без подписки:  329\n"
     ]
    }
   ],
   "source": [
    "alpha = 0.05\n",
    "\n",
    "results = st.ttest_ind(aggr_ultra_data['income'], aggr_free_data['income'], alternative='greater')\n",
    "print('p-значение:', results.pvalue)\n",
    "\n",
    "if results.pvalue < alpha:\n",
    "    print('Отвергаем нулевую гипотезу')\n",
    "else:\n",
    "    print('Не получилось отвергнуть нулевую гипотезу')\n",
    "\n",
    "print('Средняя выручка для пользователей с подпиской: ', round(aggr_ultra_data['income'].mean()))\n",
    "print('Средняя выручка для пользователей без подписки: ', round(aggr_free_data['income'].mean()))"
   ]
  },
  {
   "cell_type": "markdown",
   "id": "c4dfb1ba",
   "metadata": {},
   "source": [
    "Отвергаем нулевую гипотезу в пользу альтернативной. Выручка от пользователей с подпиской и без точно не ровна. Вероятно пользователи с подпиской приносят больше выручки чем пользователи без. Это подтверждают истенные средние значения для выручки с подпиской и без"
   ]
  },
  {
   "cell_type": "markdown",
   "id": "0704b938",
   "metadata": {},
   "source": [
    "#####  Гипотеза 4. Вопрос о типе теста"
   ]
  },
  {
   "cell_type": "markdown",
   "id": "797aea95",
   "metadata": {},
   "source": [
    "Представьте такую ситуацию: техническая команда сервиса обновила сервера, с которыми взаимодействует мобильное приложение. Она надеется, что из-за этого количество обращений в техподдержку значимо снизилось. Некоторый файл содержит для каждого пользователя данные о количестве обращений до обновления и после него. Какой тест вам понадобился бы для проверки этой гипотезы?"
   ]
  },
  {
   "cell_type": "markdown",
   "id": "b88ced22",
   "metadata": {},
   "source": [
    "В этом случае мы будем проверять равны ли совокупности до и после внедрения изменений. Нулевая гипотеза будет сформулирована так: \"Среднее значение количество обращений от пользователя в месяц до обновления сервера равно этому же количеству после обновления сервера.\" Альтернативная гипотеза: \"Среднее значение количество обращений от пользователя в месяц до обновления сервера больше этого же количество после обновления сервера.\"\n",
    "\n",
    "Для технической реализации используется метод `scipy.stats.ttest_rel()` с аргументом `alternative='greater'`"
   ]
  },
  {
   "cell_type": "markdown",
   "id": "bce17555",
   "metadata": {},
   "source": [
    "#### Общий вывод"
   ]
  },
  {
   "cell_type": "markdown",
   "id": "984d6969",
   "metadata": {},
   "source": [
    "Целью проекта была проверка некоторых гипотез о работе сервиса аренды самокатов GoFast. А также анализ данных полученных данных и формирование выводов о поведении пользователей сервиса и их поездках.\n",
    "\n",
    "В ходе проекта были обработаны и проанализированы данные работы сервиса по аренде электро самокатов.\n",
    "Произведена предобработка данных в ходе которой:\n",
    "* Изменен тип данных в столбце с датами\n",
    "* Добавлен новы столбец с номером месяца\n",
    "* Обнаружены и исключены дубликаты\n",
    "* Пропущенных значений не найдено\n",
    "* Диапазон предоставленных данных охватывает период с 1 января 2021 года по 30 декабря 2021 года\n",
    "\n",
    "Также произведен исследовательский анализ данных в ходе которого:\n",
    "* Данные по поездкам и пользователям были исследованы и описаны\n",
    "* Построены графики распределения значений\n",
    "* Описаны виды распределений \n",
    "* Были выявлены характерные значения\n",
    "    * Самый распространенный город - Пятигорск. Данные приведены по 8 городам\n",
    "    * 45,6% пользователей имеют подписку\n",
    "    * Среднее возраст пользователя - 25 лет\n",
    "    * Среднее расстояние за поездку - около 700 и 3000м. Два локальных пика. Могу предположить что это связано со сценариями использования самокатов. Как городского транспорта \"последнего километра\" и как транспорт на более дальнее расстояния.\n",
    "    * Средняя продолжительность поездок - 17 минут\n",
    "* Описаны аномалии в данных и даны гипотезы их возникновения. Исключены не корректные данные связанные с ошибками во времени аренды\n",
    "\n",
    "\n",
    "Данные из разных таблиц были объеденины в общий массив. Также были созданы отдельные массивы данных для поездок пользователей с подпиской и без. В ходе сравнения информации о пользователях с подпиской и без были выявлены следующие закономерности:\n",
    "* Среднее время использования сервиса для пользователей с подпиской и без, не имеет существенного различия\n",
    "* Распределение дальности поездок для пользователей с подпиской и без, имеет два локальных пика. Пики для каждой из категорий пользователей смещены относительно общих средних значений. Можно предположить что это связано с ценой минуты аренды. Для пользователей с подпиской она ниже, следовательно, и первый пик имеет большее значение чем у пользователей без подписки. На второй Пик цена аренды уже не оказывает такого существенного влияния.\n",
    "\n",
    "Далее были произведены расчеты выручки для сервиса по месяцам от каждой поездки с учетом наличия у пользователей подписки. В результате были сформированы 3 таблицы. Общая и две отдельные на каждую категорию пользователей (с подпиской и без)\n",
    "\n",
    "И наконец проверены 4 гипотезы со следующими выводами:\n",
    "* Пользователи с подпиской вероятно проводят больше времени в поездках, чем пользователи без подписки. Это подтверждается истинными средними значениями.\n",
    "* Пользователи с подпиской вероятно в среднем проезжают 3130 м. Это подтверждается истинным средним значением.\n",
    "* Вероятно пользователи с подпиской приносят больше выручки чем пользователи без. Это подтверждают истинные средние значения для выручки с подпиской и без.\n",
    "* Приведен развернутый ответ на вопрос о типе теста для проверки гипотезы об улучшении качества услуги после внедрения изменения.\n",
    "\n",
    "В результате проведенного исследования можно сделать вывод, что пользователи с подпиской незначительно выгоднее для бизнеса с точки зрения приносимой выручки. При очень близки значениях среднего расстояния поездки и времени поездки. Имеет смысл увеличивать количество пользователей с подпиской"
   ]
  }
 ],
 "metadata": {
  "ExecuteTimeLog": [
   {
    "duration": 418,
    "start_time": "2024-01-23T05:53:27.447Z"
   },
   {
    "duration": 78,
    "start_time": "2024-01-23T05:58:14.665Z"
   },
   {
    "duration": 42,
    "start_time": "2024-01-23T05:58:20.943Z"
   },
   {
    "duration": 150,
    "start_time": "2024-01-23T05:59:01.866Z"
   },
   {
    "duration": 17,
    "start_time": "2024-01-23T05:59:46.077Z"
   },
   {
    "duration": 16,
    "start_time": "2024-01-23T05:59:58.214Z"
   },
   {
    "duration": 26,
    "start_time": "2024-01-23T06:00:17.556Z"
   },
   {
    "duration": 13,
    "start_time": "2024-01-23T06:05:28.968Z"
   },
   {
    "duration": 49,
    "start_time": "2024-01-23T06:05:44.359Z"
   },
   {
    "duration": 4,
    "start_time": "2024-01-23T06:18:22.453Z"
   },
   {
    "duration": 11,
    "start_time": "2024-01-23T06:18:28.705Z"
   },
   {
    "duration": 13,
    "start_time": "2024-01-23T06:18:33.288Z"
   },
   {
    "duration": 4,
    "start_time": "2024-01-23T06:18:40.103Z"
   },
   {
    "duration": 4,
    "start_time": "2024-01-23T06:18:41.793Z"
   },
   {
    "duration": 5,
    "start_time": "2024-01-23T06:20:35.361Z"
   },
   {
    "duration": 4,
    "start_time": "2024-01-23T06:20:46.657Z"
   },
   {
    "duration": 64,
    "start_time": "2024-01-23T06:20:54.619Z"
   },
   {
    "duration": 5,
    "start_time": "2024-01-23T06:21:01.411Z"
   },
   {
    "duration": 1,
    "start_time": "2024-01-23T06:21:37.579Z"
   },
   {
    "duration": 1410,
    "start_time": "2024-01-23T06:21:39.673Z"
   },
   {
    "duration": 6,
    "start_time": "2024-01-23T06:21:49.154Z"
   },
   {
    "duration": 1494,
    "start_time": "2024-01-23T06:30:15.078Z"
   },
   {
    "duration": 42,
    "start_time": "2024-01-23T06:31:23.583Z"
   },
   {
    "duration": 11,
    "start_time": "2024-01-23T06:32:11.746Z"
   },
   {
    "duration": 12,
    "start_time": "2024-01-23T06:32:23.208Z"
   },
   {
    "duration": 11,
    "start_time": "2024-01-23T06:32:33.226Z"
   },
   {
    "duration": 8,
    "start_time": "2024-01-23T06:33:23.767Z"
   },
   {
    "duration": 13,
    "start_time": "2024-01-23T06:33:37.140Z"
   },
   {
    "duration": 8,
    "start_time": "2024-01-23T06:33:53.910Z"
   },
   {
    "duration": 12,
    "start_time": "2024-01-23T06:34:00.205Z"
   },
   {
    "duration": 9,
    "start_time": "2024-01-23T06:34:13.295Z"
   },
   {
    "duration": 12,
    "start_time": "2024-01-23T06:34:38.710Z"
   },
   {
    "duration": 12,
    "start_time": "2024-01-23T06:34:56.089Z"
   },
   {
    "duration": 9,
    "start_time": "2024-01-23T06:34:59.158Z"
   },
   {
    "duration": 8,
    "start_time": "2024-01-23T06:35:06.109Z"
   },
   {
    "duration": 12,
    "start_time": "2024-01-23T06:35:08.915Z"
   },
   {
    "duration": 6,
    "start_time": "2024-01-23T06:43:24.751Z"
   },
   {
    "duration": 7,
    "start_time": "2024-01-23T06:43:29.543Z"
   },
   {
    "duration": 13,
    "start_time": "2024-01-23T06:43:49.527Z"
   },
   {
    "duration": 6,
    "start_time": "2024-01-23T06:44:45.833Z"
   },
   {
    "duration": 14,
    "start_time": "2024-01-23T06:44:54.708Z"
   },
   {
    "duration": 12,
    "start_time": "2024-01-23T06:48:03.151Z"
   },
   {
    "duration": 6,
    "start_time": "2024-01-23T06:48:12.387Z"
   },
   {
    "duration": 11,
    "start_time": "2024-01-23T06:48:18.488Z"
   },
   {
    "duration": 6,
    "start_time": "2024-01-23T06:48:38.975Z"
   },
   {
    "duration": 15,
    "start_time": "2024-01-23T06:49:07.358Z"
   },
   {
    "duration": 547,
    "start_time": "2024-01-23T12:53:54.876Z"
   },
   {
    "duration": 123,
    "start_time": "2024-01-23T12:54:12.802Z"
   },
   {
    "duration": 131,
    "start_time": "2024-01-23T12:54:20.877Z"
   },
   {
    "duration": 175,
    "start_time": "2024-01-23T12:54:28.707Z"
   },
   {
    "duration": 141,
    "start_time": "2024-01-23T12:54:37.434Z"
   },
   {
    "duration": 123,
    "start_time": "2024-01-23T12:55:08.256Z"
   },
   {
    "duration": 134,
    "start_time": "2024-01-23T12:55:12.760Z"
   },
   {
    "duration": 132,
    "start_time": "2024-01-23T12:55:16.361Z"
   },
   {
    "duration": 118,
    "start_time": "2024-01-23T12:55:21.113Z"
   },
   {
    "duration": 133,
    "start_time": "2024-01-23T12:55:35.256Z"
   },
   {
    "duration": 140,
    "start_time": "2024-01-23T12:55:40.775Z"
   },
   {
    "duration": 136,
    "start_time": "2024-01-23T12:55:56.879Z"
   },
   {
    "duration": 131,
    "start_time": "2024-01-23T12:56:07.518Z"
   },
   {
    "duration": 160,
    "start_time": "2024-01-23T12:56:50.533Z"
   },
   {
    "duration": 215,
    "start_time": "2024-01-23T12:57:11.109Z"
   },
   {
    "duration": 136,
    "start_time": "2024-01-23T12:57:32.403Z"
   },
   {
    "duration": 146,
    "start_time": "2024-01-23T12:57:51.883Z"
   },
   {
    "duration": 125,
    "start_time": "2024-01-23T12:57:58.876Z"
   },
   {
    "duration": 132,
    "start_time": "2024-01-23T12:58:12.874Z"
   },
   {
    "duration": 5,
    "start_time": "2024-01-23T13:00:04.975Z"
   },
   {
    "duration": 5,
    "start_time": "2024-01-23T13:02:51.595Z"
   },
   {
    "duration": 106,
    "start_time": "2024-01-23T13:03:02.246Z"
   },
   {
    "duration": 233,
    "start_time": "2024-01-23T13:04:47.678Z"
   },
   {
    "duration": 241,
    "start_time": "2024-01-23T13:05:32.756Z"
   },
   {
    "duration": 266,
    "start_time": "2024-01-23T13:06:11.099Z"
   },
   {
    "duration": 367,
    "start_time": "2024-01-23T13:06:26.315Z"
   },
   {
    "duration": 263,
    "start_time": "2024-01-23T13:06:39.299Z"
   },
   {
    "duration": 220,
    "start_time": "2024-01-23T13:06:47.147Z"
   },
   {
    "duration": 104,
    "start_time": "2024-01-23T13:07:10.425Z"
   },
   {
    "duration": 96,
    "start_time": "2024-01-23T13:07:15.922Z"
   },
   {
    "duration": 13,
    "start_time": "2024-01-23T13:09:28.815Z"
   },
   {
    "duration": 6,
    "start_time": "2024-01-23T13:09:40.523Z"
   },
   {
    "duration": 5,
    "start_time": "2024-01-23T13:09:45.646Z"
   },
   {
    "duration": 5,
    "start_time": "2024-01-23T13:09:57.614Z"
   },
   {
    "duration": 4,
    "start_time": "2024-01-23T13:10:25.685Z"
   },
   {
    "duration": 4,
    "start_time": "2024-01-23T13:11:51.237Z"
   },
   {
    "duration": 3,
    "start_time": "2024-01-23T13:12:43.276Z"
   },
   {
    "duration": 19,
    "start_time": "2024-01-23T13:12:48.878Z"
   },
   {
    "duration": 3,
    "start_time": "2024-01-23T13:12:57.717Z"
   },
   {
    "duration": 18,
    "start_time": "2024-01-23T13:12:58.771Z"
   },
   {
    "duration": 5,
    "start_time": "2024-01-23T13:13:05.454Z"
   },
   {
    "duration": 5,
    "start_time": "2024-01-23T13:13:07.251Z"
   },
   {
    "duration": 376,
    "start_time": "2024-01-23T13:13:19.319Z"
   },
   {
    "duration": 70,
    "start_time": "2024-01-23T13:13:19.697Z"
   },
   {
    "duration": 22,
    "start_time": "2024-01-23T13:13:19.769Z"
   },
   {
    "duration": 35,
    "start_time": "2024-01-23T13:13:19.792Z"
   },
   {
    "duration": 13,
    "start_time": "2024-01-23T13:13:19.830Z"
   },
   {
    "duration": 24,
    "start_time": "2024-01-23T13:13:19.844Z"
   },
   {
    "duration": 14,
    "start_time": "2024-01-23T13:13:19.869Z"
   },
   {
    "duration": 15,
    "start_time": "2024-01-23T13:13:19.884Z"
   },
   {
    "duration": 19,
    "start_time": "2024-01-23T13:13:19.900Z"
   },
   {
    "duration": 11,
    "start_time": "2024-01-23T13:13:19.920Z"
   },
   {
    "duration": 395,
    "start_time": "2024-01-23T13:13:19.932Z"
   },
   {
    "duration": 109,
    "start_time": "2024-01-23T13:13:20.328Z"
   },
   {
    "duration": 5,
    "start_time": "2024-01-23T13:13:20.439Z"
   },
   {
    "duration": 226,
    "start_time": "2024-01-23T13:13:20.464Z"
   },
   {
    "duration": 105,
    "start_time": "2024-01-23T13:13:20.692Z"
   },
   {
    "duration": 5,
    "start_time": "2024-01-23T13:13:38.251Z"
   },
   {
    "duration": 4,
    "start_time": "2024-01-23T13:13:47.101Z"
   },
   {
    "duration": 5,
    "start_time": "2024-01-23T13:13:50.251Z"
   },
   {
    "duration": 5,
    "start_time": "2024-01-23T13:14:12.291Z"
   },
   {
    "duration": 6,
    "start_time": "2024-01-23T13:15:00.514Z"
   },
   {
    "duration": 128,
    "start_time": "2024-01-23T13:15:06.618Z"
   },
   {
    "duration": 223,
    "start_time": "2024-01-23T13:15:14.036Z"
   },
   {
    "duration": 231,
    "start_time": "2024-01-23T13:15:18.009Z"
   },
   {
    "duration": 319,
    "start_time": "2024-01-23T13:15:29.865Z"
   },
   {
    "duration": 240,
    "start_time": "2024-01-23T13:15:46.801Z"
   },
   {
    "duration": 6,
    "start_time": "2024-01-23T13:16:22.576Z"
   },
   {
    "duration": 359,
    "start_time": "2024-01-23T13:17:23.811Z"
   },
   {
    "duration": 70,
    "start_time": "2024-01-23T13:17:24.172Z"
   },
   {
    "duration": 23,
    "start_time": "2024-01-23T13:17:24.243Z"
   },
   {
    "duration": 30,
    "start_time": "2024-01-23T13:17:24.267Z"
   },
   {
    "duration": 26,
    "start_time": "2024-01-23T13:17:24.299Z"
   },
   {
    "duration": 31,
    "start_time": "2024-01-23T13:17:24.326Z"
   },
   {
    "duration": 41,
    "start_time": "2024-01-23T13:17:24.358Z"
   },
   {
    "duration": 18,
    "start_time": "2024-01-23T13:17:24.401Z"
   },
   {
    "duration": 75,
    "start_time": "2024-01-23T13:17:24.421Z"
   },
   {
    "duration": 49,
    "start_time": "2024-01-23T13:17:24.498Z"
   },
   {
    "duration": 462,
    "start_time": "2024-01-23T13:17:24.548Z"
   },
   {
    "duration": 115,
    "start_time": "2024-01-23T13:17:25.012Z"
   },
   {
    "duration": 5,
    "start_time": "2024-01-23T13:17:25.128Z"
   },
   {
    "duration": 234,
    "start_time": "2024-01-23T13:17:25.135Z"
   },
   {
    "duration": 97,
    "start_time": "2024-01-23T13:17:25.370Z"
   },
   {
    "duration": 299,
    "start_time": "2024-01-23T13:17:25.468Z"
   },
   {
    "duration": 5,
    "start_time": "2024-01-23T13:17:25.769Z"
   },
   {
    "duration": 219,
    "start_time": "2024-01-23T13:17:39.238Z"
   },
   {
    "duration": 17241,
    "start_time": "2024-01-23T13:17:42.591Z"
   },
   {
    "duration": 217,
    "start_time": "2024-01-23T13:18:05.517Z"
   },
   {
    "duration": 3,
    "start_time": "2024-01-23T13:19:21.150Z"
   },
   {
    "duration": 243,
    "start_time": "2024-01-23T13:19:42.387Z"
   },
   {
    "duration": 160,
    "start_time": "2024-01-23T13:20:02.026Z"
   },
   {
    "duration": 93,
    "start_time": "2024-01-23T13:20:06.411Z"
   },
   {
    "duration": 225,
    "start_time": "2024-01-23T13:22:17.088Z"
   },
   {
    "duration": 234,
    "start_time": "2024-01-23T13:22:19.344Z"
   },
   {
    "duration": 234,
    "start_time": "2024-01-23T13:22:28.863Z"
   },
   {
    "duration": 222,
    "start_time": "2024-01-23T13:23:31.430Z"
   },
   {
    "duration": 224,
    "start_time": "2024-01-23T13:23:41.701Z"
   },
   {
    "duration": 353,
    "start_time": "2024-01-23T13:27:01.746Z"
   },
   {
    "duration": 253,
    "start_time": "2024-01-23T13:27:10.762Z"
   },
   {
    "duration": 240,
    "start_time": "2024-01-23T13:27:14.737Z"
   },
   {
    "duration": 328,
    "start_time": "2024-01-23T13:27:24.504Z"
   },
   {
    "duration": 204,
    "start_time": "2024-01-23T13:27:30.057Z"
   },
   {
    "duration": 181,
    "start_time": "2024-01-23T13:27:32.856Z"
   },
   {
    "duration": 201,
    "start_time": "2024-01-23T13:27:39.872Z"
   },
   {
    "duration": 152,
    "start_time": "2024-01-23T13:27:44.211Z"
   },
   {
    "duration": 176,
    "start_time": "2024-01-23T13:27:48.824Z"
   },
   {
    "duration": 186,
    "start_time": "2024-01-23T13:28:21.222Z"
   },
   {
    "duration": 173,
    "start_time": "2024-01-23T13:29:28.653Z"
   },
   {
    "duration": 5,
    "start_time": "2024-01-23T13:30:08.868Z"
   },
   {
    "duration": 6,
    "start_time": "2024-01-23T13:30:21.944Z"
   },
   {
    "duration": 173,
    "start_time": "2024-01-23T13:30:31.714Z"
   },
   {
    "duration": 5,
    "start_time": "2024-01-23T13:30:37.027Z"
   },
   {
    "duration": 265,
    "start_time": "2024-01-23T14:26:15.985Z"
   },
   {
    "duration": 1217,
    "start_time": "2024-01-23T14:26:25.520Z"
   },
   {
    "duration": 227,
    "start_time": "2024-01-23T14:26:31.257Z"
   },
   {
    "duration": 9,
    "start_time": "2024-01-23T14:27:29.487Z"
   },
   {
    "duration": 124,
    "start_time": "2024-01-23T14:27:52.182Z"
   },
   {
    "duration": 7,
    "start_time": "2024-01-23T14:28:39.397Z"
   },
   {
    "duration": 513,
    "start_time": "2024-01-23T14:28:59.605Z"
   },
   {
    "duration": 105,
    "start_time": "2024-01-23T14:29:08.893Z"
   },
   {
    "duration": 108,
    "start_time": "2024-01-23T14:29:26.291Z"
   },
   {
    "duration": 112,
    "start_time": "2024-01-23T14:29:40.556Z"
   },
   {
    "duration": 234,
    "start_time": "2024-01-23T14:30:04.499Z"
   },
   {
    "duration": 13,
    "start_time": "2024-01-24T06:09:08.159Z"
   },
   {
    "duration": 8,
    "start_time": "2024-01-24T06:09:33.657Z"
   },
   {
    "duration": 8,
    "start_time": "2024-01-24T06:09:40.510Z"
   },
   {
    "duration": 9,
    "start_time": "2024-01-24T06:09:49.534Z"
   },
   {
    "duration": 6,
    "start_time": "2024-01-24T06:10:42.601Z"
   },
   {
    "duration": 132,
    "start_time": "2024-01-24T06:10:52.457Z"
   },
   {
    "duration": 6,
    "start_time": "2024-01-24T06:10:58.861Z"
   },
   {
    "duration": 356,
    "start_time": "2024-01-24T06:14:53.314Z"
   },
   {
    "duration": 70,
    "start_time": "2024-01-24T06:14:53.672Z"
   },
   {
    "duration": 31,
    "start_time": "2024-01-24T06:14:53.744Z"
   },
   {
    "duration": 28,
    "start_time": "2024-01-24T06:14:53.778Z"
   },
   {
    "duration": 14,
    "start_time": "2024-01-24T06:14:53.807Z"
   },
   {
    "duration": 13,
    "start_time": "2024-01-24T06:14:53.823Z"
   },
   {
    "duration": 32,
    "start_time": "2024-01-24T06:14:53.838Z"
   },
   {
    "duration": 14,
    "start_time": "2024-01-24T06:14:53.871Z"
   },
   {
    "duration": 13,
    "start_time": "2024-01-24T06:14:53.886Z"
   },
   {
    "duration": 11,
    "start_time": "2024-01-24T06:14:53.902Z"
   },
   {
    "duration": 408,
    "start_time": "2024-01-24T06:14:53.915Z"
   },
   {
    "duration": 111,
    "start_time": "2024-01-24T06:14:54.325Z"
   },
   {
    "duration": 5,
    "start_time": "2024-01-24T06:14:54.437Z"
   },
   {
    "duration": 240,
    "start_time": "2024-01-24T06:14:54.443Z"
   },
   {
    "duration": 109,
    "start_time": "2024-01-24T06:14:54.685Z"
   },
   {
    "duration": 299,
    "start_time": "2024-01-24T06:14:54.796Z"
   },
   {
    "duration": 187,
    "start_time": "2024-01-24T06:14:55.097Z"
   },
   {
    "duration": 252,
    "start_time": "2024-01-24T06:14:55.285Z"
   },
   {
    "duration": 129,
    "start_time": "2024-01-24T06:14:55.539Z"
   },
   {
    "duration": 122,
    "start_time": "2024-01-24T06:14:55.670Z"
   },
   {
    "duration": 27,
    "start_time": "2024-01-24T06:20:29.757Z"
   },
   {
    "duration": 17,
    "start_time": "2024-01-24T06:21:09.615Z"
   },
   {
    "duration": 18,
    "start_time": "2024-01-24T06:21:15.266Z"
   },
   {
    "duration": 76,
    "start_time": "2024-01-24T06:25:13.519Z"
   },
   {
    "duration": 19,
    "start_time": "2024-01-24T06:25:23.133Z"
   },
   {
    "duration": 10,
    "start_time": "2024-01-24T06:26:21.802Z"
   },
   {
    "duration": 9,
    "start_time": "2024-01-24T06:26:28.524Z"
   },
   {
    "duration": 7,
    "start_time": "2024-01-24T06:26:38.234Z"
   },
   {
    "duration": 8,
    "start_time": "2024-01-24T06:26:48.801Z"
   },
   {
    "duration": 15,
    "start_time": "2024-01-24T06:26:59.186Z"
   },
   {
    "duration": 17,
    "start_time": "2024-01-24T06:27:09.956Z"
   },
   {
    "duration": 15,
    "start_time": "2024-01-24T06:27:12.386Z"
   },
   {
    "duration": 19,
    "start_time": "2024-01-24T06:27:16.466Z"
   },
   {
    "duration": 18,
    "start_time": "2024-01-24T06:27:19.675Z"
   },
   {
    "duration": 21,
    "start_time": "2024-01-24T06:27:23.636Z"
   },
   {
    "duration": 19,
    "start_time": "2024-01-24T06:27:31.186Z"
   },
   {
    "duration": 22,
    "start_time": "2024-01-24T06:27:35.586Z"
   },
   {
    "duration": 20,
    "start_time": "2024-01-24T06:27:57.954Z"
   },
   {
    "duration": 239,
    "start_time": "2024-01-24T06:31:36.492Z"
   },
   {
    "duration": 240,
    "start_time": "2024-01-24T06:32:07.246Z"
   },
   {
    "duration": 337,
    "start_time": "2024-01-24T06:32:49.862Z"
   },
   {
    "duration": 418,
    "start_time": "2024-01-24T06:33:53.958Z"
   },
   {
    "duration": 67,
    "start_time": "2024-01-24T06:33:54.378Z"
   },
   {
    "duration": 22,
    "start_time": "2024-01-24T06:33:54.447Z"
   },
   {
    "duration": 25,
    "start_time": "2024-01-24T06:33:54.471Z"
   },
   {
    "duration": 12,
    "start_time": "2024-01-24T06:33:54.497Z"
   },
   {
    "duration": 16,
    "start_time": "2024-01-24T06:33:54.510Z"
   },
   {
    "duration": 10,
    "start_time": "2024-01-24T06:33:54.527Z"
   },
   {
    "duration": 34,
    "start_time": "2024-01-24T06:33:54.538Z"
   },
   {
    "duration": 12,
    "start_time": "2024-01-24T06:33:54.574Z"
   },
   {
    "duration": 10,
    "start_time": "2024-01-24T06:33:54.589Z"
   },
   {
    "duration": 355,
    "start_time": "2024-01-24T06:33:54.601Z"
   },
   {
    "duration": 116,
    "start_time": "2024-01-24T06:33:54.957Z"
   },
   {
    "duration": 5,
    "start_time": "2024-01-24T06:33:55.075Z"
   },
   {
    "duration": 231,
    "start_time": "2024-01-24T06:33:55.081Z"
   },
   {
    "duration": 106,
    "start_time": "2024-01-24T06:33:55.314Z"
   },
   {
    "duration": 305,
    "start_time": "2024-01-24T06:33:55.422Z"
   },
   {
    "duration": 219,
    "start_time": "2024-01-24T06:33:55.728Z"
   },
   {
    "duration": 239,
    "start_time": "2024-01-24T06:33:55.949Z"
   },
   {
    "duration": 118,
    "start_time": "2024-01-24T06:33:56.189Z"
   },
   {
    "duration": 114,
    "start_time": "2024-01-24T06:33:56.308Z"
   },
   {
    "duration": 21,
    "start_time": "2024-01-24T06:33:56.424Z"
   },
   {
    "duration": 32,
    "start_time": "2024-01-24T06:33:56.447Z"
   },
   {
    "duration": 31,
    "start_time": "2024-01-24T06:33:56.481Z"
   },
   {
    "duration": 288,
    "start_time": "2024-01-24T06:33:56.513Z"
   },
   {
    "duration": 9,
    "start_time": "2024-01-24T06:33:56.802Z"
   },
   {
    "duration": 7,
    "start_time": "2024-01-24T06:34:07.574Z"
   },
   {
    "duration": 282,
    "start_time": "2024-01-24T06:35:35.471Z"
   },
   {
    "duration": 271,
    "start_time": "2024-01-24T06:35:44.803Z"
   },
   {
    "duration": 172,
    "start_time": "2024-01-24T06:35:52.475Z"
   },
   {
    "duration": 273,
    "start_time": "2024-01-24T06:41:53.992Z"
   },
   {
    "duration": 182,
    "start_time": "2024-01-24T06:42:21.970Z"
   },
   {
    "duration": 198,
    "start_time": "2024-01-24T06:42:29.182Z"
   },
   {
    "duration": 184,
    "start_time": "2024-01-24T06:42:34.756Z"
   },
   {
    "duration": 193,
    "start_time": "2024-01-24T06:43:29.188Z"
   },
   {
    "duration": 188,
    "start_time": "2024-01-24T06:43:32.001Z"
   },
   {
    "duration": 203,
    "start_time": "2024-01-24T06:43:36.698Z"
   },
   {
    "duration": 261,
    "start_time": "2024-01-24T06:43:41.930Z"
   },
   {
    "duration": 3,
    "start_time": "2024-01-24T06:54:54.772Z"
   },
   {
    "duration": 17,
    "start_time": "2024-01-24T06:58:27.044Z"
   },
   {
    "duration": 18,
    "start_time": "2024-01-24T06:59:27.093Z"
   },
   {
    "duration": 18,
    "start_time": "2024-01-24T07:00:07.253Z"
   },
   {
    "duration": 84,
    "start_time": "2024-01-24T07:01:25.050Z"
   },
   {
    "duration": 22,
    "start_time": "2024-01-24T07:01:39.181Z"
   },
   {
    "duration": 40,
    "start_time": "2024-01-24T07:04:59.194Z"
   },
   {
    "duration": 5,
    "start_time": "2024-01-24T07:06:42.331Z"
   },
   {
    "duration": 27,
    "start_time": "2024-01-24T07:06:45.151Z"
   },
   {
    "duration": 21,
    "start_time": "2024-01-24T07:07:01.821Z"
   },
   {
    "duration": 26,
    "start_time": "2024-01-24T07:07:13.062Z"
   },
   {
    "duration": 5,
    "start_time": "2024-01-24T07:07:40.918Z"
   },
   {
    "duration": 22,
    "start_time": "2024-01-24T07:07:45.950Z"
   },
   {
    "duration": 18,
    "start_time": "2024-01-24T07:08:22.550Z"
   },
   {
    "duration": 5,
    "start_time": "2024-01-24T07:08:24.958Z"
   },
   {
    "duration": 31,
    "start_time": "2024-01-24T07:54:45.612Z"
   },
   {
    "duration": 2752,
    "start_time": "2024-01-24T08:07:50.684Z"
   },
   {
    "duration": 5,
    "start_time": "2024-01-24T08:10:15.620Z"
   },
   {
    "duration": 23,
    "start_time": "2024-01-24T08:10:21.957Z"
   },
   {
    "duration": 18,
    "start_time": "2024-01-24T08:12:15.517Z"
   },
   {
    "duration": 7,
    "start_time": "2024-01-24T08:23:07.291Z"
   },
   {
    "duration": 6,
    "start_time": "2024-01-24T08:23:14.890Z"
   },
   {
    "duration": 9,
    "start_time": "2024-01-24T08:23:18.350Z"
   },
   {
    "duration": 10,
    "start_time": "2024-01-24T08:23:22.421Z"
   },
   {
    "duration": 5,
    "start_time": "2024-01-24T08:27:40.653Z"
   },
   {
    "duration": 11,
    "start_time": "2024-01-24T08:29:16.975Z"
   },
   {
    "duration": 439,
    "start_time": "2024-01-24T08:29:29.943Z"
   },
   {
    "duration": 7,
    "start_time": "2024-01-24T08:29:36.274Z"
   },
   {
    "duration": 6,
    "start_time": "2024-01-24T08:29:39.535Z"
   },
   {
    "duration": 6,
    "start_time": "2024-01-24T08:29:41.113Z"
   },
   {
    "duration": 6,
    "start_time": "2024-01-24T08:29:42.594Z"
   },
   {
    "duration": 6,
    "start_time": "2024-01-24T08:29:43.993Z"
   },
   {
    "duration": 5,
    "start_time": "2024-01-24T08:29:45.204Z"
   },
   {
    "duration": 7,
    "start_time": "2024-01-24T08:29:53.078Z"
   },
   {
    "duration": 11,
    "start_time": "2024-01-24T08:29:54.674Z"
   },
   {
    "duration": 6,
    "start_time": "2024-01-24T08:29:56.625Z"
   },
   {
    "duration": 7,
    "start_time": "2024-01-24T08:30:10.643Z"
   },
   {
    "duration": 11,
    "start_time": "2024-01-24T08:30:12.862Z"
   },
   {
    "duration": 7,
    "start_time": "2024-01-24T08:30:14.063Z"
   },
   {
    "duration": 7,
    "start_time": "2024-01-24T08:30:15.141Z"
   },
   {
    "duration": 10,
    "start_time": "2024-01-24T08:30:16.163Z"
   },
   {
    "duration": 7,
    "start_time": "2024-01-24T08:30:17.141Z"
   },
   {
    "duration": 6,
    "start_time": "2024-01-24T08:30:18.083Z"
   },
   {
    "duration": 6,
    "start_time": "2024-01-24T08:30:19.422Z"
   },
   {
    "duration": 6,
    "start_time": "2024-01-24T08:30:21.042Z"
   },
   {
    "duration": 6,
    "start_time": "2024-01-24T08:30:22.212Z"
   },
   {
    "duration": 6,
    "start_time": "2024-01-24T08:30:23.244Z"
   },
   {
    "duration": 6,
    "start_time": "2024-01-24T08:30:24.193Z"
   },
   {
    "duration": 7,
    "start_time": "2024-01-24T08:30:25.493Z"
   },
   {
    "duration": 8,
    "start_time": "2024-01-24T08:30:26.736Z"
   },
   {
    "duration": 6,
    "start_time": "2024-01-24T08:30:27.512Z"
   },
   {
    "duration": 6,
    "start_time": "2024-01-24T08:30:33.521Z"
   },
   {
    "duration": 6,
    "start_time": "2024-01-24T08:30:42.333Z"
   },
   {
    "duration": 11,
    "start_time": "2024-01-24T08:30:45.962Z"
   },
   {
    "duration": 6,
    "start_time": "2024-01-24T08:30:55.343Z"
   },
   {
    "duration": 6,
    "start_time": "2024-01-24T08:32:48.463Z"
   },
   {
    "duration": 6,
    "start_time": "2024-01-24T08:32:50.720Z"
   },
   {
    "duration": 6,
    "start_time": "2024-01-24T08:33:07.442Z"
   },
   {
    "duration": 6,
    "start_time": "2024-01-24T08:33:08.441Z"
   },
   {
    "duration": 19,
    "start_time": "2024-01-24T08:33:10.260Z"
   },
   {
    "duration": 6,
    "start_time": "2024-01-24T08:33:11.340Z"
   },
   {
    "duration": 7,
    "start_time": "2024-01-24T08:33:12.320Z"
   },
   {
    "duration": 9,
    "start_time": "2024-01-24T08:33:13.176Z"
   },
   {
    "duration": 6,
    "start_time": "2024-01-24T08:33:14.011Z"
   },
   {
    "duration": 9,
    "start_time": "2024-01-24T08:33:15.164Z"
   },
   {
    "duration": 5,
    "start_time": "2024-01-24T08:33:16.093Z"
   },
   {
    "duration": 7,
    "start_time": "2024-01-24T08:33:16.909Z"
   },
   {
    "duration": 7,
    "start_time": "2024-01-24T08:33:18.175Z"
   },
   {
    "duration": 6,
    "start_time": "2024-01-24T08:33:30.819Z"
   },
   {
    "duration": 6,
    "start_time": "2024-01-24T08:45:31.369Z"
   },
   {
    "duration": 5,
    "start_time": "2024-01-24T08:45:34.800Z"
   },
   {
    "duration": 5,
    "start_time": "2024-01-24T08:45:36.039Z"
   },
   {
    "duration": 7,
    "start_time": "2024-01-24T08:45:36.939Z"
   },
   {
    "duration": 6,
    "start_time": "2024-01-24T08:45:37.807Z"
   },
   {
    "duration": 5,
    "start_time": "2024-01-24T08:45:38.593Z"
   },
   {
    "duration": 6,
    "start_time": "2024-01-24T08:45:39.373Z"
   },
   {
    "duration": 6,
    "start_time": "2024-01-24T08:45:40.158Z"
   },
   {
    "duration": 6,
    "start_time": "2024-01-24T08:45:40.908Z"
   },
   {
    "duration": 5,
    "start_time": "2024-01-24T08:45:41.718Z"
   },
   {
    "duration": 6,
    "start_time": "2024-01-24T08:46:17.378Z"
   },
   {
    "duration": 5,
    "start_time": "2024-01-24T08:46:18.478Z"
   },
   {
    "duration": 6,
    "start_time": "2024-01-24T08:46:19.647Z"
   },
   {
    "duration": 5,
    "start_time": "2024-01-24T08:46:20.640Z"
   },
   {
    "duration": 17,
    "start_time": "2024-01-24T08:46:21.558Z"
   },
   {
    "duration": 5,
    "start_time": "2024-01-24T08:46:22.447Z"
   },
   {
    "duration": 5,
    "start_time": "2024-01-24T08:46:23.387Z"
   },
   {
    "duration": 6,
    "start_time": "2024-01-24T08:46:24.377Z"
   },
   {
    "duration": 5,
    "start_time": "2024-01-24T08:46:25.356Z"
   },
   {
    "duration": 6,
    "start_time": "2024-01-24T08:46:26.217Z"
   },
   {
    "duration": 6,
    "start_time": "2024-01-24T08:46:27.587Z"
   },
   {
    "duration": 6,
    "start_time": "2024-01-24T08:47:19.405Z"
   },
   {
    "duration": 5,
    "start_time": "2024-01-24T08:47:20.727Z"
   },
   {
    "duration": 5,
    "start_time": "2024-01-24T08:47:21.556Z"
   },
   {
    "duration": 5,
    "start_time": "2024-01-24T08:47:23.357Z"
   },
   {
    "duration": 6,
    "start_time": "2024-01-24T08:47:24.326Z"
   },
   {
    "duration": 6,
    "start_time": "2024-01-24T08:47:25.116Z"
   },
   {
    "duration": 16,
    "start_time": "2024-01-24T08:47:25.866Z"
   },
   {
    "duration": 6,
    "start_time": "2024-01-24T08:47:26.737Z"
   },
   {
    "duration": 6,
    "start_time": "2024-01-24T08:47:27.878Z"
   },
   {
    "duration": 5,
    "start_time": "2024-01-24T08:47:28.689Z"
   },
   {
    "duration": 5,
    "start_time": "2024-01-24T08:47:29.556Z"
   },
   {
    "duration": 6,
    "start_time": "2024-01-24T08:47:30.313Z"
   },
   {
    "duration": 5,
    "start_time": "2024-01-24T08:47:31.036Z"
   },
   {
    "duration": 6,
    "start_time": "2024-01-24T08:47:31.856Z"
   },
   {
    "duration": 5,
    "start_time": "2024-01-24T08:47:32.616Z"
   },
   {
    "duration": 6,
    "start_time": "2024-01-24T08:47:33.479Z"
   },
   {
    "duration": 5,
    "start_time": "2024-01-24T08:47:34.226Z"
   },
   {
    "duration": 6,
    "start_time": "2024-01-24T08:47:36.575Z"
   },
   {
    "duration": 7,
    "start_time": "2024-01-24T08:47:37.274Z"
   },
   {
    "duration": 5,
    "start_time": "2024-01-24T08:47:37.834Z"
   },
   {
    "duration": 9,
    "start_time": "2024-01-24T08:47:38.464Z"
   },
   {
    "duration": 5,
    "start_time": "2024-01-24T08:47:39.815Z"
   },
   {
    "duration": 5,
    "start_time": "2024-01-24T08:47:40.497Z"
   },
   {
    "duration": 5,
    "start_time": "2024-01-24T08:47:41.124Z"
   },
   {
    "duration": 6,
    "start_time": "2024-01-24T08:47:41.814Z"
   },
   {
    "duration": 4,
    "start_time": "2024-01-24T08:47:43.996Z"
   },
   {
    "duration": 9,
    "start_time": "2024-01-24T08:47:44.865Z"
   },
   {
    "duration": 5,
    "start_time": "2024-01-24T08:47:45.715Z"
   },
   {
    "duration": 6,
    "start_time": "2024-01-24T08:47:46.577Z"
   },
   {
    "duration": 6,
    "start_time": "2024-01-24T08:47:47.354Z"
   },
   {
    "duration": 5,
    "start_time": "2024-01-24T08:47:55.635Z"
   },
   {
    "duration": 5,
    "start_time": "2024-01-24T08:53:09.799Z"
   },
   {
    "duration": 5,
    "start_time": "2024-01-24T08:53:11.359Z"
   },
   {
    "duration": 6,
    "start_time": "2024-01-24T08:53:12.188Z"
   },
   {
    "duration": 6,
    "start_time": "2024-01-24T08:53:12.901Z"
   },
   {
    "duration": 6,
    "start_time": "2024-01-24T08:53:14.049Z"
   },
   {
    "duration": 875,
    "start_time": "2024-01-24T09:16:31.344Z"
   },
   {
    "duration": 76,
    "start_time": "2024-01-24T09:16:32.221Z"
   },
   {
    "duration": 23,
    "start_time": "2024-01-24T09:16:32.299Z"
   },
   {
    "duration": 27,
    "start_time": "2024-01-24T09:16:32.323Z"
   },
   {
    "duration": 29,
    "start_time": "2024-01-24T09:16:32.352Z"
   },
   {
    "duration": 19,
    "start_time": "2024-01-24T09:16:32.383Z"
   },
   {
    "duration": 32,
    "start_time": "2024-01-24T09:16:32.403Z"
   },
   {
    "duration": 14,
    "start_time": "2024-01-24T09:16:32.436Z"
   },
   {
    "duration": 28,
    "start_time": "2024-01-24T09:16:32.451Z"
   },
   {
    "duration": 12,
    "start_time": "2024-01-24T09:16:32.482Z"
   },
   {
    "duration": 456,
    "start_time": "2024-01-24T09:16:32.495Z"
   },
   {
    "duration": 134,
    "start_time": "2024-01-24T09:16:32.953Z"
   },
   {
    "duration": 5,
    "start_time": "2024-01-24T09:16:33.089Z"
   },
   {
    "duration": 258,
    "start_time": "2024-01-24T09:16:33.095Z"
   },
   {
    "duration": 119,
    "start_time": "2024-01-24T09:16:33.354Z"
   },
   {
    "duration": 251,
    "start_time": "2024-01-24T09:16:33.479Z"
   },
   {
    "duration": 198,
    "start_time": "2024-01-24T09:16:33.732Z"
   },
   {
    "duration": 267,
    "start_time": "2024-01-24T09:16:33.931Z"
   },
   {
    "duration": 131,
    "start_time": "2024-01-24T09:16:34.200Z"
   },
   {
    "duration": 206,
    "start_time": "2024-01-24T09:16:34.333Z"
   },
   {
    "duration": 38,
    "start_time": "2024-01-24T09:16:34.541Z"
   },
   {
    "duration": 19,
    "start_time": "2024-01-24T09:16:34.581Z"
   },
   {
    "duration": 17,
    "start_time": "2024-01-24T09:16:34.602Z"
   },
   {
    "duration": 311,
    "start_time": "2024-01-24T09:16:34.621Z"
   },
   {
    "duration": 204,
    "start_time": "2024-01-24T09:16:34.933Z"
   },
   {
    "duration": 321,
    "start_time": "2024-01-24T09:16:35.138Z"
   },
   {
    "duration": 227,
    "start_time": "2024-01-24T09:16:35.461Z"
   },
   {
    "duration": 5,
    "start_time": "2024-01-24T09:16:35.691Z"
   },
   {
    "duration": 44,
    "start_time": "2024-01-24T09:16:35.697Z"
   },
   {
    "duration": 35,
    "start_time": "2024-01-24T09:16:35.742Z"
   },
   {
    "duration": 15,
    "start_time": "2024-01-24T09:16:35.779Z"
   },
   {
    "duration": 16,
    "start_time": "2024-01-24T09:16:35.796Z"
   },
   {
    "duration": 7,
    "start_time": "2024-01-24T09:16:35.814Z"
   },
   {
    "duration": 13,
    "start_time": "2024-01-24T09:16:35.823Z"
   },
   {
    "duration": 39,
    "start_time": "2024-01-24T09:16:35.838Z"
   },
   {
    "duration": 855,
    "start_time": "2024-01-24T13:21:35.319Z"
   },
   {
    "duration": 272,
    "start_time": "2024-01-24T13:21:36.176Z"
   },
   {
    "duration": 24,
    "start_time": "2024-01-24T13:21:36.450Z"
   },
   {
    "duration": 34,
    "start_time": "2024-01-24T13:21:36.476Z"
   },
   {
    "duration": 14,
    "start_time": "2024-01-24T13:21:36.512Z"
   },
   {
    "duration": 5,
    "start_time": "2024-01-24T13:21:36.527Z"
   },
   {
    "duration": 24,
    "start_time": "2024-01-24T13:21:36.533Z"
   },
   {
    "duration": 20,
    "start_time": "2024-01-24T13:21:36.559Z"
   },
   {
    "duration": 25,
    "start_time": "2024-01-24T13:21:36.582Z"
   },
   {
    "duration": 23,
    "start_time": "2024-01-24T13:21:36.609Z"
   },
   {
    "duration": 586,
    "start_time": "2024-01-24T13:21:36.634Z"
   },
   {
    "duration": 123,
    "start_time": "2024-01-24T13:21:37.221Z"
   },
   {
    "duration": 5,
    "start_time": "2024-01-24T13:21:37.346Z"
   },
   {
    "duration": 249,
    "start_time": "2024-01-24T13:21:37.353Z"
   },
   {
    "duration": 113,
    "start_time": "2024-01-24T13:21:37.604Z"
   },
   {
    "duration": 264,
    "start_time": "2024-01-24T13:21:37.719Z"
   },
   {
    "duration": 198,
    "start_time": "2024-01-24T13:21:37.985Z"
   },
   {
    "duration": 318,
    "start_time": "2024-01-24T13:21:38.185Z"
   },
   {
    "duration": 134,
    "start_time": "2024-01-24T13:21:38.505Z"
   },
   {
    "duration": 125,
    "start_time": "2024-01-24T13:21:38.640Z"
   },
   {
    "duration": 23,
    "start_time": "2024-01-24T13:21:38.767Z"
   },
   {
    "duration": 32,
    "start_time": "2024-01-24T13:21:38.791Z"
   },
   {
    "duration": 17,
    "start_time": "2024-01-24T13:21:38.825Z"
   },
   {
    "duration": 287,
    "start_time": "2024-01-24T13:21:38.844Z"
   },
   {
    "duration": 205,
    "start_time": "2024-01-24T13:21:39.133Z"
   },
   {
    "duration": 296,
    "start_time": "2024-01-24T13:21:39.339Z"
   },
   {
    "duration": 202,
    "start_time": "2024-01-24T13:21:39.637Z"
   },
   {
    "duration": 5,
    "start_time": "2024-01-24T13:21:39.840Z"
   },
   {
    "duration": 29,
    "start_time": "2024-01-24T13:21:39.847Z"
   },
   {
    "duration": 48,
    "start_time": "2024-01-24T13:21:39.878Z"
   },
   {
    "duration": 16,
    "start_time": "2024-01-24T13:21:39.927Z"
   },
   {
    "duration": 16,
    "start_time": "2024-01-24T13:21:39.944Z"
   },
   {
    "duration": 6,
    "start_time": "2024-01-24T13:21:39.962Z"
   },
   {
    "duration": 24,
    "start_time": "2024-01-24T13:21:39.970Z"
   },
   {
    "duration": 11,
    "start_time": "2024-01-24T13:21:39.996Z"
   },
   {
    "duration": 17,
    "start_time": "2024-01-24T13:30:56.072Z"
   },
   {
    "duration": 813,
    "start_time": "2024-01-24T13:34:00.060Z"
   },
   {
    "duration": 67,
    "start_time": "2024-01-24T13:34:00.875Z"
   },
   {
    "duration": 23,
    "start_time": "2024-01-24T13:34:00.944Z"
   },
   {
    "duration": 67,
    "start_time": "2024-01-24T13:34:00.969Z"
   },
   {
    "duration": 64,
    "start_time": "2024-01-24T13:34:01.037Z"
   },
   {
    "duration": 33,
    "start_time": "2024-01-24T13:34:01.103Z"
   },
   {
    "duration": 80,
    "start_time": "2024-01-24T13:34:01.137Z"
   },
   {
    "duration": 61,
    "start_time": "2024-01-24T13:34:01.219Z"
   },
   {
    "duration": 65,
    "start_time": "2024-01-24T13:34:01.281Z"
   },
   {
    "duration": 54,
    "start_time": "2024-01-24T13:34:01.349Z"
   },
   {
    "duration": 531,
    "start_time": "2024-01-24T13:34:01.404Z"
   },
   {
    "duration": 132,
    "start_time": "2024-01-24T13:34:01.937Z"
   },
   {
    "duration": 6,
    "start_time": "2024-01-24T13:34:02.071Z"
   },
   {
    "duration": 403,
    "start_time": "2024-01-24T13:34:02.079Z"
   },
   {
    "duration": 111,
    "start_time": "2024-01-24T13:34:02.483Z"
   },
   {
    "duration": 276,
    "start_time": "2024-01-24T13:34:02.595Z"
   },
   {
    "duration": 199,
    "start_time": "2024-01-24T13:34:02.873Z"
   },
   {
    "duration": 265,
    "start_time": "2024-01-24T13:34:03.074Z"
   },
   {
    "duration": 133,
    "start_time": "2024-01-24T13:34:03.341Z"
   },
   {
    "duration": 200,
    "start_time": "2024-01-24T13:34:03.476Z"
   },
   {
    "duration": 22,
    "start_time": "2024-01-24T13:34:03.678Z"
   },
   {
    "duration": 33,
    "start_time": "2024-01-24T13:34:03.702Z"
   },
   {
    "duration": 37,
    "start_time": "2024-01-24T13:34:03.737Z"
   },
   {
    "duration": 308,
    "start_time": "2024-01-24T13:34:03.775Z"
   },
   {
    "duration": 214,
    "start_time": "2024-01-24T13:34:04.084Z"
   },
   {
    "duration": 300,
    "start_time": "2024-01-24T13:34:04.300Z"
   },
   {
    "duration": 215,
    "start_time": "2024-01-24T13:34:04.602Z"
   },
   {
    "duration": 5,
    "start_time": "2024-01-24T13:34:04.820Z"
   },
   {
    "duration": 58,
    "start_time": "2024-01-24T13:34:04.826Z"
   },
   {
    "duration": 39,
    "start_time": "2024-01-24T13:34:04.886Z"
   },
   {
    "duration": 15,
    "start_time": "2024-01-24T13:34:04.927Z"
   },
   {
    "duration": 19,
    "start_time": "2024-01-24T13:34:04.943Z"
   },
   {
    "duration": 7,
    "start_time": "2024-01-24T13:34:04.963Z"
   },
   {
    "duration": 12,
    "start_time": "2024-01-24T13:34:04.971Z"
   },
   {
    "duration": 19,
    "start_time": "2024-01-24T13:34:04.985Z"
   },
   {
    "duration": 806,
    "start_time": "2024-01-24T13:34:27.055Z"
   },
   {
    "duration": 65,
    "start_time": "2024-01-24T13:34:27.863Z"
   },
   {
    "duration": 22,
    "start_time": "2024-01-24T13:34:27.930Z"
   },
   {
    "duration": 32,
    "start_time": "2024-01-24T13:34:27.954Z"
   },
   {
    "duration": 14,
    "start_time": "2024-01-24T13:34:27.987Z"
   },
   {
    "duration": 5,
    "start_time": "2024-01-24T13:34:28.017Z"
   },
   {
    "duration": 19,
    "start_time": "2024-01-24T13:34:28.024Z"
   },
   {
    "duration": 11,
    "start_time": "2024-01-24T13:34:28.045Z"
   },
   {
    "duration": 11,
    "start_time": "2024-01-24T13:34:28.058Z"
   },
   {
    "duration": 11,
    "start_time": "2024-01-24T13:34:28.071Z"
   },
   {
    "duration": 440,
    "start_time": "2024-01-24T13:34:28.083Z"
   },
   {
    "duration": 112,
    "start_time": "2024-01-24T13:34:28.525Z"
   },
   {
    "duration": 5,
    "start_time": "2024-01-24T13:34:28.639Z"
   },
   {
    "duration": 236,
    "start_time": "2024-01-24T13:34:28.645Z"
   },
   {
    "duration": 111,
    "start_time": "2024-01-24T13:34:28.882Z"
   },
   {
    "duration": 265,
    "start_time": "2024-01-24T13:34:28.995Z"
   },
   {
    "duration": 191,
    "start_time": "2024-01-24T13:34:29.262Z"
   },
   {
    "duration": 263,
    "start_time": "2024-01-24T13:34:29.454Z"
   },
   {
    "duration": 124,
    "start_time": "2024-01-24T13:34:29.719Z"
   },
   {
    "duration": 194,
    "start_time": "2024-01-24T13:34:29.845Z"
   },
   {
    "duration": 22,
    "start_time": "2024-01-24T13:34:30.040Z"
   },
   {
    "duration": 60,
    "start_time": "2024-01-24T13:34:30.064Z"
   },
   {
    "duration": 56,
    "start_time": "2024-01-24T13:34:30.125Z"
   },
   {
    "duration": 302,
    "start_time": "2024-01-24T13:34:30.182Z"
   },
   {
    "duration": 208,
    "start_time": "2024-01-24T13:34:30.485Z"
   },
   {
    "duration": 305,
    "start_time": "2024-01-24T13:34:30.694Z"
   },
   {
    "duration": 207,
    "start_time": "2024-01-24T13:34:31.001Z"
   },
   {
    "duration": 4,
    "start_time": "2024-01-24T13:34:31.217Z"
   },
   {
    "duration": 74,
    "start_time": "2024-01-24T13:34:31.222Z"
   },
   {
    "duration": 73,
    "start_time": "2024-01-24T13:34:31.297Z"
   },
   {
    "duration": 46,
    "start_time": "2024-01-24T13:34:31.372Z"
   },
   {
    "duration": 55,
    "start_time": "2024-01-24T13:34:31.420Z"
   },
   {
    "duration": 73,
    "start_time": "2024-01-24T13:34:31.477Z"
   },
   {
    "duration": 60,
    "start_time": "2024-01-24T13:34:31.552Z"
   },
   {
    "duration": 52,
    "start_time": "2024-01-24T13:34:31.614Z"
   },
   {
    "duration": 51,
    "start_time": "2024-01-25T06:38:47.991Z"
   },
   {
    "duration": 926,
    "start_time": "2024-01-25T06:38:52.863Z"
   },
   {
    "duration": 297,
    "start_time": "2024-01-25T06:38:53.791Z"
   },
   {
    "duration": 29,
    "start_time": "2024-01-25T06:38:54.090Z"
   },
   {
    "duration": 30,
    "start_time": "2024-01-25T06:38:54.121Z"
   },
   {
    "duration": 32,
    "start_time": "2024-01-25T06:38:54.153Z"
   },
   {
    "duration": 21,
    "start_time": "2024-01-25T06:38:54.187Z"
   },
   {
    "duration": 24,
    "start_time": "2024-01-25T06:38:54.210Z"
   },
   {
    "duration": 53,
    "start_time": "2024-01-25T06:38:54.236Z"
   },
   {
    "duration": 27,
    "start_time": "2024-01-25T06:38:54.290Z"
   },
   {
    "duration": 24,
    "start_time": "2024-01-25T06:38:54.320Z"
   },
   {
    "duration": 18,
    "start_time": "2024-01-25T06:38:54.346Z"
   },
   {
    "duration": 626,
    "start_time": "2024-01-25T06:38:54.366Z"
   },
   {
    "duration": 133,
    "start_time": "2024-01-25T06:38:54.994Z"
   },
   {
    "duration": 5,
    "start_time": "2024-01-25T06:38:55.128Z"
   },
   {
    "duration": 265,
    "start_time": "2024-01-25T06:38:55.135Z"
   },
   {
    "duration": 117,
    "start_time": "2024-01-25T06:38:55.402Z"
   },
   {
    "duration": 267,
    "start_time": "2024-01-25T06:38:55.520Z"
   },
   {
    "duration": 215,
    "start_time": "2024-01-25T06:38:55.789Z"
   },
   {
    "duration": 347,
    "start_time": "2024-01-25T06:38:56.007Z"
   },
   {
    "duration": 134,
    "start_time": "2024-01-25T06:38:56.356Z"
   },
   {
    "duration": 127,
    "start_time": "2024-01-25T06:38:56.491Z"
   },
   {
    "duration": 23,
    "start_time": "2024-01-25T06:38:56.620Z"
   },
   {
    "duration": 33,
    "start_time": "2024-01-25T06:38:56.644Z"
   },
   {
    "duration": 18,
    "start_time": "2024-01-25T06:38:56.679Z"
   },
   {
    "duration": 308,
    "start_time": "2024-01-25T06:38:56.699Z"
   },
   {
    "duration": 218,
    "start_time": "2024-01-25T06:38:57.008Z"
   },
   {
    "duration": 314,
    "start_time": "2024-01-25T06:38:57.228Z"
   },
   {
    "duration": 214,
    "start_time": "2024-01-25T06:38:57.546Z"
   },
   {
    "duration": 13,
    "start_time": "2024-01-25T06:38:57.761Z"
   },
   {
    "duration": 39,
    "start_time": "2024-01-25T06:38:57.775Z"
   },
   {
    "duration": 29,
    "start_time": "2024-01-25T06:38:57.816Z"
   },
   {
    "duration": 28,
    "start_time": "2024-01-25T06:38:57.847Z"
   },
   {
    "duration": 16,
    "start_time": "2024-01-25T06:38:57.877Z"
   },
   {
    "duration": 15,
    "start_time": "2024-01-25T06:38:57.894Z"
   },
   {
    "duration": 25,
    "start_time": "2024-01-25T06:38:57.910Z"
   },
   {
    "duration": 11,
    "start_time": "2024-01-25T06:38:57.937Z"
   },
   {
    "duration": 6,
    "start_time": "2024-01-25T06:39:21.879Z"
   },
   {
    "duration": 237,
    "start_time": "2024-01-25T06:43:14.289Z"
   },
   {
    "duration": 2,
    "start_time": "2024-01-25T06:43:46.862Z"
   },
   {
    "duration": 138,
    "start_time": "2024-01-25T06:43:51.192Z"
   },
   {
    "duration": 233,
    "start_time": "2024-01-25T06:44:10.833Z"
   },
   {
    "duration": 11,
    "start_time": "2024-01-25T07:05:06.472Z"
   },
   {
    "duration": 10,
    "start_time": "2024-01-25T07:05:13.112Z"
   },
   {
    "duration": 145,
    "start_time": "2024-01-25T07:05:22.002Z"
   },
   {
    "duration": 141,
    "start_time": "2024-01-25T07:05:25.833Z"
   },
   {
    "duration": 145,
    "start_time": "2024-01-25T07:05:39.962Z"
   },
   {
    "duration": 10,
    "start_time": "2024-01-25T07:16:12.497Z"
   },
   {
    "duration": 10,
    "start_time": "2024-01-25T07:16:20.776Z"
   },
   {
    "duration": 142,
    "start_time": "2024-01-25T07:17:05.835Z"
   },
   {
    "duration": 11,
    "start_time": "2024-01-25T07:17:51.006Z"
   },
   {
    "duration": 22954,
    "start_time": "2024-01-25T07:18:17.213Z"
   },
   {
    "duration": 28,
    "start_time": "2024-01-25T07:18:44.044Z"
   },
   {
    "duration": 143,
    "start_time": "2024-01-25T07:18:55.424Z"
   },
   {
    "duration": 6,
    "start_time": "2024-01-25T07:21:38.449Z"
   },
   {
    "duration": 128,
    "start_time": "2024-01-25T07:22:16.238Z"
   },
   {
    "duration": 627,
    "start_time": "2024-01-25T07:22:27.388Z"
   },
   {
    "duration": 122,
    "start_time": "2024-01-25T07:22:39.017Z"
   },
   {
    "duration": 138,
    "start_time": "2024-01-25T07:22:50.106Z"
   },
   {
    "duration": 127,
    "start_time": "2024-01-25T07:22:57.958Z"
   },
   {
    "duration": 110,
    "start_time": "2024-01-25T07:23:04.857Z"
   },
   {
    "duration": 119,
    "start_time": "2024-01-25T07:23:08.597Z"
   },
   {
    "duration": 118,
    "start_time": "2024-01-25T07:23:15.877Z"
   },
   {
    "duration": 120,
    "start_time": "2024-01-25T07:23:26.757Z"
   },
   {
    "duration": 109,
    "start_time": "2024-01-25T07:23:41.466Z"
   },
   {
    "duration": 130,
    "start_time": "2024-01-25T07:23:45.225Z"
   },
   {
    "duration": 132,
    "start_time": "2024-01-25T07:26:14.617Z"
   },
   {
    "duration": 101,
    "start_time": "2024-01-25T07:28:01.440Z"
   },
   {
    "duration": 124,
    "start_time": "2024-01-25T07:40:05.625Z"
   },
   {
    "duration": 9,
    "start_time": "2024-01-25T07:41:00.851Z"
   },
   {
    "duration": 16,
    "start_time": "2024-01-25T07:41:08.450Z"
   },
   {
    "duration": 88,
    "start_time": "2024-01-25T07:41:21.939Z"
   },
   {
    "duration": 225,
    "start_time": "2024-01-25T07:41:25.819Z"
   },
   {
    "duration": 114,
    "start_time": "2024-01-25T07:42:13.498Z"
   },
   {
    "duration": 134,
    "start_time": "2024-01-25T07:42:27.648Z"
   },
   {
    "duration": 125,
    "start_time": "2024-01-25T07:43:34.830Z"
   },
   {
    "duration": 122,
    "start_time": "2024-01-25T07:43:48.880Z"
   },
   {
    "duration": 126,
    "start_time": "2024-01-25T07:43:55.157Z"
   },
   {
    "duration": 125,
    "start_time": "2024-01-25T07:43:59.028Z"
   },
   {
    "duration": 117,
    "start_time": "2024-01-25T07:44:08.676Z"
   },
   {
    "duration": 121,
    "start_time": "2024-01-25T07:44:17.680Z"
   },
   {
    "duration": 122,
    "start_time": "2024-01-25T07:44:23.016Z"
   },
   {
    "duration": 87,
    "start_time": "2024-01-25T07:44:27.996Z"
   },
   {
    "duration": 118,
    "start_time": "2024-01-25T07:44:30.157Z"
   },
   {
    "duration": 126,
    "start_time": "2024-01-25T07:44:34.456Z"
   },
   {
    "duration": 127,
    "start_time": "2024-01-25T07:45:02.604Z"
   },
   {
    "duration": 116,
    "start_time": "2024-01-25T07:45:15.165Z"
   },
   {
    "duration": 117,
    "start_time": "2024-01-25T07:47:16.588Z"
   },
   {
    "duration": 194,
    "start_time": "2024-01-25T07:47:26.501Z"
   },
   {
    "duration": 133,
    "start_time": "2024-01-25T07:47:44.140Z"
   },
   {
    "duration": 124,
    "start_time": "2024-01-25T07:47:50.011Z"
   },
   {
    "duration": 124,
    "start_time": "2024-01-25T07:47:58.451Z"
   },
   {
    "duration": 123,
    "start_time": "2024-01-25T07:48:13.799Z"
   },
   {
    "duration": 122,
    "start_time": "2024-01-25T07:48:19.900Z"
   },
   {
    "duration": 125,
    "start_time": "2024-01-25T07:49:17.497Z"
   },
   {
    "duration": 123,
    "start_time": "2024-01-25T07:49:23.841Z"
   },
   {
    "duration": 107,
    "start_time": "2024-01-25T07:49:43.191Z"
   },
   {
    "duration": 129,
    "start_time": "2024-01-25T07:49:48.548Z"
   },
   {
    "duration": 122,
    "start_time": "2024-01-25T07:50:35.207Z"
   },
   {
    "duration": 133,
    "start_time": "2024-01-25T07:51:41.066Z"
   },
   {
    "duration": 121,
    "start_time": "2024-01-25T07:51:48.427Z"
   },
   {
    "duration": 137,
    "start_time": "2024-01-25T07:52:50.761Z"
   },
   {
    "duration": 135,
    "start_time": "2024-01-25T07:53:16.234Z"
   },
   {
    "duration": 135,
    "start_time": "2024-01-25T07:53:25.904Z"
   },
   {
    "duration": 241,
    "start_time": "2024-01-25T07:53:33.802Z"
   },
   {
    "duration": 135,
    "start_time": "2024-01-25T07:54:00.411Z"
   },
   {
    "duration": 141,
    "start_time": "2024-01-25T07:54:22.035Z"
   },
   {
    "duration": 134,
    "start_time": "2024-01-25T07:54:39.835Z"
   },
   {
    "duration": 136,
    "start_time": "2024-01-25T07:54:45.482Z"
   },
   {
    "duration": 137,
    "start_time": "2024-01-25T07:54:48.970Z"
   },
   {
    "duration": 146,
    "start_time": "2024-01-25T07:56:02.809Z"
   },
   {
    "duration": 11,
    "start_time": "2024-01-25T07:56:44.577Z"
   },
   {
    "duration": 10,
    "start_time": "2024-01-25T07:56:47.528Z"
   },
   {
    "duration": 73,
    "start_time": "2024-01-25T07:56:58.127Z"
   },
   {
    "duration": 143,
    "start_time": "2024-01-25T07:58:27.915Z"
   },
   {
    "duration": 62,
    "start_time": "2024-01-25T07:58:45.007Z"
   },
   {
    "duration": 87,
    "start_time": "2024-01-25T07:59:06.424Z"
   },
   {
    "duration": 79,
    "start_time": "2024-01-25T07:59:13.993Z"
   },
   {
    "duration": 85,
    "start_time": "2024-01-25T07:59:33.285Z"
   },
   {
    "duration": 102,
    "start_time": "2024-01-25T08:02:59.499Z"
   },
   {
    "duration": 243,
    "start_time": "2024-01-25T08:03:12.138Z"
   },
   {
    "duration": 11,
    "start_time": "2024-01-25T08:05:39.565Z"
   },
   {
    "duration": 153,
    "start_time": "2024-01-25T08:05:51.304Z"
   },
   {
    "duration": 238,
    "start_time": "2024-01-25T08:06:06.776Z"
   },
   {
    "duration": 148,
    "start_time": "2024-01-25T08:06:17.854Z"
   },
   {
    "duration": 173,
    "start_time": "2024-01-25T08:07:40.702Z"
   },
   {
    "duration": 113,
    "start_time": "2024-01-25T08:11:50.986Z"
   },
   {
    "duration": 289,
    "start_time": "2024-01-25T08:12:30.695Z"
   },
   {
    "duration": 208,
    "start_time": "2024-01-25T08:12:48.246Z"
   },
   {
    "duration": 265,
    "start_time": "2024-01-25T08:13:11.444Z"
   },
   {
    "duration": 139,
    "start_time": "2024-01-25T08:13:19.234Z"
   },
   {
    "duration": 130,
    "start_time": "2024-01-25T08:13:28.656Z"
   },
   {
    "duration": 138,
    "start_time": "2024-01-25T08:13:33.876Z"
   },
   {
    "duration": 17,
    "start_time": "2024-01-25T08:14:15.084Z"
   },
   {
    "duration": 682,
    "start_time": "2024-01-25T08:14:55.434Z"
   },
   {
    "duration": 139,
    "start_time": "2024-01-25T08:15:07.582Z"
   },
   {
    "duration": 158,
    "start_time": "2024-01-25T08:15:16.468Z"
   },
   {
    "duration": 158,
    "start_time": "2024-01-25T08:15:23.083Z"
   },
   {
    "duration": 195,
    "start_time": "2024-01-25T08:15:26.823Z"
   },
   {
    "duration": 14,
    "start_time": "2024-01-25T08:18:33.157Z"
   },
   {
    "duration": 18,
    "start_time": "2024-01-25T08:19:52.963Z"
   },
   {
    "duration": 15,
    "start_time": "2024-01-25T08:20:12.534Z"
   },
   {
    "duration": 12,
    "start_time": "2024-01-25T08:20:36.732Z"
   },
   {
    "duration": 16,
    "start_time": "2024-01-25T08:20:59.832Z"
   },
   {
    "duration": 250,
    "start_time": "2024-01-25T08:21:49.643Z"
   },
   {
    "duration": 6,
    "start_time": "2024-01-25T08:21:54.462Z"
   },
   {
    "duration": 32,
    "start_time": "2024-01-25T08:23:48.818Z"
   },
   {
    "duration": 15,
    "start_time": "2024-01-25T08:24:06.368Z"
   },
   {
    "duration": 8,
    "start_time": "2024-01-25T08:24:42.880Z"
   },
   {
    "duration": 10,
    "start_time": "2024-01-25T08:24:51.129Z"
   },
   {
    "duration": 4,
    "start_time": "2024-01-25T08:25:00.809Z"
   },
   {
    "duration": 4,
    "start_time": "2024-01-25T08:25:10.989Z"
   },
   {
    "duration": 6,
    "start_time": "2024-01-25T08:25:21.589Z"
   },
   {
    "duration": 4,
    "start_time": "2024-01-25T08:29:23.351Z"
   },
   {
    "duration": 1119,
    "start_time": "2024-01-25T08:31:14.421Z"
   },
   {
    "duration": 71,
    "start_time": "2024-01-25T08:31:15.542Z"
   },
   {
    "duration": 22,
    "start_time": "2024-01-25T08:31:15.615Z"
   },
   {
    "duration": 30,
    "start_time": "2024-01-25T08:31:15.638Z"
   },
   {
    "duration": 15,
    "start_time": "2024-01-25T08:31:15.670Z"
   },
   {
    "duration": 6,
    "start_time": "2024-01-25T08:31:15.687Z"
   },
   {
    "duration": 8,
    "start_time": "2024-01-25T08:31:15.695Z"
   },
   {
    "duration": 11,
    "start_time": "2024-01-25T08:31:15.704Z"
   },
   {
    "duration": 13,
    "start_time": "2024-01-25T08:31:15.717Z"
   },
   {
    "duration": 48,
    "start_time": "2024-01-25T08:31:15.732Z"
   },
   {
    "duration": 12,
    "start_time": "2024-01-25T08:31:15.781Z"
   },
   {
    "duration": 171,
    "start_time": "2024-01-25T08:31:15.795Z"
   },
   {
    "duration": 83,
    "start_time": "2024-01-25T08:31:15.972Z"
   },
   {
    "duration": 175,
    "start_time": "2024-01-25T08:31:16.072Z"
   },
   {
    "duration": 133,
    "start_time": "2024-01-25T08:31:16.248Z"
   },
   {
    "duration": 290,
    "start_time": "2024-01-25T08:31:16.383Z"
   },
   {
    "duration": 233,
    "start_time": "2024-01-25T08:31:16.674Z"
   },
   {
    "duration": 298,
    "start_time": "2024-01-25T08:31:16.908Z"
   },
   {
    "duration": 226,
    "start_time": "2024-01-25T08:31:17.208Z"
   },
   {
    "duration": 147,
    "start_time": "2024-01-25T08:31:17.436Z"
   },
   {
    "duration": 207,
    "start_time": "2024-01-25T08:31:17.585Z"
   },
   {
    "duration": 15,
    "start_time": "2024-01-25T08:31:17.794Z"
   },
   {
    "duration": 37,
    "start_time": "2024-01-25T08:31:17.810Z"
   },
   {
    "duration": 5,
    "start_time": "2024-01-25T08:31:17.848Z"
   },
   {
    "duration": 46,
    "start_time": "2024-01-25T08:31:17.855Z"
   },
   {
    "duration": 22,
    "start_time": "2024-01-25T08:31:17.903Z"
   },
   {
    "duration": 317,
    "start_time": "2024-01-25T08:31:17.926Z"
   },
   {
    "duration": 212,
    "start_time": "2024-01-25T08:31:18.244Z"
   },
   {
    "duration": 307,
    "start_time": "2024-01-25T08:31:18.457Z"
   },
   {
    "duration": 203,
    "start_time": "2024-01-25T08:31:18.765Z"
   },
   {
    "duration": 5,
    "start_time": "2024-01-25T08:31:18.973Z"
   },
   {
    "duration": 28,
    "start_time": "2024-01-25T08:31:18.979Z"
   },
   {
    "duration": 37,
    "start_time": "2024-01-25T08:31:19.009Z"
   },
   {
    "duration": 41,
    "start_time": "2024-01-25T08:31:19.048Z"
   },
   {
    "duration": 33,
    "start_time": "2024-01-25T08:31:19.091Z"
   },
   {
    "duration": 6,
    "start_time": "2024-01-25T08:31:19.126Z"
   },
   {
    "duration": 6,
    "start_time": "2024-01-25T08:31:19.134Z"
   },
   {
    "duration": 31,
    "start_time": "2024-01-25T08:31:19.142Z"
   },
   {
    "duration": 211,
    "start_time": "2024-01-25T08:32:17.555Z"
   },
   {
    "duration": 414,
    "start_time": "2024-01-25T08:33:04.994Z"
   },
   {
    "duration": 93,
    "start_time": "2024-01-25T08:34:44.641Z"
   },
   {
    "duration": 97,
    "start_time": "2024-01-25T08:34:55.621Z"
   },
   {
    "duration": 321,
    "start_time": "2024-01-25T08:35:37.629Z"
   },
   {
    "duration": 212,
    "start_time": "2024-01-25T08:36:18.080Z"
   },
   {
    "duration": 1121,
    "start_time": "2024-01-25T08:36:27.926Z"
   },
   {
    "duration": 70,
    "start_time": "2024-01-25T08:36:29.049Z"
   },
   {
    "duration": 22,
    "start_time": "2024-01-25T08:36:29.121Z"
   },
   {
    "duration": 35,
    "start_time": "2024-01-25T08:36:29.145Z"
   },
   {
    "duration": 17,
    "start_time": "2024-01-25T08:36:29.181Z"
   },
   {
    "duration": 8,
    "start_time": "2024-01-25T08:36:29.199Z"
   },
   {
    "duration": 23,
    "start_time": "2024-01-25T08:36:29.208Z"
   },
   {
    "duration": 23,
    "start_time": "2024-01-25T08:36:29.233Z"
   },
   {
    "duration": 13,
    "start_time": "2024-01-25T08:36:29.257Z"
   },
   {
    "duration": 15,
    "start_time": "2024-01-25T08:36:29.272Z"
   },
   {
    "duration": 12,
    "start_time": "2024-01-25T08:36:29.289Z"
   },
   {
    "duration": 173,
    "start_time": "2024-01-25T08:36:29.302Z"
   },
   {
    "duration": 96,
    "start_time": "2024-01-25T08:36:29.477Z"
   },
   {
    "duration": 192,
    "start_time": "2024-01-25T08:36:29.575Z"
   },
   {
    "duration": 124,
    "start_time": "2024-01-25T08:36:29.769Z"
   },
   {
    "duration": 301,
    "start_time": "2024-01-25T08:36:29.895Z"
   },
   {
    "duration": 223,
    "start_time": "2024-01-25T08:36:30.197Z"
   },
   {
    "duration": 292,
    "start_time": "2024-01-25T08:36:30.422Z"
   },
   {
    "duration": 234,
    "start_time": "2024-01-25T08:36:30.715Z"
   },
   {
    "duration": 150,
    "start_time": "2024-01-25T08:36:30.950Z"
   },
   {
    "duration": 220,
    "start_time": "2024-01-25T08:36:31.102Z"
   },
   {
    "duration": 15,
    "start_time": "2024-01-25T08:36:31.324Z"
   },
   {
    "duration": 80,
    "start_time": "2024-01-25T08:36:31.341Z"
   },
   {
    "duration": 27,
    "start_time": "2024-01-25T08:36:31.423Z"
   },
   {
    "duration": 68,
    "start_time": "2024-01-25T08:36:31.451Z"
   },
   {
    "duration": 31,
    "start_time": "2024-01-25T08:36:31.521Z"
   },
   {
    "duration": 390,
    "start_time": "2024-01-25T08:36:31.554Z"
   },
   {
    "duration": 235,
    "start_time": "2024-01-25T08:36:31.947Z"
   },
   {
    "duration": 308,
    "start_time": "2024-01-25T08:36:32.184Z"
   },
   {
    "duration": 203,
    "start_time": "2024-01-25T08:36:32.494Z"
   },
   {
    "duration": 5,
    "start_time": "2024-01-25T08:36:32.699Z"
   },
   {
    "duration": 33,
    "start_time": "2024-01-25T08:36:32.705Z"
   },
   {
    "duration": 45,
    "start_time": "2024-01-25T08:36:32.739Z"
   },
   {
    "duration": 15,
    "start_time": "2024-01-25T08:36:32.786Z"
   },
   {
    "duration": 16,
    "start_time": "2024-01-25T08:36:32.802Z"
   },
   {
    "duration": 6,
    "start_time": "2024-01-25T08:36:32.820Z"
   },
   {
    "duration": 6,
    "start_time": "2024-01-25T08:36:32.828Z"
   },
   {
    "duration": 37,
    "start_time": "2024-01-25T08:36:32.836Z"
   },
   {
    "duration": 101,
    "start_time": "2024-01-25T08:37:16.888Z"
   },
   {
    "duration": 415,
    "start_time": "2024-01-25T08:37:23.589Z"
   },
   {
    "duration": 13,
    "start_time": "2024-01-25T08:37:26.249Z"
   },
   {
    "duration": 297,
    "start_time": "2024-01-25T08:37:31.698Z"
   },
   {
    "duration": 329,
    "start_time": "2024-01-25T08:37:49.208Z"
   },
   {
    "duration": 219,
    "start_time": "2024-01-25T08:38:12.207Z"
   },
   {
    "duration": 1151,
    "start_time": "2024-01-25T08:38:18.487Z"
   },
   {
    "duration": 71,
    "start_time": "2024-01-25T08:38:19.640Z"
   },
   {
    "duration": 22,
    "start_time": "2024-01-25T08:38:19.713Z"
   },
   {
    "duration": 28,
    "start_time": "2024-01-25T08:38:19.736Z"
   },
   {
    "duration": 14,
    "start_time": "2024-01-25T08:38:19.773Z"
   },
   {
    "duration": 4,
    "start_time": "2024-01-25T08:38:19.789Z"
   },
   {
    "duration": 5,
    "start_time": "2024-01-25T08:38:19.795Z"
   },
   {
    "duration": 28,
    "start_time": "2024-01-25T08:38:19.802Z"
   },
   {
    "duration": 13,
    "start_time": "2024-01-25T08:38:19.831Z"
   },
   {
    "duration": 32,
    "start_time": "2024-01-25T08:38:19.845Z"
   },
   {
    "duration": 10,
    "start_time": "2024-01-25T08:38:19.879Z"
   },
   {
    "duration": 169,
    "start_time": "2024-01-25T08:38:19.891Z"
   },
   {
    "duration": 98,
    "start_time": "2024-01-25T08:38:20.061Z"
   },
   {
    "duration": 185,
    "start_time": "2024-01-25T08:38:20.174Z"
   },
   {
    "duration": 127,
    "start_time": "2024-01-25T08:38:20.360Z"
   },
   {
    "duration": 293,
    "start_time": "2024-01-25T08:38:20.489Z"
   },
   {
    "duration": 220,
    "start_time": "2024-01-25T08:38:20.784Z"
   },
   {
    "duration": 278,
    "start_time": "2024-01-25T08:38:21.005Z"
   },
   {
    "duration": 216,
    "start_time": "2024-01-25T08:38:21.285Z"
   },
   {
    "duration": 144,
    "start_time": "2024-01-25T08:38:21.503Z"
   },
   {
    "duration": 220,
    "start_time": "2024-01-25T08:38:21.648Z"
   },
   {
    "duration": 16,
    "start_time": "2024-01-25T08:38:21.869Z"
   },
   {
    "duration": 32,
    "start_time": "2024-01-25T08:38:21.887Z"
   },
   {
    "duration": 5,
    "start_time": "2024-01-25T08:38:21.920Z"
   },
   {
    "duration": 47,
    "start_time": "2024-01-25T08:38:21.926Z"
   },
   {
    "duration": 23,
    "start_time": "2024-01-25T08:38:21.974Z"
   },
   {
    "duration": 335,
    "start_time": "2024-01-25T08:38:21.999Z"
   },
   {
    "duration": 237,
    "start_time": "2024-01-25T08:38:22.336Z"
   },
   {
    "duration": 331,
    "start_time": "2024-01-25T08:38:22.575Z"
   },
   {
    "duration": 266,
    "start_time": "2024-01-25T08:38:22.907Z"
   },
   {
    "duration": 5,
    "start_time": "2024-01-25T08:38:23.174Z"
   },
   {
    "duration": 36,
    "start_time": "2024-01-25T08:38:23.180Z"
   },
   {
    "duration": 78,
    "start_time": "2024-01-25T08:38:23.218Z"
   },
   {
    "duration": 17,
    "start_time": "2024-01-25T08:38:23.298Z"
   },
   {
    "duration": 72,
    "start_time": "2024-01-25T08:38:23.317Z"
   },
   {
    "duration": 6,
    "start_time": "2024-01-25T08:38:23.391Z"
   },
   {
    "duration": 11,
    "start_time": "2024-01-25T08:38:23.398Z"
   },
   {
    "duration": 62,
    "start_time": "2024-01-25T08:38:23.411Z"
   },
   {
    "duration": 103,
    "start_time": "2024-01-25T08:39:58.946Z"
   },
   {
    "duration": 413,
    "start_time": "2024-01-25T08:40:08.624Z"
   },
   {
    "duration": 279,
    "start_time": "2024-01-25T08:42:06.201Z"
   },
   {
    "duration": 278,
    "start_time": "2024-01-25T08:43:00.383Z"
   },
   {
    "duration": 285,
    "start_time": "2024-01-25T08:43:24.231Z"
   },
   {
    "duration": 224,
    "start_time": "2024-01-25T08:43:29.049Z"
   },
   {
    "duration": 303,
    "start_time": "2024-01-25T08:43:32.370Z"
   },
   {
    "duration": 388,
    "start_time": "2024-01-25T08:44:06.594Z"
   },
   {
    "duration": 274,
    "start_time": "2024-01-25T08:46:13.096Z"
   },
   {
    "duration": 113,
    "start_time": "2024-01-25T08:49:03.670Z"
   },
   {
    "duration": 159,
    "start_time": "2024-01-25T08:49:14.322Z"
   },
   {
    "duration": 180,
    "start_time": "2024-01-25T08:49:22.982Z"
   },
   {
    "duration": 208,
    "start_time": "2024-01-25T08:50:12.750Z"
   },
   {
    "duration": 166,
    "start_time": "2024-01-25T08:52:09.036Z"
   },
   {
    "duration": 284,
    "start_time": "2024-01-25T08:53:25.725Z"
   },
   {
    "duration": 209,
    "start_time": "2024-01-25T08:53:43.104Z"
   },
   {
    "duration": 1188,
    "start_time": "2024-01-25T08:54:07.345Z"
   },
   {
    "duration": 73,
    "start_time": "2024-01-25T08:54:08.535Z"
   },
   {
    "duration": 20,
    "start_time": "2024-01-25T08:54:08.609Z"
   },
   {
    "duration": 35,
    "start_time": "2024-01-25T08:54:08.631Z"
   },
   {
    "duration": 14,
    "start_time": "2024-01-25T08:54:08.672Z"
   },
   {
    "duration": 10,
    "start_time": "2024-01-25T08:54:08.688Z"
   },
   {
    "duration": 12,
    "start_time": "2024-01-25T08:54:08.699Z"
   },
   {
    "duration": 21,
    "start_time": "2024-01-25T08:54:08.713Z"
   },
   {
    "duration": 26,
    "start_time": "2024-01-25T08:54:08.735Z"
   },
   {
    "duration": 24,
    "start_time": "2024-01-25T08:54:08.763Z"
   },
   {
    "duration": 15,
    "start_time": "2024-01-25T08:54:08.789Z"
   },
   {
    "duration": 173,
    "start_time": "2024-01-25T08:54:08.806Z"
   },
   {
    "duration": 93,
    "start_time": "2024-01-25T08:54:08.981Z"
   },
   {
    "duration": 182,
    "start_time": "2024-01-25T08:54:09.077Z"
   },
   {
    "duration": 166,
    "start_time": "2024-01-25T08:54:09.261Z"
   },
   {
    "duration": 290,
    "start_time": "2024-01-25T08:54:09.429Z"
   },
   {
    "duration": 228,
    "start_time": "2024-01-25T08:54:09.721Z"
   },
   {
    "duration": 292,
    "start_time": "2024-01-25T08:54:09.950Z"
   },
   {
    "duration": 232,
    "start_time": "2024-01-25T08:54:10.245Z"
   },
   {
    "duration": 162,
    "start_time": "2024-01-25T08:54:10.479Z"
   },
   {
    "duration": 233,
    "start_time": "2024-01-25T08:54:10.642Z"
   },
   {
    "duration": 14,
    "start_time": "2024-01-25T08:54:10.876Z"
   },
   {
    "duration": 31,
    "start_time": "2024-01-25T08:54:10.892Z"
   },
   {
    "duration": 5,
    "start_time": "2024-01-25T08:54:10.925Z"
   },
   {
    "duration": 51,
    "start_time": "2024-01-25T08:54:10.932Z"
   },
   {
    "duration": 23,
    "start_time": "2024-01-25T08:54:10.984Z"
   },
   {
    "duration": 356,
    "start_time": "2024-01-25T08:54:11.009Z"
   },
   {
    "duration": 239,
    "start_time": "2024-01-25T08:54:11.367Z"
   },
   {
    "duration": 341,
    "start_time": "2024-01-25T08:54:11.607Z"
   },
   {
    "duration": 268,
    "start_time": "2024-01-25T08:54:11.949Z"
   },
   {
    "duration": 5,
    "start_time": "2024-01-25T08:54:46.691Z"
   },
   {
    "duration": 775,
    "start_time": "2024-01-25T08:54:46.698Z"
   },
   {
    "duration": 30,
    "start_time": "2024-01-25T08:54:47.475Z"
   },
   {
    "duration": 17,
    "start_time": "2024-01-25T08:54:47.507Z"
   },
   {
    "duration": 18,
    "start_time": "2024-01-25T08:54:47.525Z"
   },
   {
    "duration": 7,
    "start_time": "2024-01-25T08:54:47.573Z"
   },
   {
    "duration": 27,
    "start_time": "2024-01-25T08:54:47.582Z"
   },
   {
    "duration": 10,
    "start_time": "2024-01-25T08:54:47.610Z"
   },
   {
    "duration": 318,
    "start_time": "2024-01-25T08:54:47.625Z"
   },
   {
    "duration": 1160,
    "start_time": "2024-01-25T08:54:54.178Z"
   },
   {
    "duration": 71,
    "start_time": "2024-01-25T08:54:55.340Z"
   },
   {
    "duration": 22,
    "start_time": "2024-01-25T08:54:55.412Z"
   },
   {
    "duration": 29,
    "start_time": "2024-01-25T08:54:55.436Z"
   },
   {
    "duration": 16,
    "start_time": "2024-01-25T08:54:55.467Z"
   },
   {
    "duration": 5,
    "start_time": "2024-01-25T08:54:55.484Z"
   },
   {
    "duration": 7,
    "start_time": "2024-01-25T08:54:55.490Z"
   },
   {
    "duration": 17,
    "start_time": "2024-01-25T08:54:55.498Z"
   },
   {
    "duration": 13,
    "start_time": "2024-01-25T08:54:55.517Z"
   },
   {
    "duration": 45,
    "start_time": "2024-01-25T08:54:55.532Z"
   },
   {
    "duration": 13,
    "start_time": "2024-01-25T08:54:55.578Z"
   },
   {
    "duration": 168,
    "start_time": "2024-01-25T08:54:55.592Z"
   },
   {
    "duration": 90,
    "start_time": "2024-01-25T08:54:55.762Z"
   },
   {
    "duration": 184,
    "start_time": "2024-01-25T08:54:55.855Z"
   },
   {
    "duration": 161,
    "start_time": "2024-01-25T08:54:56.041Z"
   },
   {
    "duration": 295,
    "start_time": "2024-01-25T08:54:56.204Z"
   },
   {
    "duration": 228,
    "start_time": "2024-01-25T08:54:56.500Z"
   },
   {
    "duration": 287,
    "start_time": "2024-01-25T08:54:56.729Z"
   },
   {
    "duration": 247,
    "start_time": "2024-01-25T08:54:57.018Z"
   },
   {
    "duration": 145,
    "start_time": "2024-01-25T08:54:57.272Z"
   },
   {
    "duration": 218,
    "start_time": "2024-01-25T08:54:57.419Z"
   },
   {
    "duration": 14,
    "start_time": "2024-01-25T08:54:57.639Z"
   },
   {
    "duration": 44,
    "start_time": "2024-01-25T08:54:57.655Z"
   },
   {
    "duration": 6,
    "start_time": "2024-01-25T08:54:57.701Z"
   },
   {
    "duration": 28,
    "start_time": "2024-01-25T08:54:57.709Z"
   },
   {
    "duration": 42,
    "start_time": "2024-01-25T08:54:57.740Z"
   },
   {
    "duration": 321,
    "start_time": "2024-01-25T08:54:57.784Z"
   },
   {
    "duration": 232,
    "start_time": "2024-01-25T08:54:58.107Z"
   },
   {
    "duration": 335,
    "start_time": "2024-01-25T08:54:58.342Z"
   },
   {
    "duration": 235,
    "start_time": "2024-01-25T08:54:58.679Z"
   },
   {
    "duration": 5,
    "start_time": "2024-01-25T08:55:36.581Z"
   },
   {
    "duration": 37,
    "start_time": "2024-01-25T08:55:36.587Z"
   },
   {
    "duration": 51,
    "start_time": "2024-01-25T08:55:36.626Z"
   },
   {
    "duration": 20,
    "start_time": "2024-01-25T08:55:36.678Z"
   },
   {
    "duration": 16,
    "start_time": "2024-01-25T08:55:36.699Z"
   },
   {
    "duration": 7,
    "start_time": "2024-01-25T08:55:36.717Z"
   },
   {
    "duration": 5,
    "start_time": "2024-01-25T08:55:36.726Z"
   },
   {
    "duration": 41,
    "start_time": "2024-01-25T08:55:36.733Z"
   },
   {
    "duration": 308,
    "start_time": "2024-01-25T08:55:36.777Z"
   },
   {
    "duration": 31,
    "start_time": "2024-01-25T09:10:52.970Z"
   },
   {
    "duration": 474,
    "start_time": "2024-01-25T09:30:08.616Z"
   },
   {
    "duration": 298,
    "start_time": "2024-01-25T09:30:20.493Z"
   },
   {
    "duration": 326,
    "start_time": "2024-01-25T09:30:36.751Z"
   },
   {
    "duration": 38,
    "start_time": "2024-01-25T09:30:41.293Z"
   },
   {
    "duration": 36,
    "start_time": "2024-01-25T09:30:59.720Z"
   },
   {
    "duration": 25,
    "start_time": "2024-01-25T09:35:15.864Z"
   },
   {
    "duration": 41,
    "start_time": "2024-01-25T09:40:20.189Z"
   },
   {
    "duration": 18,
    "start_time": "2024-01-25T09:40:43.546Z"
   },
   {
    "duration": 19,
    "start_time": "2024-01-25T09:41:34.905Z"
   },
   {
    "duration": 34,
    "start_time": "2024-01-25T09:49:11.495Z"
   },
   {
    "duration": 8,
    "start_time": "2024-01-25T09:51:45.422Z"
   },
   {
    "duration": 7,
    "start_time": "2024-01-25T09:51:46.701Z"
   },
   {
    "duration": 9,
    "start_time": "2024-01-25T09:51:48.061Z"
   },
   {
    "duration": 1154,
    "start_time": "2024-01-25T09:52:53.739Z"
   },
   {
    "duration": 7,
    "start_time": "2024-01-25T09:53:03.350Z"
   },
   {
    "duration": 7,
    "start_time": "2024-01-25T09:53:05.100Z"
   },
   {
    "duration": 6,
    "start_time": "2024-01-25T09:53:10.587Z"
   },
   {
    "duration": 10,
    "start_time": "2024-01-25T09:54:53.540Z"
   },
   {
    "duration": 11,
    "start_time": "2024-01-25T09:55:35.147Z"
   },
   {
    "duration": 8,
    "start_time": "2024-01-25T09:56:10.783Z"
   },
   {
    "duration": 7,
    "start_time": "2024-01-25T09:56:45.865Z"
   },
   {
    "duration": 6,
    "start_time": "2024-01-25T09:59:18.218Z"
   },
   {
    "duration": 6,
    "start_time": "2024-01-25T09:59:19.889Z"
   },
   {
    "duration": 5,
    "start_time": "2024-01-25T09:59:50.509Z"
   },
   {
    "duration": 84,
    "start_time": "2024-01-25T10:00:28.480Z"
   },
   {
    "duration": 7,
    "start_time": "2024-01-25T10:00:32.629Z"
   },
   {
    "duration": 7,
    "start_time": "2024-01-25T10:01:37.706Z"
   },
   {
    "duration": 8,
    "start_time": "2024-01-25T10:01:54.716Z"
   },
   {
    "duration": 7,
    "start_time": "2024-01-25T10:03:21.723Z"
   },
   {
    "duration": 7,
    "start_time": "2024-01-25T10:03:25.277Z"
   },
   {
    "duration": 6,
    "start_time": "2024-01-25T10:04:05.233Z"
   },
   {
    "duration": 5,
    "start_time": "2024-01-25T10:04:14.110Z"
   },
   {
    "duration": 1237,
    "start_time": "2024-01-25T10:05:09.600Z"
   },
   {
    "duration": 8,
    "start_time": "2024-01-25T10:06:01.439Z"
   },
   {
    "duration": 7,
    "start_time": "2024-01-25T10:06:21.041Z"
   },
   {
    "duration": 399,
    "start_time": "2024-01-25T10:18:57.330Z"
   },
   {
    "duration": 253,
    "start_time": "2024-01-25T10:19:04.000Z"
   },
   {
    "duration": 247,
    "start_time": "2024-01-25T10:19:23.551Z"
   },
   {
    "duration": 275,
    "start_time": "2024-01-25T10:19:31.961Z"
   },
   {
    "duration": 247,
    "start_time": "2024-01-25T10:19:34.809Z"
   },
   {
    "duration": 348,
    "start_time": "2024-01-25T10:19:51.009Z"
   },
   {
    "duration": 296,
    "start_time": "2024-01-25T10:27:59.200Z"
   },
   {
    "duration": 132,
    "start_time": "2024-01-25T10:28:19.418Z"
   },
   {
    "duration": 301,
    "start_time": "2024-01-25T10:28:34.306Z"
   },
   {
    "duration": 234,
    "start_time": "2024-01-25T10:28:44.008Z"
   },
   {
    "duration": 1116,
    "start_time": "2024-01-25T16:20:49.665Z"
   },
   {
    "duration": 67,
    "start_time": "2024-01-25T16:20:50.783Z"
   },
   {
    "duration": 21,
    "start_time": "2024-01-25T16:20:50.851Z"
   },
   {
    "duration": 27,
    "start_time": "2024-01-25T16:20:50.874Z"
   },
   {
    "duration": 50,
    "start_time": "2024-01-25T16:20:50.903Z"
   },
   {
    "duration": 5,
    "start_time": "2024-01-25T16:20:50.955Z"
   },
   {
    "duration": 7,
    "start_time": "2024-01-25T16:20:50.962Z"
   },
   {
    "duration": 12,
    "start_time": "2024-01-25T16:20:50.970Z"
   },
   {
    "duration": 18,
    "start_time": "2024-01-25T16:20:50.984Z"
   },
   {
    "duration": 12,
    "start_time": "2024-01-25T16:20:51.005Z"
   },
   {
    "duration": 11,
    "start_time": "2024-01-25T16:20:51.018Z"
   },
   {
    "duration": 168,
    "start_time": "2024-01-25T16:20:51.031Z"
   },
   {
    "duration": 95,
    "start_time": "2024-01-25T16:20:51.201Z"
   },
   {
    "duration": 182,
    "start_time": "2024-01-25T16:20:51.298Z"
   },
   {
    "duration": 129,
    "start_time": "2024-01-25T16:20:51.482Z"
   },
   {
    "duration": 278,
    "start_time": "2024-01-25T16:20:51.613Z"
   },
   {
    "duration": 229,
    "start_time": "2024-01-25T16:20:51.894Z"
   },
   {
    "duration": 276,
    "start_time": "2024-01-25T16:20:52.125Z"
   },
   {
    "duration": 202,
    "start_time": "2024-01-25T16:20:52.403Z"
   },
   {
    "duration": 160,
    "start_time": "2024-01-25T16:20:52.607Z"
   },
   {
    "duration": 199,
    "start_time": "2024-01-25T16:20:52.769Z"
   },
   {
    "duration": 13,
    "start_time": "2024-01-25T16:20:52.970Z"
   },
   {
    "duration": 34,
    "start_time": "2024-01-25T16:20:52.993Z"
   },
   {
    "duration": 4,
    "start_time": "2024-01-25T16:20:53.029Z"
   },
   {
    "duration": 36,
    "start_time": "2024-01-25T16:20:53.034Z"
   },
   {
    "duration": 24,
    "start_time": "2024-01-25T16:20:53.072Z"
   },
   {
    "duration": 317,
    "start_time": "2024-01-25T16:20:53.098Z"
   },
   {
    "duration": 222,
    "start_time": "2024-01-25T16:20:53.420Z"
   },
   {
    "duration": 341,
    "start_time": "2024-01-25T16:20:53.644Z"
   },
   {
    "duration": 228,
    "start_time": "2024-01-25T16:20:53.987Z"
   },
   {
    "duration": 34280,
    "start_time": "2024-01-25T16:20:54.216Z"
   },
   {
    "duration": 36,
    "start_time": "2024-01-25T16:21:28.497Z"
   },
   {
    "duration": 16,
    "start_time": "2024-01-25T16:21:28.534Z"
   },
   {
    "duration": 122,
    "start_time": "2024-01-25T16:21:28.551Z"
   },
   {
    "duration": 0,
    "start_time": "2024-01-25T16:21:28.675Z"
   },
   {
    "duration": 0,
    "start_time": "2024-01-25T16:21:28.676Z"
   },
   {
    "duration": 0,
    "start_time": "2024-01-25T16:21:28.677Z"
   },
   {
    "duration": 0,
    "start_time": "2024-01-25T16:21:28.679Z"
   },
   {
    "duration": 17,
    "start_time": "2024-01-25T16:23:04.383Z"
   },
   {
    "duration": 32,
    "start_time": "2024-01-25T16:23:09.677Z"
   },
   {
    "duration": 8,
    "start_time": "2024-01-25T16:23:48.034Z"
   },
   {
    "duration": 8,
    "start_time": "2024-01-25T16:24:04.375Z"
   },
   {
    "duration": 7,
    "start_time": "2024-01-25T16:25:14.556Z"
   },
   {
    "duration": 52,
    "start_time": "2024-01-26T06:11:58.963Z"
   },
   {
    "duration": 1365,
    "start_time": "2024-01-26T06:12:03.969Z"
   },
   {
    "duration": 188,
    "start_time": "2024-01-26T06:12:05.337Z"
   },
   {
    "duration": 24,
    "start_time": "2024-01-26T06:12:05.526Z"
   },
   {
    "duration": 30,
    "start_time": "2024-01-26T06:12:05.552Z"
   },
   {
    "duration": 42,
    "start_time": "2024-01-26T06:12:05.584Z"
   },
   {
    "duration": 5,
    "start_time": "2024-01-26T06:12:05.627Z"
   },
   {
    "duration": 6,
    "start_time": "2024-01-26T06:12:05.634Z"
   },
   {
    "duration": 12,
    "start_time": "2024-01-26T06:12:05.641Z"
   },
   {
    "duration": 13,
    "start_time": "2024-01-26T06:12:05.654Z"
   },
   {
    "duration": 14,
    "start_time": "2024-01-26T06:12:05.668Z"
   },
   {
    "duration": 52,
    "start_time": "2024-01-26T06:12:05.683Z"
   },
   {
    "duration": 174,
    "start_time": "2024-01-26T06:12:05.737Z"
   },
   {
    "duration": 93,
    "start_time": "2024-01-26T06:12:05.912Z"
   },
   {
    "duration": 194,
    "start_time": "2024-01-26T06:12:06.008Z"
   },
   {
    "duration": 135,
    "start_time": "2024-01-26T06:12:06.203Z"
   },
   {
    "duration": 295,
    "start_time": "2024-01-26T06:12:06.340Z"
   },
   {
    "duration": 229,
    "start_time": "2024-01-26T06:12:06.637Z"
   },
   {
    "duration": 290,
    "start_time": "2024-01-26T06:12:06.868Z"
   },
   {
    "duration": 250,
    "start_time": "2024-01-26T06:12:07.160Z"
   },
   {
    "duration": 162,
    "start_time": "2024-01-26T06:12:07.412Z"
   },
   {
    "duration": 215,
    "start_time": "2024-01-26T06:12:07.576Z"
   },
   {
    "duration": 16,
    "start_time": "2024-01-26T06:12:07.793Z"
   },
   {
    "duration": 32,
    "start_time": "2024-01-26T06:12:07.822Z"
   },
   {
    "duration": 5,
    "start_time": "2024-01-26T06:12:07.856Z"
   },
   {
    "duration": 24,
    "start_time": "2024-01-26T06:12:07.863Z"
   },
   {
    "duration": 50,
    "start_time": "2024-01-26T06:12:07.889Z"
   },
   {
    "duration": 343,
    "start_time": "2024-01-26T06:12:07.940Z"
   },
   {
    "duration": 235,
    "start_time": "2024-01-26T06:12:08.285Z"
   },
   {
    "duration": 348,
    "start_time": "2024-01-26T06:12:08.523Z"
   },
   {
    "duration": 239,
    "start_time": "2024-01-26T06:12:08.873Z"
   },
   {
    "duration": 37268,
    "start_time": "2024-01-26T06:12:09.113Z"
   },
   {
    "duration": 51,
    "start_time": "2024-01-26T06:12:46.383Z"
   },
   {
    "duration": 19,
    "start_time": "2024-01-26T06:12:46.437Z"
   },
   {
    "duration": 19,
    "start_time": "2024-01-26T06:12:46.458Z"
   },
   {
    "duration": 63,
    "start_time": "2024-01-26T06:12:46.479Z"
   },
   {
    "duration": 9,
    "start_time": "2024-01-26T06:12:46.544Z"
   },
   {
    "duration": 8,
    "start_time": "2024-01-26T06:12:46.555Z"
   },
   {
    "duration": 13,
    "start_time": "2024-01-26T06:12:46.565Z"
   },
   {
    "duration": 1195,
    "start_time": "2024-01-26T06:14:15.132Z"
   },
   {
    "duration": 70,
    "start_time": "2024-01-26T06:14:16.330Z"
   },
   {
    "duration": 22,
    "start_time": "2024-01-26T06:14:16.402Z"
   },
   {
    "duration": 28,
    "start_time": "2024-01-26T06:14:16.426Z"
   },
   {
    "duration": 15,
    "start_time": "2024-01-26T06:14:16.456Z"
   },
   {
    "duration": 7,
    "start_time": "2024-01-26T06:14:16.473Z"
   },
   {
    "duration": 7,
    "start_time": "2024-01-26T06:14:16.481Z"
   },
   {
    "duration": 14,
    "start_time": "2024-01-26T06:14:16.523Z"
   },
   {
    "duration": 25,
    "start_time": "2024-01-26T06:14:16.539Z"
   },
   {
    "duration": 32,
    "start_time": "2024-01-26T06:14:16.566Z"
   },
   {
    "duration": 14,
    "start_time": "2024-01-26T06:14:16.600Z"
   },
   {
    "duration": 168,
    "start_time": "2024-01-26T06:14:16.616Z"
   },
   {
    "duration": 94,
    "start_time": "2024-01-26T06:14:16.786Z"
   },
   {
    "duration": 184,
    "start_time": "2024-01-26T06:14:16.884Z"
   },
   {
    "duration": 139,
    "start_time": "2024-01-26T06:14:17.070Z"
   },
   {
    "duration": 315,
    "start_time": "2024-01-26T06:14:17.211Z"
   },
   {
    "duration": 244,
    "start_time": "2024-01-26T06:14:17.528Z"
   },
   {
    "duration": 294,
    "start_time": "2024-01-26T06:14:17.774Z"
   },
   {
    "duration": 236,
    "start_time": "2024-01-26T06:14:18.070Z"
   },
   {
    "duration": 146,
    "start_time": "2024-01-26T06:14:18.307Z"
   },
   {
    "duration": 234,
    "start_time": "2024-01-26T06:14:18.455Z"
   },
   {
    "duration": 15,
    "start_time": "2024-01-26T06:14:18.691Z"
   },
   {
    "duration": 48,
    "start_time": "2024-01-26T06:14:18.708Z"
   },
   {
    "duration": 6,
    "start_time": "2024-01-26T06:14:18.758Z"
   },
   {
    "duration": 46,
    "start_time": "2024-01-26T06:14:18.765Z"
   },
   {
    "duration": 25,
    "start_time": "2024-01-26T06:14:18.813Z"
   },
   {
    "duration": 441,
    "start_time": "2024-01-26T06:14:18.839Z"
   },
   {
    "duration": 256,
    "start_time": "2024-01-26T06:14:19.282Z"
   },
   {
    "duration": 341,
    "start_time": "2024-01-26T06:14:19.540Z"
   },
   {
    "duration": 250,
    "start_time": "2024-01-26T06:14:19.883Z"
   },
   {
    "duration": 42,
    "start_time": "2024-01-26T06:14:20.135Z"
   },
   {
    "duration": 20,
    "start_time": "2024-01-26T06:14:20.179Z"
   },
   {
    "duration": 39,
    "start_time": "2024-01-26T06:14:20.200Z"
   },
   {
    "duration": 34,
    "start_time": "2024-01-26T06:14:20.241Z"
   },
   {
    "duration": 7,
    "start_time": "2024-01-26T06:14:20.277Z"
   },
   {
    "duration": 45,
    "start_time": "2024-01-26T06:14:20.286Z"
   },
   {
    "duration": 21,
    "start_time": "2024-01-26T06:14:20.333Z"
   }
  ],
  "kernelspec": {
   "display_name": "Python 3 (ipykernel)",
   "language": "python",
   "name": "python3"
  },
  "language_info": {
   "codemirror_mode": {
    "name": "ipython",
    "version": 3
   },
   "file_extension": ".py",
   "mimetype": "text/x-python",
   "name": "python",
   "nbconvert_exporter": "python",
   "pygments_lexer": "ipython3",
   "version": "3.9.5"
  },
  "toc": {
   "base_numbering": 1,
   "nav_menu": {},
   "number_sections": true,
   "sideBar": true,
   "skip_h1_title": true,
   "title_cell": "Table of Contents",
   "title_sidebar": "Contents",
   "toc_cell": false,
   "toc_position": {
    "height": "calc(100% - 180px)",
    "left": "10px",
    "top": "150px",
    "width": "364px"
   },
   "toc_section_display": true,
   "toc_window_display": true
  }
 },
 "nbformat": 4,
 "nbformat_minor": 5
}
